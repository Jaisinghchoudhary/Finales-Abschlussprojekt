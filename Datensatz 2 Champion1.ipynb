{
 "cells": [
  {
   "cell_type": "markdown",
   "id": "64406eca",
   "metadata": {},
   "source": [
    "### Imports"
   ]
  },
  {
   "cell_type": "code",
   "execution_count": 1,
   "id": "2db7e433",
   "metadata": {},
   "outputs": [],
   "source": [
    "import sys\n",
    "import pandas as pd\n",
    "import numpy as np\n",
    "import json\n",
    "import re"
   ]
  },
  {
   "cell_type": "markdown",
   "id": "569dd845",
   "metadata": {},
   "source": [
    "### Pfade & Encoding"
   ]
  },
  {
   "cell_type": "code",
   "execution_count": 2,
   "id": "2e3ea712",
   "metadata": {},
   "outputs": [],
   "source": [
    "data_path = \"./Hauptordner\"\n",
    "encoding = \"utf-8\""
   ]
  },
  {
   "cell_type": "markdown",
   "id": "faa2c4fd",
   "metadata": {},
   "source": [
    "### Zufallsseed für Reproduzierbarkeit"
   ]
  },
  {
   "cell_type": "code",
   "execution_count": 3,
   "id": "edbbbf85",
   "metadata": {},
   "outputs": [],
   "source": [
    "RANDOM_SEED = 42"
   ]
  },
  {
   "cell_type": "markdown",
   "id": "0e40175e",
   "metadata": {},
   "source": [
    "### Dataset 2: champion_info – Grundchecks\n",
    "- **Form & Größe**\n",
    "- **Spaltennamen** und **Datentypen**\n",
    "- **Erste Zeilen**\n",
    "- **Zufällige Stichprobe**\n",
    "- **Statistische Übersicht**\n",
    "- **Fehlende Werte**\n",
    "- **Duplikate**\n",
    "- **Eindeutigkeit von Schlüsseln**\n",
    "- **Min-/Max-Werte**\n",
    "- **Wertebereiche**\n",
    "- **Kardinalität**\n",
    "- **Kategorische Verteilungen**\n",
    "- **Auffälligkeiten markieren**\n",
    "- **Konsistenz zwischen Spalten**\n",
    "- **Komplett leere oder fast leere Spalten**\n",
    "- **Datums-/Zeitspalten prüfen**\n",
    "- **Zeichenketten in kategorischen Spalten prüfen**\n",
    "- **Patch-Version prüfen**\n",
    "- **Sonderzeichen in Namen prüfen**\n",
    "- **Key vs. Name Schreibweise prüfen**\n",
    "- **Titel auf Plausibilität prüfen**\n",
    "- **Namens-Eindeutigkeit**\n",
    "- **Prüfung auf Platzhalter-Champions**\n",
    "- **Tags-Spalte prüfen**\n",
    "- **Anzahl Tags pro Champion prüfen**\n",
    "- **Ausreißer Checks**"
   ]
  },
  {
   "cell_type": "markdown",
   "id": "d747d10c",
   "metadata": {},
   "source": [
    "### Form & Größe"
   ]
  },
  {
   "cell_type": "code",
   "execution_count": 4,
   "id": "e852e5c3",
   "metadata": {},
   "outputs": [
    {
     "data": {
      "text/plain": [
       "(138, 3)"
      ]
     },
     "execution_count": 4,
     "metadata": {},
     "output_type": "execute_result"
    }
   ],
   "source": [
    "pfad = r\"D:\\Python\\Projektarbeit\\Hauptordner\\champion_info.json\"\n",
    "df_champ1 = pd.read_json(pfad)\n",
    "df_champ1.shape"
   ]
  },
  {
   "cell_type": "markdown",
   "id": "efe1d178",
   "metadata": {},
   "source": [
    "### Spaltennamen und Datentypen"
   ]
  },
  {
   "cell_type": "code",
   "execution_count": 5,
   "id": "f7c243f2",
   "metadata": {},
   "outputs": [
    {
     "data": {
      "text/plain": [
       "type       object\n",
       "version    object\n",
       "data       object\n",
       "dtype: object"
      ]
     },
     "execution_count": 5,
     "metadata": {},
     "output_type": "execute_result"
    }
   ],
   "source": [
    "df_champ1.dtypes"
   ]
  },
  {
   "cell_type": "markdown",
   "id": "4f21a320",
   "metadata": {},
   "source": [
    "### Erstenzeilen anzeigen"
   ]
  },
  {
   "cell_type": "code",
   "execution_count": 6,
   "id": "b4ae2eb2",
   "metadata": {},
   "outputs": [
    {
     "data": {
      "text/html": [
       "<div>\n",
       "<style scoped>\n",
       "    .dataframe tbody tr th:only-of-type {\n",
       "        vertical-align: middle;\n",
       "    }\n",
       "\n",
       "    .dataframe tbody tr th {\n",
       "        vertical-align: top;\n",
       "    }\n",
       "\n",
       "    .dataframe thead th {\n",
       "        text-align: right;\n",
       "    }\n",
       "</style>\n",
       "<table border=\"1\" class=\"dataframe\">\n",
       "  <thead>\n",
       "    <tr style=\"text-align: right;\">\n",
       "      <th></th>\n",
       "      <th>type</th>\n",
       "      <th>version</th>\n",
       "      <th>data</th>\n",
       "    </tr>\n",
       "  </thead>\n",
       "  <tbody>\n",
       "    <tr>\n",
       "      <th>1</th>\n",
       "      <td>champion</td>\n",
       "      <td>7.17.2</td>\n",
       "      <td>{'title': 'the Dark Child', 'id': 1, 'key': 'A...</td>\n",
       "    </tr>\n",
       "    <tr>\n",
       "      <th>2</th>\n",
       "      <td>champion</td>\n",
       "      <td>7.17.2</td>\n",
       "      <td>{'title': 'the Berserker', 'id': 2, 'key': 'Ol...</td>\n",
       "    </tr>\n",
       "    <tr>\n",
       "      <th>3</th>\n",
       "      <td>champion</td>\n",
       "      <td>7.17.2</td>\n",
       "      <td>{'title': 'the Colossus', 'id': 3, 'key': 'Gal...</td>\n",
       "    </tr>\n",
       "    <tr>\n",
       "      <th>4</th>\n",
       "      <td>champion</td>\n",
       "      <td>7.17.2</td>\n",
       "      <td>{'title': 'the Card Master', 'id': 4, 'key': '...</td>\n",
       "    </tr>\n",
       "    <tr>\n",
       "      <th>5</th>\n",
       "      <td>champion</td>\n",
       "      <td>7.17.2</td>\n",
       "      <td>{'title': 'the Seneschal of Demacia', 'id': 5,...</td>\n",
       "    </tr>\n",
       "  </tbody>\n",
       "</table>\n",
       "</div>"
      ],
      "text/plain": [
       "       type version                                               data\n",
       "1  champion  7.17.2  {'title': 'the Dark Child', 'id': 1, 'key': 'A...\n",
       "2  champion  7.17.2  {'title': 'the Berserker', 'id': 2, 'key': 'Ol...\n",
       "3  champion  7.17.2  {'title': 'the Colossus', 'id': 3, 'key': 'Gal...\n",
       "4  champion  7.17.2  {'title': 'the Card Master', 'id': 4, 'key': '...\n",
       "5  champion  7.17.2  {'title': 'the Seneschal of Demacia', 'id': 5,..."
      ]
     },
     "execution_count": 6,
     "metadata": {},
     "output_type": "execute_result"
    }
   ],
   "source": [
    "df_champ1.head()"
   ]
  },
  {
   "cell_type": "markdown",
   "id": "ba3206a5",
   "metadata": {},
   "source": [
    "### Zufällige Stichprobe"
   ]
  },
  {
   "cell_type": "code",
   "execution_count": 7,
   "id": "313591aa",
   "metadata": {},
   "outputs": [
    {
     "data": {
      "text/html": [
       "<div>\n",
       "<style scoped>\n",
       "    .dataframe tbody tr th:only-of-type {\n",
       "        vertical-align: middle;\n",
       "    }\n",
       "\n",
       "    .dataframe tbody tr th {\n",
       "        vertical-align: top;\n",
       "    }\n",
       "\n",
       "    .dataframe thead th {\n",
       "        text-align: right;\n",
       "    }\n",
       "</style>\n",
       "<table border=\"1\" class=\"dataframe\">\n",
       "  <thead>\n",
       "    <tr style=\"text-align: right;\">\n",
       "      <th></th>\n",
       "      <th>type</th>\n",
       "      <th>version</th>\n",
       "      <th>data</th>\n",
       "    </tr>\n",
       "  </thead>\n",
       "  <tbody>\n",
       "    <tr>\n",
       "      <th>36</th>\n",
       "      <td>champion</td>\n",
       "      <td>7.17.2</td>\n",
       "      <td>{'title': 'the Madman of Zaun', 'id': 36, 'key...</td>\n",
       "    </tr>\n",
       "    <tr>\n",
       "      <th>34</th>\n",
       "      <td>champion</td>\n",
       "      <td>7.17.2</td>\n",
       "      <td>{'title': 'the Cryophoenix', 'id': 34, 'key': ...</td>\n",
       "    </tr>\n",
       "    <tr>\n",
       "      <th>89</th>\n",
       "      <td>champion</td>\n",
       "      <td>7.17.2</td>\n",
       "      <td>{'title': 'the Radiant Dawn', 'id': 89, 'key':...</td>\n",
       "    </tr>\n",
       "    <tr>\n",
       "      <th>6</th>\n",
       "      <td>champion</td>\n",
       "      <td>7.17.2</td>\n",
       "      <td>{'title': 'the Dreadnought', 'id': 6, 'key': '...</td>\n",
       "    </tr>\n",
       "    <tr>\n",
       "      <th>20</th>\n",
       "      <td>champion</td>\n",
       "      <td>7.17.2</td>\n",
       "      <td>{'title': 'the Yeti Rider', 'id': 20, 'key': '...</td>\n",
       "    </tr>\n",
       "  </tbody>\n",
       "</table>\n",
       "</div>"
      ],
      "text/plain": [
       "        type version                                               data\n",
       "36  champion  7.17.2  {'title': 'the Madman of Zaun', 'id': 36, 'key...\n",
       "34  champion  7.17.2  {'title': 'the Cryophoenix', 'id': 34, 'key': ...\n",
       "89  champion  7.17.2  {'title': 'the Radiant Dawn', 'id': 89, 'key':...\n",
       "6   champion  7.17.2  {'title': 'the Dreadnought', 'id': 6, 'key': '...\n",
       "20  champion  7.17.2  {'title': 'the Yeti Rider', 'id': 20, 'key': '..."
      ]
     },
     "execution_count": 7,
     "metadata": {},
     "output_type": "execute_result"
    }
   ],
   "source": [
    "df_champ1.sample(5, random_state=1)"
   ]
  },
  {
   "cell_type": "markdown",
   "id": "7be633f0",
   "metadata": {},
   "source": [
    "### Statische Übersicht"
   ]
  },
  {
   "cell_type": "code",
   "execution_count": 8,
   "id": "773084ba",
   "metadata": {},
   "outputs": [
    {
     "data": {
      "text/plain": [
       "<bound method NDFrame.describe of          type version                                               data\n",
       "1    champion  7.17.2  {'title': 'the Dark Child', 'id': 1, 'key': 'A...\n",
       "2    champion  7.17.2  {'title': 'the Berserker', 'id': 2, 'key': 'Ol...\n",
       "3    champion  7.17.2  {'title': 'the Colossus', 'id': 3, 'key': 'Gal...\n",
       "4    champion  7.17.2  {'title': 'the Card Master', 'id': 4, 'key': '...\n",
       "5    champion  7.17.2  {'title': 'the Seneschal of Demacia', 'id': 5,...\n",
       "..        ...     ...                                                ...\n",
       "429  champion  7.17.2  {'title': 'the Spear of Vengeance', 'id': 429,...\n",
       "432  champion  7.17.2  {'title': 'the Wandering Caretaker', 'id': 432...\n",
       "497  champion  7.17.2  {'title': 'The Charmer', 'id': 497, 'key': 'Ra...\n",
       "498  champion  7.17.2  {'title': 'the Rebel', 'id': 498, 'key': 'Xaya...\n",
       "516  champion  7.17.2  {'title': 'The Fire below the Mountain', 'id':...\n",
       "\n",
       "[138 rows x 3 columns]>"
      ]
     },
     "execution_count": 8,
     "metadata": {},
     "output_type": "execute_result"
    }
   ],
   "source": [
    "df_champ1.describe"
   ]
  },
  {
   "cell_type": "markdown",
   "id": "4cdc42da",
   "metadata": {},
   "source": [
    "### Fehlende Werte"
   ]
  },
  {
   "cell_type": "code",
   "execution_count": 9,
   "id": "0b15893e",
   "metadata": {},
   "outputs": [
    {
     "data": {
      "text/plain": [
       "type       0\n",
       "version    0\n",
       "data       0\n",
       "dtype: int64"
      ]
     },
     "execution_count": 9,
     "metadata": {},
     "output_type": "execute_result"
    }
   ],
   "source": [
    "df_champ1.isnull().sum()"
   ]
  },
  {
   "cell_type": "markdown",
   "id": "7a0d0a52",
   "metadata": {},
   "source": [
    "### Duplikate überprüfen"
   ]
  },
  {
   "cell_type": "code",
   "execution_count": 10,
   "id": "63e685b2",
   "metadata": {},
   "outputs": [
    {
     "data": {
      "text/plain": [
       "np.int64(0)"
      ]
     },
     "execution_count": 10,
     "metadata": {},
     "output_type": "execute_result"
    }
   ],
   "source": [
    "pfad = r\"D:\\Python\\Projektarbeit\\Hauptordner\\champion_info.json\"\n",
    "df_champ1 = pd.read_json(pfad)\n",
    "df_champ1 = pd.json_normalize(df_champ1['data'])\n",
    "df_champ1.duplicated().sum()"
   ]
  },
  {
   "cell_type": "markdown",
   "id": "d0d44fbb",
   "metadata": {},
   "source": [
    "### Eindeutigkeit von Schlüssel"
   ]
  },
  {
   "cell_type": "code",
   "execution_count": 11,
   "id": "50cf8076",
   "metadata": {},
   "outputs": [
    {
     "data": {
      "text/plain": [
       "True"
      ]
     },
     "execution_count": 11,
     "metadata": {},
     "output_type": "execute_result"
    }
   ],
   "source": [
    "df_champ1['key'].is_unique"
   ]
  },
  {
   "cell_type": "markdown",
   "id": "1305a3c6",
   "metadata": {},
   "source": [
    "### MIN-/MAX-Werte je Spalte"
   ]
  },
  {
   "cell_type": "code",
   "execution_count": 12,
   "id": "59455dd7",
   "metadata": {},
   "outputs": [
    {
     "data": {
      "text/html": [
       "<div>\n",
       "<style scoped>\n",
       "    .dataframe tbody tr th:only-of-type {\n",
       "        vertical-align: middle;\n",
       "    }\n",
       "\n",
       "    .dataframe tbody tr th {\n",
       "        vertical-align: top;\n",
       "    }\n",
       "\n",
       "    .dataframe thead th {\n",
       "        text-align: right;\n",
       "    }\n",
       "</style>\n",
       "<table border=\"1\" class=\"dataframe\">\n",
       "  <thead>\n",
       "    <tr style=\"text-align: right;\">\n",
       "      <th></th>\n",
       "      <th>id</th>\n",
       "    </tr>\n",
       "  </thead>\n",
       "  <tbody>\n",
       "    <tr>\n",
       "      <th>min</th>\n",
       "      <td>1.0</td>\n",
       "    </tr>\n",
       "    <tr>\n",
       "      <th>max</th>\n",
       "      <td>516.0</td>\n",
       "    </tr>\n",
       "  </tbody>\n",
       "</table>\n",
       "</div>"
      ],
      "text/plain": [
       "        id\n",
       "min    1.0\n",
       "max  516.0"
      ]
     },
     "execution_count": 12,
     "metadata": {},
     "output_type": "execute_result"
    }
   ],
   "source": [
    "df_champ1.describe().loc[['min', 'max']]"
   ]
  },
  {
   "cell_type": "markdown",
   "id": "9f397f6b",
   "metadata": {},
   "source": [
    "### Wertebereiche"
   ]
  },
  {
   "cell_type": "code",
   "execution_count": 13,
   "id": "b4fa2aa8",
   "metadata": {},
   "outputs": [
    {
     "data": {
      "text/html": [
       "<div>\n",
       "<style scoped>\n",
       "    .dataframe tbody tr th:only-of-type {\n",
       "        vertical-align: middle;\n",
       "    }\n",
       "\n",
       "    .dataframe tbody tr th {\n",
       "        vertical-align: top;\n",
       "    }\n",
       "\n",
       "    .dataframe thead th {\n",
       "        text-align: right;\n",
       "    }\n",
       "</style>\n",
       "<table border=\"1\" class=\"dataframe\">\n",
       "  <thead>\n",
       "    <tr style=\"text-align: right;\">\n",
       "      <th></th>\n",
       "      <th>id</th>\n",
       "    </tr>\n",
       "  </thead>\n",
       "  <tbody>\n",
       "    <tr>\n",
       "      <th>count</th>\n",
       "      <td>138.000000</td>\n",
       "    </tr>\n",
       "    <tr>\n",
       "      <th>mean</th>\n",
       "      <td>108.666667</td>\n",
       "    </tr>\n",
       "    <tr>\n",
       "      <th>std</th>\n",
       "      <td>111.363634</td>\n",
       "    </tr>\n",
       "    <tr>\n",
       "      <th>min</th>\n",
       "      <td>1.000000</td>\n",
       "    </tr>\n",
       "    <tr>\n",
       "      <th>25%</th>\n",
       "      <td>35.250000</td>\n",
       "    </tr>\n",
       "    <tr>\n",
       "      <th>50%</th>\n",
       "      <td>78.500000</td>\n",
       "    </tr>\n",
       "    <tr>\n",
       "      <th>75%</th>\n",
       "      <td>126.750000</td>\n",
       "    </tr>\n",
       "    <tr>\n",
       "      <th>max</th>\n",
       "      <td>516.000000</td>\n",
       "    </tr>\n",
       "  </tbody>\n",
       "</table>\n",
       "</div>"
      ],
      "text/plain": [
       "               id\n",
       "count  138.000000\n",
       "mean   108.666667\n",
       "std    111.363634\n",
       "min      1.000000\n",
       "25%     35.250000\n",
       "50%     78.500000\n",
       "75%    126.750000\n",
       "max    516.000000"
      ]
     },
     "execution_count": 13,
     "metadata": {},
     "output_type": "execute_result"
    }
   ],
   "source": [
    "df_champ1.describe()"
   ]
  },
  {
   "cell_type": "markdown",
   "id": "a0ffd945",
   "metadata": {},
   "source": [
    "### Kardinalität der Spalten"
   ]
  },
  {
   "cell_type": "code",
   "execution_count": 14,
   "id": "7cbe768c",
   "metadata": {},
   "outputs": [
    {
     "data": {
      "text/plain": [
       "title    138\n",
       "id       138\n",
       "key      138\n",
       "name     138\n",
       "dtype: int64"
      ]
     },
     "execution_count": 14,
     "metadata": {},
     "output_type": "execute_result"
    }
   ],
   "source": [
    "df_champ1.nunique()"
   ]
  },
  {
   "cell_type": "markdown",
   "id": "001ea0ed",
   "metadata": {},
   "source": [
    "### Kategorische Verteilungen"
   ]
  },
  {
   "cell_type": "code",
   "execution_count": 15,
   "id": "d309691d",
   "metadata": {},
   "outputs": [],
   "source": [
    "pfad = r\"D:\\Python\\Projektarbeit\\Hauptordner\\champion_info.json\"\n",
    "with open(pfad, encoding='utf-8') as f:\n",
    "    raw = json.load(f)\n",
    "champ_dict = raw['data']\n",
    "champ_liste = list(champ_dict.values())\n",
    "\n",
    "df_champ = pd.json_normalize(champ_liste)"
   ]
  },
  {
   "cell_type": "markdown",
   "id": "dcce483a",
   "metadata": {},
   "source": [
    "### Auffälligkeiten markieren"
   ]
  },
  {
   "cell_type": "code",
   "execution_count": 16,
   "id": "b6ce630b",
   "metadata": {},
   "outputs": [
    {
     "data": {
      "text/html": [
       "<div>\n",
       "<style scoped>\n",
       "    .dataframe tbody tr th:only-of-type {\n",
       "        vertical-align: middle;\n",
       "    }\n",
       "\n",
       "    .dataframe tbody tr th {\n",
       "        vertical-align: top;\n",
       "    }\n",
       "\n",
       "    .dataframe thead th {\n",
       "        text-align: right;\n",
       "    }\n",
       "</style>\n",
       "<table border=\"1\" class=\"dataframe\">\n",
       "  <thead>\n",
       "    <tr style=\"text-align: right;\">\n",
       "      <th></th>\n",
       "      <th>title</th>\n",
       "      <th>id</th>\n",
       "      <th>key</th>\n",
       "      <th>name</th>\n",
       "      <th>auffällig_leer</th>\n",
       "      <th>auffällig_doppelt</th>\n",
       "      <th>auffällig_titel</th>\n",
       "    </tr>\n",
       "  </thead>\n",
       "  <tbody>\n",
       "  </tbody>\n",
       "</table>\n",
       "</div>"
      ],
      "text/plain": [
       "Empty DataFrame\n",
       "Columns: [title, id, key, name, auffällig_leer, auffällig_doppelt, auffällig_titel]\n",
       "Index: []"
      ]
     },
     "execution_count": 16,
     "metadata": {},
     "output_type": "execute_result"
    }
   ],
   "source": [
    "df_champ1['auffällig_leer'] = df_champ1.isnull().any(axis=1)\n",
    "df_champ1['auffällig_doppelt'] = df_champ1.duplicated(subset='id', keep=False)\n",
    "df_champ1['auffällig_titel'] = df_champ1['title'].str.len() > 50\n",
    "df_champ1[df_champ1[['auffällig_leer', 'auffällig_doppelt', 'auffällig_titel']].any(axis=1)]"
   ]
  },
  {
   "cell_type": "markdown",
   "id": "c76ca40b",
   "metadata": {},
   "source": [
    "### Konsistenz zwischen Spalten"
   ]
  },
  {
   "cell_type": "code",
   "execution_count": 17,
   "id": "89180ee0",
   "metadata": {},
   "outputs": [
    {
     "data": {
      "text/html": [
       "<div>\n",
       "<style scoped>\n",
       "    .dataframe tbody tr th:only-of-type {\n",
       "        vertical-align: middle;\n",
       "    }\n",
       "\n",
       "    .dataframe tbody tr th {\n",
       "        vertical-align: top;\n",
       "    }\n",
       "\n",
       "    .dataframe thead th {\n",
       "        text-align: right;\n",
       "    }\n",
       "</style>\n",
       "<table border=\"1\" class=\"dataframe\">\n",
       "  <thead>\n",
       "    <tr style=\"text-align: right;\">\n",
       "      <th></th>\n",
       "      <th>title</th>\n",
       "      <th>id</th>\n",
       "      <th>key</th>\n",
       "      <th>name</th>\n",
       "      <th>auffällig_leer</th>\n",
       "      <th>auffällig_doppelt</th>\n",
       "      <th>auffällig_titel</th>\n",
       "      <th>konsistenz_id_key</th>\n",
       "    </tr>\n",
       "  </thead>\n",
       "  <tbody>\n",
       "    <tr>\n",
       "      <th>0</th>\n",
       "      <td>the Dark Child</td>\n",
       "      <td>1</td>\n",
       "      <td>Annie</td>\n",
       "      <td>Annie</td>\n",
       "      <td>False</td>\n",
       "      <td>False</td>\n",
       "      <td>False</td>\n",
       "      <td>False</td>\n",
       "    </tr>\n",
       "    <tr>\n",
       "      <th>1</th>\n",
       "      <td>the Berserker</td>\n",
       "      <td>2</td>\n",
       "      <td>Olaf</td>\n",
       "      <td>Olaf</td>\n",
       "      <td>False</td>\n",
       "      <td>False</td>\n",
       "      <td>False</td>\n",
       "      <td>False</td>\n",
       "    </tr>\n",
       "    <tr>\n",
       "      <th>2</th>\n",
       "      <td>the Colossus</td>\n",
       "      <td>3</td>\n",
       "      <td>Galio</td>\n",
       "      <td>Galio</td>\n",
       "      <td>False</td>\n",
       "      <td>False</td>\n",
       "      <td>False</td>\n",
       "      <td>False</td>\n",
       "    </tr>\n",
       "    <tr>\n",
       "      <th>3</th>\n",
       "      <td>the Card Master</td>\n",
       "      <td>4</td>\n",
       "      <td>TwistedFate</td>\n",
       "      <td>Twisted Fate</td>\n",
       "      <td>False</td>\n",
       "      <td>False</td>\n",
       "      <td>False</td>\n",
       "      <td>False</td>\n",
       "    </tr>\n",
       "    <tr>\n",
       "      <th>4</th>\n",
       "      <td>the Seneschal of Demacia</td>\n",
       "      <td>5</td>\n",
       "      <td>XinZhao</td>\n",
       "      <td>Xin Zhao</td>\n",
       "      <td>False</td>\n",
       "      <td>False</td>\n",
       "      <td>False</td>\n",
       "      <td>False</td>\n",
       "    </tr>\n",
       "    <tr>\n",
       "      <th>...</th>\n",
       "      <td>...</td>\n",
       "      <td>...</td>\n",
       "      <td>...</td>\n",
       "      <td>...</td>\n",
       "      <td>...</td>\n",
       "      <td>...</td>\n",
       "      <td>...</td>\n",
       "      <td>...</td>\n",
       "    </tr>\n",
       "    <tr>\n",
       "      <th>133</th>\n",
       "      <td>the Spear of Vengeance</td>\n",
       "      <td>429</td>\n",
       "      <td>Kalista</td>\n",
       "      <td>Kalista</td>\n",
       "      <td>False</td>\n",
       "      <td>False</td>\n",
       "      <td>False</td>\n",
       "      <td>False</td>\n",
       "    </tr>\n",
       "    <tr>\n",
       "      <th>134</th>\n",
       "      <td>the Wandering Caretaker</td>\n",
       "      <td>432</td>\n",
       "      <td>Bard</td>\n",
       "      <td>Bard</td>\n",
       "      <td>False</td>\n",
       "      <td>False</td>\n",
       "      <td>False</td>\n",
       "      <td>False</td>\n",
       "    </tr>\n",
       "    <tr>\n",
       "      <th>135</th>\n",
       "      <td>The Charmer</td>\n",
       "      <td>497</td>\n",
       "      <td>Rakan</td>\n",
       "      <td>Rakan</td>\n",
       "      <td>False</td>\n",
       "      <td>False</td>\n",
       "      <td>False</td>\n",
       "      <td>False</td>\n",
       "    </tr>\n",
       "    <tr>\n",
       "      <th>136</th>\n",
       "      <td>the Rebel</td>\n",
       "      <td>498</td>\n",
       "      <td>Xayah</td>\n",
       "      <td>Xayah</td>\n",
       "      <td>False</td>\n",
       "      <td>False</td>\n",
       "      <td>False</td>\n",
       "      <td>False</td>\n",
       "    </tr>\n",
       "    <tr>\n",
       "      <th>137</th>\n",
       "      <td>The Fire below the Mountain</td>\n",
       "      <td>516</td>\n",
       "      <td>Ornn</td>\n",
       "      <td>Ornn</td>\n",
       "      <td>False</td>\n",
       "      <td>False</td>\n",
       "      <td>False</td>\n",
       "      <td>False</td>\n",
       "    </tr>\n",
       "  </tbody>\n",
       "</table>\n",
       "<p>138 rows × 8 columns</p>\n",
       "</div>"
      ],
      "text/plain": [
       "                           title   id          key          name  \\\n",
       "0                 the Dark Child    1        Annie         Annie   \n",
       "1                  the Berserker    2         Olaf          Olaf   \n",
       "2                   the Colossus    3        Galio         Galio   \n",
       "3                the Card Master    4  TwistedFate  Twisted Fate   \n",
       "4       the Seneschal of Demacia    5      XinZhao      Xin Zhao   \n",
       "..                           ...  ...          ...           ...   \n",
       "133       the Spear of Vengeance  429      Kalista       Kalista   \n",
       "134      the Wandering Caretaker  432         Bard          Bard   \n",
       "135                  The Charmer  497        Rakan         Rakan   \n",
       "136                    the Rebel  498        Xayah         Xayah   \n",
       "137  The Fire below the Mountain  516         Ornn          Ornn   \n",
       "\n",
       "     auffällig_leer  auffällig_doppelt  auffällig_titel  konsistenz_id_key  \n",
       "0             False              False            False              False  \n",
       "1             False              False            False              False  \n",
       "2             False              False            False              False  \n",
       "3             False              False            False              False  \n",
       "4             False              False            False              False  \n",
       "..              ...                ...              ...                ...  \n",
       "133           False              False            False              False  \n",
       "134           False              False            False              False  \n",
       "135           False              False            False              False  \n",
       "136           False              False            False              False  \n",
       "137           False              False            False              False  \n",
       "\n",
       "[138 rows x 8 columns]"
      ]
     },
     "execution_count": 17,
     "metadata": {},
     "output_type": "execute_result"
    }
   ],
   "source": [
    "df_champ1['konsistenz_id_key'] = df_champ1['id'].astype(str) == df_champ1['key'].astype(str)\n",
    "df_champ1[~df_champ1['konsistenz_id_key']]"
   ]
  },
  {
   "cell_type": "markdown",
   "id": "604bdb31",
   "metadata": {},
   "source": [
    "### Komplett leere oder fast leere Spalten"
   ]
  },
  {
   "cell_type": "code",
   "execution_count": 18,
   "id": "ebb64637",
   "metadata": {},
   "outputs": [
    {
     "name": "stdout",
     "output_type": "stream",
     "text": [
      "Komplett leere Spalten: []\n",
      "Fast leere Spalten (>90% NaN): []\n"
     ]
    }
   ],
   "source": [
    "leere_spalten = df_champ1.columns[df_champ1.isnull().all()]\n",
    "fast_leere_spalten = df_champ1.columns[df_champ1.isnull().mean() > 0.9]\n",
    "\n",
    "print(\"Komplett leere Spalten:\", list(leere_spalten))\n",
    "print(\"Fast leere Spalten (>90% NaN):\", list(fast_leere_spalten))"
   ]
  },
  {
   "cell_type": "markdown",
   "id": "3556211e",
   "metadata": {},
   "source": [
    "### Datums-/Zeitspalten prüfen"
   ]
  },
  {
   "cell_type": "code",
   "execution_count": 19,
   "id": "b54b4dfc",
   "metadata": {},
   "outputs": [
    {
     "name": "stdout",
     "output_type": "stream",
     "text": [
      "Keine Datums-/Zeitspalten vorhanden.\n"
     ]
    }
   ],
   "source": [
    "datum_spalten = df_champ1.select_dtypes(include=['datetime64', 'datetime64[ns]']).columns\n",
    "if len(datum_spalten) == 0:\n",
    "    print(\"Keine Datums-/Zeitspalten vorhanden.\")\n",
    "else:\n",
    "    print(\"Datums-/Zeitspalten:\", list(datum_spalten))\n",
    "    for sp in datum_spalten:\n",
    "        print(sp, \"→ Min:\", df_champ1[sp].min(), \"| Max:\", df_champ1[sp].max())"
   ]
  },
  {
   "cell_type": "markdown",
   "id": "5fb218b6",
   "metadata": {},
   "source": [
    "### Zeichenketten in kategorischen Spalten prüfen"
   ]
  },
  {
   "cell_type": "code",
   "execution_count": 20,
   "id": "63fc2902",
   "metadata": {},
   "outputs": [
    {
     "name": "stdout",
     "output_type": "stream",
     "text": [
      "Gefundene Textspalten: ['title', 'key', 'name']\n"
     ]
    }
   ],
   "source": [
    "kategorie_spalten = df_champ1.select_dtypes(include=['object']).columns\n",
    "print(\"Gefundene Textspalten:\", list(kategorie_spalten))"
   ]
  },
  {
   "cell_type": "code",
   "execution_count": 21,
   "id": "a4adacba",
   "metadata": {},
   "outputs": [
    {
     "name": "stdout",
     "output_type": "stream",
     "text": [
      "Spalte: title\n",
      "count    138.000000\n",
      "mean      17.913043\n",
      "std        3.817895\n",
      "min        9.000000\n",
      "25%       15.000000\n",
      "50%       18.000000\n",
      "75%       21.000000\n",
      "max       27.000000\n",
      "Name: title, dtype: float64\n",
      "----------------------------------------\n",
      "Spalte: key\n",
      "count    138.000000\n",
      "mean       6.072464\n",
      "std        1.928040\n",
      "min        2.000000\n",
      "25%        5.000000\n",
      "50%        6.000000\n",
      "75%        7.000000\n",
      "max       12.000000\n",
      "Name: key, dtype: float64\n",
      "----------------------------------------\n",
      "Spalte: name\n",
      "count    138.000000\n",
      "mean       6.152174\n",
      "std        2.021426\n",
      "min        2.000000\n",
      "25%        5.000000\n",
      "50%        6.000000\n",
      "75%        7.000000\n",
      "max       12.000000\n",
      "Name: name, dtype: float64\n",
      "----------------------------------------\n"
     ]
    }
   ],
   "source": [
    "kategorie_spalten = df_champ1.select_dtypes(include=['object']).columns\n",
    "if len(kategorie_spalten) == 0:\n",
    "    print(\"Keine kategorischen (Text-)Spalten gefunden.\")\n",
    "else:\n",
    "    for spalte in kategorie_spalten:\n",
    "        print(f\"Spalte: {spalte}\")\n",
    "        print(df_champ1[spalte].str.len().describe())\n",
    "        print(\"-\" * 40)"
   ]
  },
  {
   "cell_type": "markdown",
   "id": "b7bad85f",
   "metadata": {},
   "source": [
    "### Patch-Version"
   ]
  },
  {
   "cell_type": "code",
   "execution_count": 22,
   "id": "f9ada93a",
   "metadata": {},
   "outputs": [
    {
     "name": "stdout",
     "output_type": "stream",
     "text": [
      "Verschiedene Patch-Versionen:\n",
      "version\n",
      "7.17.2    138\n",
      "Name: count, dtype: int64\n"
     ]
    }
   ],
   "source": [
    "pfad = r\"D:\\Python\\Projektarbeit\\Hauptordner\\champion_info.json\"\n",
    "with open(pfad, encoding='utf-8') as f:\n",
    "    roh = json.load(f)\n",
    "champ_dict = roh['data']\n",
    "champ_liste = list(champ_dict.values())\n",
    "df_champ1 = pd.json_normalize(champ_liste)\n",
    "df_champ1['version'] = roh['version']\n",
    "\n",
    "print(\"Verschiedene Patch-Versionen:\")\n",
    "print(df_champ1['version'].value_counts())"
   ]
  },
  {
   "cell_type": "markdown",
   "id": "14eb5449",
   "metadata": {},
   "source": [
    "### Sonderzeichen in Namen"
   ]
  },
  {
   "cell_type": "code",
   "execution_count": 23,
   "id": "13a08b83",
   "metadata": {},
   "outputs": [
    {
     "data": {
      "text/html": [
       "<div>\n",
       "<style scoped>\n",
       "    .dataframe tbody tr th:only-of-type {\n",
       "        vertical-align: middle;\n",
       "    }\n",
       "\n",
       "    .dataframe tbody tr th {\n",
       "        vertical-align: top;\n",
       "    }\n",
       "\n",
       "    .dataframe thead th {\n",
       "        text-align: right;\n",
       "    }\n",
       "</style>\n",
       "<table border=\"1\" class=\"dataframe\">\n",
       "  <thead>\n",
       "    <tr style=\"text-align: right;\">\n",
       "      <th></th>\n",
       "      <th>title</th>\n",
       "      <th>id</th>\n",
       "      <th>key</th>\n",
       "      <th>name</th>\n",
       "      <th>version</th>\n",
       "    </tr>\n",
       "  </thead>\n",
       "  <tbody>\n",
       "    <tr>\n",
       "      <th>30</th>\n",
       "      <td>the Terror of the Void</td>\n",
       "      <td>31</td>\n",
       "      <td>Chogath</td>\n",
       "      <td>Cho'Gath</td>\n",
       "      <td>7.17.2</td>\n",
       "    </tr>\n",
       "    <tr>\n",
       "      <th>35</th>\n",
       "      <td>the Madman of Zaun</td>\n",
       "      <td>36</td>\n",
       "      <td>DrMundo</td>\n",
       "      <td>Dr. Mundo</td>\n",
       "      <td>7.17.2</td>\n",
       "    </tr>\n",
       "    <tr>\n",
       "      <th>81</th>\n",
       "      <td>the Mouth of the Abyss</td>\n",
       "      <td>96</td>\n",
       "      <td>KogMaw</td>\n",
       "      <td>Kog'Maw</td>\n",
       "      <td>7.17.2</td>\n",
       "    </tr>\n",
       "    <tr>\n",
       "      <th>100</th>\n",
       "      <td>the Voidreaver</td>\n",
       "      <td>121</td>\n",
       "      <td>Khazix</td>\n",
       "      <td>Kha'Zix</td>\n",
       "      <td>7.17.2</td>\n",
       "    </tr>\n",
       "    <tr>\n",
       "      <th>113</th>\n",
       "      <td>the Eye of the Void</td>\n",
       "      <td>161</td>\n",
       "      <td>Velkoz</td>\n",
       "      <td>Vel'Koz</td>\n",
       "      <td>7.17.2</td>\n",
       "    </tr>\n",
       "    <tr>\n",
       "      <th>131</th>\n",
       "      <td>the Void Burrower</td>\n",
       "      <td>421</td>\n",
       "      <td>RekSai</td>\n",
       "      <td>Rek'Sai</td>\n",
       "      <td>7.17.2</td>\n",
       "    </tr>\n",
       "  </tbody>\n",
       "</table>\n",
       "</div>"
      ],
      "text/plain": [
       "                      title   id      key       name version\n",
       "30   the Terror of the Void   31  Chogath   Cho'Gath  7.17.2\n",
       "35       the Madman of Zaun   36  DrMundo  Dr. Mundo  7.17.2\n",
       "81   the Mouth of the Abyss   96   KogMaw    Kog'Maw  7.17.2\n",
       "100          the Voidreaver  121   Khazix    Kha'Zix  7.17.2\n",
       "113     the Eye of the Void  161   Velkoz    Vel'Koz  7.17.2\n",
       "131       the Void Burrower  421   RekSai    Rek'Sai  7.17.2"
      ]
     },
     "execution_count": 23,
     "metadata": {},
     "output_type": "execute_result"
    }
   ],
   "source": [
    "sonderzeichen = df_champ1['name'].apply(lambda x: re.findall(r'[^a-zA-Z0-9\\s]', x))\n",
    "df_champ1[sonderzeichen.apply(lambda x: len(x) > 0)]"
   ]
  },
  {
   "cell_type": "markdown",
   "id": "a39cd22b",
   "metadata": {},
   "source": [
    "### Key vs. Name Schreibweise"
   ]
  },
  {
   "cell_type": "code",
   "execution_count": 24,
   "id": "501b2195",
   "metadata": {},
   "outputs": [
    {
     "data": {
      "text/html": [
       "<div>\n",
       "<style scoped>\n",
       "    .dataframe tbody tr th:only-of-type {\n",
       "        vertical-align: middle;\n",
       "    }\n",
       "\n",
       "    .dataframe tbody tr th {\n",
       "        vertical-align: top;\n",
       "    }\n",
       "\n",
       "    .dataframe thead th {\n",
       "        text-align: right;\n",
       "    }\n",
       "</style>\n",
       "<table border=\"1\" class=\"dataframe\">\n",
       "  <thead>\n",
       "    <tr style=\"text-align: right;\">\n",
       "      <th></th>\n",
       "      <th>title</th>\n",
       "      <th>id</th>\n",
       "      <th>key</th>\n",
       "      <th>name</th>\n",
       "      <th>version</th>\n",
       "      <th>name_lower</th>\n",
       "      <th>key_lower</th>\n",
       "    </tr>\n",
       "  </thead>\n",
       "  <tbody>\n",
       "    <tr>\n",
       "      <th>3</th>\n",
       "      <td>the Card Master</td>\n",
       "      <td>4</td>\n",
       "      <td>TwistedFate</td>\n",
       "      <td>Twisted Fate</td>\n",
       "      <td>7.17.2</td>\n",
       "      <td>twisted fate</td>\n",
       "      <td>twistedfate</td>\n",
       "    </tr>\n",
       "    <tr>\n",
       "      <th>4</th>\n",
       "      <td>the Seneschal of Demacia</td>\n",
       "      <td>5</td>\n",
       "      <td>XinZhao</td>\n",
       "      <td>Xin Zhao</td>\n",
       "      <td>7.17.2</td>\n",
       "      <td>xin zhao</td>\n",
       "      <td>xinzhao</td>\n",
       "    </tr>\n",
       "    <tr>\n",
       "      <th>10</th>\n",
       "      <td>the Wuju Bladesman</td>\n",
       "      <td>11</td>\n",
       "      <td>MasterYi</td>\n",
       "      <td>Master Yi</td>\n",
       "      <td>7.17.2</td>\n",
       "      <td>master yi</td>\n",
       "      <td>masteryi</td>\n",
       "    </tr>\n",
       "    <tr>\n",
       "      <th>20</th>\n",
       "      <td>the Bounty Hunter</td>\n",
       "      <td>21</td>\n",
       "      <td>MissFortune</td>\n",
       "      <td>Miss Fortune</td>\n",
       "      <td>7.17.2</td>\n",
       "      <td>miss fortune</td>\n",
       "      <td>missfortune</td>\n",
       "    </tr>\n",
       "    <tr>\n",
       "      <th>30</th>\n",
       "      <td>the Terror of the Void</td>\n",
       "      <td>31</td>\n",
       "      <td>Chogath</td>\n",
       "      <td>Cho'Gath</td>\n",
       "      <td>7.17.2</td>\n",
       "      <td>cho'gath</td>\n",
       "      <td>chogath</td>\n",
       "    </tr>\n",
       "    <tr>\n",
       "      <th>35</th>\n",
       "      <td>the Madman of Zaun</td>\n",
       "      <td>36</td>\n",
       "      <td>DrMundo</td>\n",
       "      <td>Dr. Mundo</td>\n",
       "      <td>7.17.2</td>\n",
       "      <td>dr. mundo</td>\n",
       "      <td>drmundo</td>\n",
       "    </tr>\n",
       "    <tr>\n",
       "      <th>54</th>\n",
       "      <td>the Exemplar of Demacia</td>\n",
       "      <td>59</td>\n",
       "      <td>JarvanIV</td>\n",
       "      <td>Jarvan IV</td>\n",
       "      <td>7.17.2</td>\n",
       "      <td>jarvan iv</td>\n",
       "      <td>jarvaniv</td>\n",
       "    </tr>\n",
       "    <tr>\n",
       "      <th>57</th>\n",
       "      <td>the Monkey King</td>\n",
       "      <td>62</td>\n",
       "      <td>MonkeyKing</td>\n",
       "      <td>Wukong</td>\n",
       "      <td>7.17.2</td>\n",
       "      <td>wukong</td>\n",
       "      <td>monkeyking</td>\n",
       "    </tr>\n",
       "    <tr>\n",
       "      <th>59</th>\n",
       "      <td>the Blind Monk</td>\n",
       "      <td>64</td>\n",
       "      <td>LeeSin</td>\n",
       "      <td>Lee Sin</td>\n",
       "      <td>7.17.2</td>\n",
       "      <td>lee sin</td>\n",
       "      <td>leesin</td>\n",
       "    </tr>\n",
       "    <tr>\n",
       "      <th>81</th>\n",
       "      <td>the Mouth of the Abyss</td>\n",
       "      <td>96</td>\n",
       "      <td>KogMaw</td>\n",
       "      <td>Kog'Maw</td>\n",
       "      <td>7.17.2</td>\n",
       "      <td>kog'maw</td>\n",
       "      <td>kogmaw</td>\n",
       "    </tr>\n",
       "    <tr>\n",
       "      <th>100</th>\n",
       "      <td>the Voidreaver</td>\n",
       "      <td>121</td>\n",
       "      <td>Khazix</td>\n",
       "      <td>Kha'Zix</td>\n",
       "      <td>7.17.2</td>\n",
       "      <td>kha'zix</td>\n",
       "      <td>khazix</td>\n",
       "    </tr>\n",
       "    <tr>\n",
       "      <th>107</th>\n",
       "      <td>The Star Forger</td>\n",
       "      <td>136</td>\n",
       "      <td>AurelionSol</td>\n",
       "      <td>Aurelion Sol</td>\n",
       "      <td>7.17.2</td>\n",
       "      <td>aurelion sol</td>\n",
       "      <td>aurelionsol</td>\n",
       "    </tr>\n",
       "    <tr>\n",
       "      <th>113</th>\n",
       "      <td>the Eye of the Void</td>\n",
       "      <td>161</td>\n",
       "      <td>Velkoz</td>\n",
       "      <td>Vel'Koz</td>\n",
       "      <td>7.17.2</td>\n",
       "      <td>vel'koz</td>\n",
       "      <td>velkoz</td>\n",
       "    </tr>\n",
       "    <tr>\n",
       "      <th>120</th>\n",
       "      <td>the River King</td>\n",
       "      <td>223</td>\n",
       "      <td>TahmKench</td>\n",
       "      <td>Tahm Kench</td>\n",
       "      <td>7.17.2</td>\n",
       "      <td>tahm kench</td>\n",
       "      <td>tahmkench</td>\n",
       "    </tr>\n",
       "    <tr>\n",
       "      <th>131</th>\n",
       "      <td>the Void Burrower</td>\n",
       "      <td>421</td>\n",
       "      <td>RekSai</td>\n",
       "      <td>Rek'Sai</td>\n",
       "      <td>7.17.2</td>\n",
       "      <td>rek'sai</td>\n",
       "      <td>reksai</td>\n",
       "    </tr>\n",
       "  </tbody>\n",
       "</table>\n",
       "</div>"
      ],
      "text/plain": [
       "                        title   id          key          name version  \\\n",
       "3             the Card Master    4  TwistedFate  Twisted Fate  7.17.2   \n",
       "4    the Seneschal of Demacia    5      XinZhao      Xin Zhao  7.17.2   \n",
       "10         the Wuju Bladesman   11     MasterYi     Master Yi  7.17.2   \n",
       "20          the Bounty Hunter   21  MissFortune  Miss Fortune  7.17.2   \n",
       "30     the Terror of the Void   31      Chogath      Cho'Gath  7.17.2   \n",
       "35         the Madman of Zaun   36      DrMundo     Dr. Mundo  7.17.2   \n",
       "54    the Exemplar of Demacia   59     JarvanIV     Jarvan IV  7.17.2   \n",
       "57            the Monkey King   62   MonkeyKing        Wukong  7.17.2   \n",
       "59             the Blind Monk   64       LeeSin       Lee Sin  7.17.2   \n",
       "81     the Mouth of the Abyss   96       KogMaw       Kog'Maw  7.17.2   \n",
       "100            the Voidreaver  121       Khazix       Kha'Zix  7.17.2   \n",
       "107           The Star Forger  136  AurelionSol  Aurelion Sol  7.17.2   \n",
       "113       the Eye of the Void  161       Velkoz       Vel'Koz  7.17.2   \n",
       "120            the River King  223    TahmKench    Tahm Kench  7.17.2   \n",
       "131         the Void Burrower  421       RekSai       Rek'Sai  7.17.2   \n",
       "\n",
       "       name_lower    key_lower  \n",
       "3    twisted fate  twistedfate  \n",
       "4        xin zhao      xinzhao  \n",
       "10      master yi     masteryi  \n",
       "20   miss fortune  missfortune  \n",
       "30       cho'gath      chogath  \n",
       "35      dr. mundo      drmundo  \n",
       "54      jarvan iv     jarvaniv  \n",
       "57         wukong   monkeyking  \n",
       "59        lee sin       leesin  \n",
       "81        kog'maw       kogmaw  \n",
       "100       kha'zix       khazix  \n",
       "107  aurelion sol  aurelionsol  \n",
       "113       vel'koz       velkoz  \n",
       "120    tahm kench    tahmkench  \n",
       "131       rek'sai       reksai  "
      ]
     },
     "execution_count": 24,
     "metadata": {},
     "output_type": "execute_result"
    }
   ],
   "source": [
    "df_champ1['name_lower'] = df_champ1['name'].str.lower()\n",
    "df_champ1['key_lower'] = df_champ1['key'].str.lower()\n",
    "df_champ1[df_champ1['name_lower'] != df_champ1['key_lower']]"
   ]
  },
  {
   "cell_type": "markdown",
   "id": "16f4acb1",
   "metadata": {},
   "source": [
    "### Titel auf Plausibilität"
   ]
  },
  {
   "cell_type": "code",
   "execution_count": 25,
   "id": "a6705383",
   "metadata": {},
   "outputs": [
    {
     "name": "stdout",
     "output_type": "stream",
     "text": [
      "Übersicht der Titel:\n",
      "title\n",
      "the Dark Child                 1\n",
      "the Berserker                  1\n",
      "the Colossus                   1\n",
      "the Card Master                1\n",
      "the Seneschal of Demacia       1\n",
      "                              ..\n",
      "the Spear of Vengeance         1\n",
      "the Wandering Caretaker        1\n",
      "The Charmer                    1\n",
      "the Rebel                      1\n",
      "The Fire below the Mountain    1\n",
      "Name: count, Length: 138, dtype: int64\n"
     ]
    }
   ],
   "source": [
    "if 'title' in df_champ1.columns:\n",
    "    print(\"Übersicht der Titel:\")\n",
    "    print(df_champ1['title'].value_counts())\n",
    "else:\n",
    "    print(\"Spalte 'title' nicht vorhanden.\")"
   ]
  },
  {
   "cell_type": "markdown",
   "id": "40fcf852",
   "metadata": {},
   "source": [
    "### Namens-Eindeutigkeit"
   ]
  },
  {
   "cell_type": "code",
   "execution_count": 26,
   "id": "124a148a",
   "metadata": {},
   "outputs": [
    {
     "name": "stdout",
     "output_type": "stream",
     "text": [
      "Anzahl doppelter Namen: 0\n"
     ]
    }
   ],
   "source": [
    "doppelte_namen = df_champ1['name'].duplicated().sum()\n",
    "print(f\"Anzahl doppelter Namen: {doppelte_namen}\")"
   ]
  },
  {
   "cell_type": "markdown",
   "id": "ddfcef61",
   "metadata": {},
   "source": [
    "### Platzhalter-Champions"
   ]
  },
  {
   "cell_type": "code",
   "execution_count": 27,
   "id": "0d8f57d0",
   "metadata": {},
   "outputs": [
    {
     "data": {
      "text/html": [
       "<div>\n",
       "<style scoped>\n",
       "    .dataframe tbody tr th:only-of-type {\n",
       "        vertical-align: middle;\n",
       "    }\n",
       "\n",
       "    .dataframe tbody tr th {\n",
       "        vertical-align: top;\n",
       "    }\n",
       "\n",
       "    .dataframe thead th {\n",
       "        text-align: right;\n",
       "    }\n",
       "</style>\n",
       "<table border=\"1\" class=\"dataframe\">\n",
       "  <thead>\n",
       "    <tr style=\"text-align: right;\">\n",
       "      <th></th>\n",
       "      <th>title</th>\n",
       "      <th>id</th>\n",
       "      <th>key</th>\n",
       "      <th>name</th>\n",
       "      <th>version</th>\n",
       "      <th>name_lower</th>\n",
       "      <th>key_lower</th>\n",
       "    </tr>\n",
       "  </thead>\n",
       "  <tbody>\n",
       "  </tbody>\n",
       "</table>\n",
       "</div>"
      ],
      "text/plain": [
       "Empty DataFrame\n",
       "Columns: [title, id, key, name, version, name_lower, key_lower]\n",
       "Index: []"
      ]
     },
     "execution_count": 27,
     "metadata": {},
     "output_type": "execute_result"
    }
   ],
   "source": [
    "df_champ1[df_champ1['id'] == -1]"
   ]
  },
  {
   "cell_type": "markdown",
   "id": "44827c37",
   "metadata": {},
   "source": [
    "### Tags-Spalte"
   ]
  },
  {
   "cell_type": "code",
   "execution_count": 28,
   "id": "b855b3c0",
   "metadata": {},
   "outputs": [
    {
     "data": {
      "text/plain": [
       "Index(['title', 'id', 'key', 'name', 'version', 'name_lower', 'key_lower'], dtype='object')"
      ]
     },
     "execution_count": 28,
     "metadata": {},
     "output_type": "execute_result"
    }
   ],
   "source": [
    "df_champ1.columns"
   ]
  },
  {
   "cell_type": "code",
   "execution_count": 29,
   "id": "30f239ec",
   "metadata": {},
   "outputs": [],
   "source": [
    "# Keine Spalte mit dem Namen vorhanden."
   ]
  },
  {
   "cell_type": "markdown",
   "id": "3078d75e",
   "metadata": {},
   "source": [
    "### Anzahl Tags pro Champion"
   ]
  },
  {
   "cell_type": "code",
   "execution_count": 30,
   "id": "155c5148",
   "metadata": {},
   "outputs": [],
   "source": [
    "# Keine Spalte mit dem Namen vorhanden."
   ]
  },
  {
   "cell_type": "markdown",
   "id": "3974856b",
   "metadata": {},
   "source": [
    "### Ausreißer Checks"
   ]
  },
  {
   "cell_type": "code",
   "execution_count": 31,
   "id": "38acee11",
   "metadata": {},
   "outputs": [],
   "source": [
    "# Alle numerischen Spalten (id, key) sind nur Champion-IDs bzw. Schlüsselwerte. \n",
    "# Diese sind kategorial und liefern bei Statistikmethoden nur Schein-Ausreißer. \n",
    "# Daher keine echten Ausreißer vorhanden"
   ]
  },
  {
   "cell_type": "markdown",
   "id": "be1dc728",
   "metadata": {},
   "source": [
    "### Dataset 2: champion_info – Spezifische Checks\n",
    "- **Sonderzeichen im Namen**\n",
    "- **Key-Format-Prüfung (id, key, name)**\n",
    "- **Leere Strings prüfen**\n",
    "- **Doppelte id oder key**\n",
    "- **Gleicher Name für mehrere ids**\n",
    "- **Negativwerte in id prüfen**\n",
    "- **Spalten name_lower und key_lower logisch korrekt**"
   ]
  },
  {
   "cell_type": "markdown",
   "id": "1735c60e",
   "metadata": {},
   "source": [
    "### Sonderzeichen im Namen"
   ]
  },
  {
   "cell_type": "code",
   "execution_count": 32,
   "id": "d689cfee",
   "metadata": {},
   "outputs": [
    {
     "data": {
      "text/html": [
       "<div>\n",
       "<style scoped>\n",
       "    .dataframe tbody tr th:only-of-type {\n",
       "        vertical-align: middle;\n",
       "    }\n",
       "\n",
       "    .dataframe tbody tr th {\n",
       "        vertical-align: top;\n",
       "    }\n",
       "\n",
       "    .dataframe thead th {\n",
       "        text-align: right;\n",
       "    }\n",
       "</style>\n",
       "<table border=\"1\" class=\"dataframe\">\n",
       "  <thead>\n",
       "    <tr style=\"text-align: right;\">\n",
       "      <th></th>\n",
       "      <th>title</th>\n",
       "      <th>id</th>\n",
       "      <th>key</th>\n",
       "      <th>name</th>\n",
       "      <th>version</th>\n",
       "      <th>name_lower</th>\n",
       "      <th>key_lower</th>\n",
       "    </tr>\n",
       "  </thead>\n",
       "  <tbody>\n",
       "    <tr>\n",
       "      <th>35</th>\n",
       "      <td>the Madman of Zaun</td>\n",
       "      <td>36</td>\n",
       "      <td>DrMundo</td>\n",
       "      <td>Dr. Mundo</td>\n",
       "      <td>7.17.2</td>\n",
       "      <td>dr. mundo</td>\n",
       "      <td>drmundo</td>\n",
       "    </tr>\n",
       "  </tbody>\n",
       "</table>\n",
       "</div>"
      ],
      "text/plain": [
       "                 title  id      key       name version name_lower key_lower\n",
       "35  the Madman of Zaun  36  DrMundo  Dr. Mundo  7.17.2  dr. mundo   drmundo"
      ]
     },
     "execution_count": 32,
     "metadata": {},
     "output_type": "execute_result"
    }
   ],
   "source": [
    "df_champ1[~df_champ1[\"name\"].str.match(\"^[a-zA-Z0-9 ']+$\")]\n",
    "\n",
    "# Manche Champs haben sonderzeichen was aber normal ist."
   ]
  },
  {
   "cell_type": "markdown",
   "id": "6be264df",
   "metadata": {},
   "source": [
    "### Key-Format-Prüfung"
   ]
  },
  {
   "cell_type": "code",
   "execution_count": 33,
   "id": "85226bcc",
   "metadata": {},
   "outputs": [
    {
     "name": "stdout",
     "output_type": "stream",
     "text": [
      "id       int64\n",
      "key     object\n",
      "name    object\n",
      "dtype: object\n"
     ]
    }
   ],
   "source": [
    "print(df_champ1[[\"id\", \"key\", \"name\"]].dtypes)"
   ]
  },
  {
   "cell_type": "markdown",
   "id": "81d38679",
   "metadata": {},
   "source": [
    "### Leere Strings"
   ]
  },
  {
   "cell_type": "code",
   "execution_count": 34,
   "id": "e4094ca5",
   "metadata": {},
   "outputs": [
    {
     "name": "stdout",
     "output_type": "stream",
     "text": [
      "Leere Werte in 'title': 0\n",
      "Leere Werte in 'name': 0\n",
      "Leere Werte in 'key': 0\n"
     ]
    }
   ],
   "source": [
    "print(\"Leere Werte in 'title':\", (df_champ1[\"title\"] == \"\").sum())\n",
    "print(\"Leere Werte in 'name':\", (df_champ1[\"name\"] == \"\").sum())\n",
    "print(\"Leere Werte in 'key':\", (df_champ1[\"key\"] == \"\").sum())"
   ]
  },
  {
   "cell_type": "markdown",
   "id": "f3b47798",
   "metadata": {},
   "source": [
    "### Doppelte id oder key"
   ]
  },
  {
   "cell_type": "code",
   "execution_count": 35,
   "id": "328bd64d",
   "metadata": {},
   "outputs": [
    {
     "name": "stdout",
     "output_type": "stream",
     "text": [
      "Doppelte 'id': 0\n",
      "Doppelte 'key': 0\n"
     ]
    }
   ],
   "source": [
    "print(\"Doppelte 'id':\", df_champ1[\"id\"].duplicated().sum())\n",
    "print(\"Doppelte 'key':\", df_champ1[\"key\"].duplicated().sum())"
   ]
  },
  {
   "cell_type": "markdown",
   "id": "83ed9b72",
   "metadata": {},
   "source": [
    "### Gleicher Name für mehrere ids"
   ]
  },
  {
   "cell_type": "code",
   "execution_count": 36,
   "id": "31be23e3",
   "metadata": {},
   "outputs": [
    {
     "name": "stdout",
     "output_type": "stream",
     "text": [
      "Anzahl problematischer Namen: 0\n",
      "Series([], Name: id, dtype: int64)\n"
     ]
    }
   ],
   "source": [
    "mehrfach_namen = df_champ1.groupby(\"name\")[\"id\"].nunique()\n",
    "problem_namen = mehrfach_namen[mehrfach_namen > 1]\n",
    "\n",
    "print(\"Anzahl problematischer Namen:\", problem_namen.shape[0])\n",
    "print(problem_namen)"
   ]
  },
  {
   "cell_type": "markdown",
   "id": "b1405fe6",
   "metadata": {},
   "source": [
    "### Negativwerte in id prüfen"
   ]
  },
  {
   "cell_type": "code",
   "execution_count": 37,
   "id": "38e9bfc7",
   "metadata": {},
   "outputs": [
    {
     "data": {
      "text/html": [
       "<div>\n",
       "<style scoped>\n",
       "    .dataframe tbody tr th:only-of-type {\n",
       "        vertical-align: middle;\n",
       "    }\n",
       "\n",
       "    .dataframe tbody tr th {\n",
       "        vertical-align: top;\n",
       "    }\n",
       "\n",
       "    .dataframe thead th {\n",
       "        text-align: right;\n",
       "    }\n",
       "</style>\n",
       "<table border=\"1\" class=\"dataframe\">\n",
       "  <thead>\n",
       "    <tr style=\"text-align: right;\">\n",
       "      <th></th>\n",
       "      <th>title</th>\n",
       "      <th>id</th>\n",
       "      <th>key</th>\n",
       "      <th>name</th>\n",
       "      <th>version</th>\n",
       "      <th>name_lower</th>\n",
       "      <th>key_lower</th>\n",
       "    </tr>\n",
       "  </thead>\n",
       "  <tbody>\n",
       "  </tbody>\n",
       "</table>\n",
       "</div>"
      ],
      "text/plain": [
       "Empty DataFrame\n",
       "Columns: [title, id, key, name, version, name_lower, key_lower]\n",
       "Index: []"
      ]
     },
     "execution_count": 37,
     "metadata": {},
     "output_type": "execute_result"
    }
   ],
   "source": [
    "df_champ1[df_champ1[\"id\"] < 0]"
   ]
  },
  {
   "cell_type": "markdown",
   "id": "13f299f6",
   "metadata": {},
   "source": [
    "### Spalten name_lower und key_lower logisch korrekt"
   ]
  },
  {
   "cell_type": "code",
   "execution_count": 38,
   "id": "805cb5c4",
   "metadata": {},
   "outputs": [
    {
     "name": "stdout",
     "output_type": "stream",
     "text": [
      "Abweichungen bei name_lower: 0\n",
      "Abweichungen bei key_lower: 0\n"
     ]
    }
   ],
   "source": [
    "print(\"Abweichungen bei name_lower:\", (df_champ1[\"name\"].str.lower() != df_champ1[\"name_lower\"]).sum())\n",
    "print(\"Abweichungen bei key_lower:\", (df_champ1[\"key\"].str.lower() != df_champ1[\"key_lower\"]).sum())"
   ]
  },
  {
   "cell_type": "markdown",
   "id": "94c5e9b4",
   "metadata": {},
   "source": [
    "### Cross-Dataset-Checks\n",
    "- **IDs in verbindung mit Games**\n",
    "- **IDs in verbindung mit Champion 2**\n",
    "- **Namensvergleich mit Champion 2**\n",
    "- **-1 in Champion1 vorhanden?**"
   ]
  },
  {
   "cell_type": "markdown",
   "id": "1af0aff1",
   "metadata": {},
   "source": [
    "### ### IDs in verbindung mit Games"
   ]
  },
  {
   "cell_type": "code",
   "execution_count": 39,
   "id": "ca9c8e13",
   "metadata": {},
   "outputs": [
    {
     "name": "stdout",
     "output_type": "stream",
     "text": [
      "Champion-IDs, die in Games nie vorkommen:\n",
      "set()\n"
     ]
    }
   ],
   "source": [
    "df = pd.read_csv(\"games.csv\")\n",
    "champ1_ids = set(df_champ1[\"id\"])\n",
    "game_ids = set(df[[\n",
    "    \"t1_champ1id\", \"t1_champ2id\", \"t1_champ3id\", \"t1_champ4id\", \"t1_champ5id\",\n",
    "    \"t2_champ1id\", \"t2_champ2id\", \"t2_champ3id\", \"t2_champ4id\", \"t2_champ5id\"\n",
    "]].values.ravel())\n",
    "unbenutzte_ids = champ1_ids - game_ids\n",
    "\n",
    "print(\"Champion-IDs, die in Games nie vorkommen:\")\n",
    "print(unbenutzte_ids)"
   ]
  },
  {
   "cell_type": "markdown",
   "id": "172438fb",
   "metadata": {},
   "source": [
    "### IDs in verbindung mit Champion 2"
   ]
  },
  {
   "cell_type": "code",
   "execution_count": 40,
   "id": "93fa9e3f",
   "metadata": {},
   "outputs": [
    {
     "name": "stdout",
     "output_type": "stream",
     "text": [
      "IDs nur in Champ1: set()\n",
      "IDs nur in Champ2: {-1}\n"
     ]
    }
   ],
   "source": [
    "df_champ2 = pd.read_json(\"champion_info_2.json\")[\"data\"].apply(pd.Series)\n",
    "ids_champ1 = set(df_champ1[\"id\"])\n",
    "ids_champ2 = set(df_champ2[\"id\"])\n",
    "\n",
    "nur_in_champ1 = ids_champ1 - ids_champ2\n",
    "print(\"IDs nur in Champ1:\", nur_in_champ1)\n",
    "\n",
    "nur_in_champ2 = ids_champ2 - ids_champ1\n",
    "print(\"IDs nur in Champ2:\", nur_in_champ2)"
   ]
  },
  {
   "cell_type": "markdown",
   "id": "39b14f3b",
   "metadata": {},
   "source": [
    "### Namensvergleich mit Champion 2"
   ]
  },
  {
   "cell_type": "code",
   "execution_count": 41,
   "id": "0d504d40",
   "metadata": {},
   "outputs": [
    {
     "data": {
      "text/html": [
       "<div>\n",
       "<style scoped>\n",
       "    .dataframe tbody tr th:only-of-type {\n",
       "        vertical-align: middle;\n",
       "    }\n",
       "\n",
       "    .dataframe tbody tr th {\n",
       "        vertical-align: top;\n",
       "    }\n",
       "\n",
       "    .dataframe thead th {\n",
       "        text-align: right;\n",
       "    }\n",
       "</style>\n",
       "<table border=\"1\" class=\"dataframe\">\n",
       "  <thead>\n",
       "    <tr style=\"text-align: right;\">\n",
       "      <th></th>\n",
       "      <th>tags</th>\n",
       "      <th>title</th>\n",
       "      <th>id</th>\n",
       "      <th>key</th>\n",
       "      <th>name</th>\n",
       "    </tr>\n",
       "  </thead>\n",
       "  <tbody>\n",
       "  </tbody>\n",
       "</table>\n",
       "</div>"
      ],
      "text/plain": [
       "Empty DataFrame\n",
       "Columns: [tags, title, id, key, name]\n",
       "Index: []"
      ]
     },
     "execution_count": 41,
     "metadata": {},
     "output_type": "execute_result"
    }
   ],
   "source": [
    "duplicated_names = df_champ2[\"name\"].duplicated(keep=False)\n",
    "df_champ2[duplicated_names]"
   ]
  },
  {
   "cell_type": "markdown",
   "id": "ba645ee3",
   "metadata": {},
   "source": [
    "### -1 in Champion1 vorhanden?"
   ]
  },
  {
   "cell_type": "code",
   "execution_count": 42,
   "id": "ab61c714",
   "metadata": {},
   "outputs": [
    {
     "name": "stdout",
     "output_type": "stream",
     "text": [
      "-1 vorhanden: False\n"
     ]
    }
   ],
   "source": [
    "print(\"-1 vorhanden:\", \"-1\" in df_champ1[\"id\"].astype(str).values)"
   ]
  },
  {
   "cell_type": "markdown",
   "id": "c1bf2fe3",
   "metadata": {},
   "source": [
    "### Abspeichern und eine Copi erstellen"
   ]
  },
  {
   "cell_type": "code",
   "execution_count": 43,
   "id": "1c9f9f23",
   "metadata": {},
   "outputs": [
    {
     "name": "stdout",
     "output_type": "stream",
     "text": [
      "Sicherheitskopie erfolgreich gespeichert: 'champion1.0.csv'\n"
     ]
    }
   ],
   "source": [
    "df_champ1.to_csv(\"champion1.0.csv\", index=False)\n",
    "print(\"Sicherheitskopie erfolgreich gespeichert: 'champion1.0.csv'\")"
   ]
  }
 ],
 "metadata": {
  "kernelspec": {
   "display_name": "Python 3",
   "language": "python",
   "name": "python3"
  },
  "language_info": {
   "codemirror_mode": {
    "name": "ipython",
    "version": 3
   },
   "file_extension": ".py",
   "mimetype": "text/x-python",
   "name": "python",
   "nbconvert_exporter": "python",
   "pygments_lexer": "ipython3",
   "version": "3.13.2"
  }
 },
 "nbformat": 4,
 "nbformat_minor": 5
}
