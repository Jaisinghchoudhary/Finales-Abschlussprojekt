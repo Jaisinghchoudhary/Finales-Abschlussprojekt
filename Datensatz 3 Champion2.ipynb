{
 "cells": [
  {
   "cell_type": "markdown",
   "id": "64406eca",
   "metadata": {},
   "source": [
    "### Imports"
   ]
  },
  {
   "cell_type": "code",
   "execution_count": 1,
   "id": "2db7e433",
   "metadata": {},
   "outputs": [],
   "source": [
    "import sys\n",
    "import pandas as pd\n",
    "import numpy as np\n",
    "import json\n",
    "import re"
   ]
  },
  {
   "cell_type": "markdown",
   "id": "569dd845",
   "metadata": {},
   "source": [
    "### Pfade & Encoding"
   ]
  },
  {
   "cell_type": "code",
   "execution_count": 2,
   "id": "2e3ea712",
   "metadata": {},
   "outputs": [],
   "source": [
    "data_path = \"./Hauptordner\"\n",
    "encoding = \"utf-8\""
   ]
  },
  {
   "cell_type": "markdown",
   "id": "faa2c4fd",
   "metadata": {},
   "source": [
    "### Zufallsseed für Reproduzierbarkeit"
   ]
  },
  {
   "cell_type": "code",
   "execution_count": 3,
   "id": "edbbbf85",
   "metadata": {},
   "outputs": [],
   "source": [
    "RANDOM_SEED = 42"
   ]
  },
  {
   "cell_type": "markdown",
   "id": "0e40175e",
   "metadata": {},
   "source": [
    "### Dataset 3: champion_info2 – Grundchecks\n",
    "- **Form & Größe**\n",
    "- **Spaltennamen** und **Datentypen**\n",
    "- **Erste Zeilen**\n",
    "- **Zufällige Stichprobe**\n",
    "- **Statistische Übersicht**\n",
    "- **Fehlende Werte**\n",
    "- **Duplikate**\n",
    "- **Eindeutigkeit von Schlüsseln**\n",
    "- **Min-/Max-Werte**\n",
    "- **Wertebereiche**\n",
    "- **Kardinalität**\n",
    "- **Kategorische Verteilungen**\n",
    "- **Auffälligkeiten markieren**\n",
    "- **Konsistenz zwischen Spalten**\n",
    "- **Komplett leere oder fast leere Spalten**\n",
    "- **Datums-/Zeitspalten prüfen**\n",
    "- **Zeichenketten in kategorischen Spalten prüfen**\n",
    "- **Patch-Version prüfen**\n",
    "- **Sonderzeichen in Namen prüfen**\n",
    "- **Key vs. Name Schreibweise prüfen**\n",
    "- **Titel auf Plausibilität prüfen**\n",
    "- **Namens-Eindeutigkeit**\n",
    "- **Prüfung auf Platzhalter-Champions**\n",
    "- **Tags-Spalte prüfen**\n",
    "- **Anzahl Tags pro Champion prüfen**\n",
    "- **Ausreißer Checks**"
   ]
  },
  {
   "cell_type": "code",
   "execution_count": 4,
   "id": "6e34745a",
   "metadata": {},
   "outputs": [
    {
     "name": "stdout",
     "output_type": "stream",
     "text": [
      "Index(['type', 'version', 'data'], dtype='object')\n"
     ]
    }
   ],
   "source": [
    "df_champ2 = pd.read_json(\"champion_info_2.json\")\n",
    "print(df_champ2.columns)\n",
    "df_champ2_raw = df_champ2.copy()\n",
    "df_champ2 = df_champ2[\"data\"].apply(pd.Series)\n",
    "\n",
    "# Champ2 ist Verschachtelt deswegen muss ich dieses vorher ausführen.Für spätere checks in Champ1."
   ]
  },
  {
   "cell_type": "code",
   "execution_count": 5,
   "id": "40182be5",
   "metadata": {},
   "outputs": [
    {
     "name": "stdout",
     "output_type": "stream",
     "text": [
      "Index(['tags', 'title', 'id', 'key', 'name'], dtype='object')\n"
     ]
    }
   ],
   "source": [
    "print(df_champ2.columns)"
   ]
  },
  {
   "cell_type": "markdown",
   "id": "d747d10c",
   "metadata": {},
   "source": [
    "### Form & Größe"
   ]
  },
  {
   "cell_type": "code",
   "execution_count": 6,
   "id": "e852e5c3",
   "metadata": {},
   "outputs": [
    {
     "data": {
      "text/plain": [
       "(139, 3)"
      ]
     },
     "execution_count": 6,
     "metadata": {},
     "output_type": "execute_result"
    }
   ],
   "source": [
    "pfad = r\"D:\\Python\\Projektarbeit\\Hauptordner\\champion_info_2.json\"\n",
    "df_champ2 = pd.read_json(pfad)\n",
    "df_champ2.shape"
   ]
  },
  {
   "cell_type": "markdown",
   "id": "efe1d178",
   "metadata": {},
   "source": [
    "### Spaltennamen und Datentypen"
   ]
  },
  {
   "cell_type": "code",
   "execution_count": 7,
   "id": "f7c243f2",
   "metadata": {},
   "outputs": [
    {
     "data": {
      "text/plain": [
       "type       object\n",
       "version    object\n",
       "data       object\n",
       "dtype: object"
      ]
     },
     "execution_count": 7,
     "metadata": {},
     "output_type": "execute_result"
    }
   ],
   "source": [
    "df_champ2.dtypes"
   ]
  },
  {
   "cell_type": "markdown",
   "id": "4f21a320",
   "metadata": {},
   "source": [
    "### Erstenzeilen anzeigen"
   ]
  },
  {
   "cell_type": "code",
   "execution_count": 8,
   "id": "b4ae2eb2",
   "metadata": {},
   "outputs": [
    {
     "data": {
      "text/html": [
       "<div>\n",
       "<style scoped>\n",
       "    .dataframe tbody tr th:only-of-type {\n",
       "        vertical-align: middle;\n",
       "    }\n",
       "\n",
       "    .dataframe tbody tr th {\n",
       "        vertical-align: top;\n",
       "    }\n",
       "\n",
       "    .dataframe thead th {\n",
       "        text-align: right;\n",
       "    }\n",
       "</style>\n",
       "<table border=\"1\" class=\"dataframe\">\n",
       "  <thead>\n",
       "    <tr style=\"text-align: right;\">\n",
       "      <th></th>\n",
       "      <th>type</th>\n",
       "      <th>version</th>\n",
       "      <th>data</th>\n",
       "    </tr>\n",
       "  </thead>\n",
       "  <tbody>\n",
       "    <tr>\n",
       "      <th>None</th>\n",
       "      <td>champion</td>\n",
       "      <td>7.18.1</td>\n",
       "      <td>{'tags': [], 'title': 'None', 'id': -1, 'key':...</td>\n",
       "    </tr>\n",
       "    <tr>\n",
       "      <th>MonkeyKing</th>\n",
       "      <td>champion</td>\n",
       "      <td>7.18.1</td>\n",
       "      <td>{'tags': ['Fighter', 'Tank'], 'title': 'the Mo...</td>\n",
       "    </tr>\n",
       "    <tr>\n",
       "      <th>Jax</th>\n",
       "      <td>champion</td>\n",
       "      <td>7.18.1</td>\n",
       "      <td>{'tags': ['Fighter', 'Assassin'], 'title': 'Gr...</td>\n",
       "    </tr>\n",
       "    <tr>\n",
       "      <th>Fiddlesticks</th>\n",
       "      <td>champion</td>\n",
       "      <td>7.18.1</td>\n",
       "      <td>{'tags': ['Mage', 'Support'], 'title': 'the Ha...</td>\n",
       "    </tr>\n",
       "    <tr>\n",
       "      <th>Shaco</th>\n",
       "      <td>champion</td>\n",
       "      <td>7.18.1</td>\n",
       "      <td>{'tags': ['Assassin'], 'title': 'the Demon Jes...</td>\n",
       "    </tr>\n",
       "  </tbody>\n",
       "</table>\n",
       "</div>"
      ],
      "text/plain": [
       "                  type version  \\\n",
       "None          champion  7.18.1   \n",
       "MonkeyKing    champion  7.18.1   \n",
       "Jax           champion  7.18.1   \n",
       "Fiddlesticks  champion  7.18.1   \n",
       "Shaco         champion  7.18.1   \n",
       "\n",
       "                                                           data  \n",
       "None          {'tags': [], 'title': 'None', 'id': -1, 'key':...  \n",
       "MonkeyKing    {'tags': ['Fighter', 'Tank'], 'title': 'the Mo...  \n",
       "Jax           {'tags': ['Fighter', 'Assassin'], 'title': 'Gr...  \n",
       "Fiddlesticks  {'tags': ['Mage', 'Support'], 'title': 'the Ha...  \n",
       "Shaco         {'tags': ['Assassin'], 'title': 'the Demon Jes...  "
      ]
     },
     "execution_count": 8,
     "metadata": {},
     "output_type": "execute_result"
    }
   ],
   "source": [
    "df_champ2.head()"
   ]
  },
  {
   "cell_type": "markdown",
   "id": "ba3206a5",
   "metadata": {},
   "source": [
    "### Zufällige Stichprobe"
   ]
  },
  {
   "cell_type": "code",
   "execution_count": 9,
   "id": "313591aa",
   "metadata": {},
   "outputs": [
    {
     "data": {
      "text/html": [
       "<div>\n",
       "<style scoped>\n",
       "    .dataframe tbody tr th:only-of-type {\n",
       "        vertical-align: middle;\n",
       "    }\n",
       "\n",
       "    .dataframe tbody tr th {\n",
       "        vertical-align: top;\n",
       "    }\n",
       "\n",
       "    .dataframe thead th {\n",
       "        text-align: right;\n",
       "    }\n",
       "</style>\n",
       "<table border=\"1\" class=\"dataframe\">\n",
       "  <thead>\n",
       "    <tr style=\"text-align: right;\">\n",
       "      <th></th>\n",
       "      <th>type</th>\n",
       "      <th>version</th>\n",
       "      <th>data</th>\n",
       "    </tr>\n",
       "  </thead>\n",
       "  <tbody>\n",
       "    <tr>\n",
       "      <th>Shen</th>\n",
       "      <td>champion</td>\n",
       "      <td>7.18.1</td>\n",
       "      <td>{'tags': ['Tank'], 'title': 'the Eye of Twilig...</td>\n",
       "    </tr>\n",
       "    <tr>\n",
       "      <th>Annie</th>\n",
       "      <td>champion</td>\n",
       "      <td>7.18.1</td>\n",
       "      <td>{'tags': ['Mage'], 'title': 'the Dark Child', ...</td>\n",
       "    </tr>\n",
       "    <tr>\n",
       "      <th>Irelia</th>\n",
       "      <td>champion</td>\n",
       "      <td>7.18.1</td>\n",
       "      <td>{'tags': ['Fighter', 'Assassin'], 'title': 'th...</td>\n",
       "    </tr>\n",
       "    <tr>\n",
       "      <th>Mordekaiser</th>\n",
       "      <td>champion</td>\n",
       "      <td>7.18.1</td>\n",
       "      <td>{'tags': ['Fighter'], 'title': 'the Iron Reven...</td>\n",
       "    </tr>\n",
       "    <tr>\n",
       "      <th>Warwick</th>\n",
       "      <td>champion</td>\n",
       "      <td>7.18.1</td>\n",
       "      <td>{'tags': ['Fighter', 'Tank'], 'title': 'the Un...</td>\n",
       "    </tr>\n",
       "  </tbody>\n",
       "</table>\n",
       "</div>"
      ],
      "text/plain": [
       "                 type version  \\\n",
       "Shen         champion  7.18.1   \n",
       "Annie        champion  7.18.1   \n",
       "Irelia       champion  7.18.1   \n",
       "Mordekaiser  champion  7.18.1   \n",
       "Warwick      champion  7.18.1   \n",
       "\n",
       "                                                          data  \n",
       "Shen         {'tags': ['Tank'], 'title': 'the Eye of Twilig...  \n",
       "Annie        {'tags': ['Mage'], 'title': 'the Dark Child', ...  \n",
       "Irelia       {'tags': ['Fighter', 'Assassin'], 'title': 'th...  \n",
       "Mordekaiser  {'tags': ['Fighter'], 'title': 'the Iron Reven...  \n",
       "Warwick      {'tags': ['Fighter', 'Tank'], 'title': 'the Un...  "
      ]
     },
     "execution_count": 9,
     "metadata": {},
     "output_type": "execute_result"
    }
   ],
   "source": [
    "df_champ2.sample(5, random_state=1)"
   ]
  },
  {
   "cell_type": "markdown",
   "id": "7be633f0",
   "metadata": {},
   "source": [
    "### Statische Übersicht"
   ]
  },
  {
   "cell_type": "code",
   "execution_count": 10,
   "id": "773084ba",
   "metadata": {},
   "outputs": [
    {
     "data": {
      "text/plain": [
       "<bound method NDFrame.describe of                   type version  \\\n",
       "None          champion  7.18.1   \n",
       "MonkeyKing    champion  7.18.1   \n",
       "Jax           champion  7.18.1   \n",
       "Fiddlesticks  champion  7.18.1   \n",
       "Shaco         champion  7.18.1   \n",
       "...                ...     ...   \n",
       "KogMaw        champion  7.18.1   \n",
       "Ahri          champion  7.18.1   \n",
       "Quinn         champion  7.18.1   \n",
       "Leblanc       champion  7.18.1   \n",
       "Ezreal        champion  7.18.1   \n",
       "\n",
       "                                                           data  \n",
       "None          {'tags': [], 'title': 'None', 'id': -1, 'key':...  \n",
       "MonkeyKing    {'tags': ['Fighter', 'Tank'], 'title': 'the Mo...  \n",
       "Jax           {'tags': ['Fighter', 'Assassin'], 'title': 'Gr...  \n",
       "Fiddlesticks  {'tags': ['Mage', 'Support'], 'title': 'the Ha...  \n",
       "Shaco         {'tags': ['Assassin'], 'title': 'the Demon Jes...  \n",
       "...                                                         ...  \n",
       "KogMaw        {'tags': ['Marksman', 'Mage'], 'title': 'the M...  \n",
       "Ahri          {'tags': ['Mage', 'Assassin'], 'title': 'the N...  \n",
       "Quinn         {'tags': ['Marksman', 'Fighter'], 'title': 'De...  \n",
       "Leblanc       {'tags': ['Assassin', 'Mage'], 'title': 'the D...  \n",
       "Ezreal        {'tags': ['Marksman', 'Mage'], 'title': 'the P...  \n",
       "\n",
       "[139 rows x 3 columns]>"
      ]
     },
     "execution_count": 10,
     "metadata": {},
     "output_type": "execute_result"
    }
   ],
   "source": [
    "df_champ2.describe"
   ]
  },
  {
   "cell_type": "markdown",
   "id": "4cdc42da",
   "metadata": {},
   "source": [
    "### Fehlende Werte"
   ]
  },
  {
   "cell_type": "code",
   "execution_count": 11,
   "id": "0b15893e",
   "metadata": {},
   "outputs": [
    {
     "data": {
      "text/plain": [
       "type       0\n",
       "version    0\n",
       "data       0\n",
       "dtype: int64"
      ]
     },
     "execution_count": 11,
     "metadata": {},
     "output_type": "execute_result"
    }
   ],
   "source": [
    "df_champ2.isnull().sum()"
   ]
  },
  {
   "cell_type": "markdown",
   "id": "7a0d0a52",
   "metadata": {},
   "source": [
    "### Duplikate überprüfen"
   ]
  },
  {
   "cell_type": "code",
   "execution_count": 12,
   "id": "63e685b2",
   "metadata": {},
   "outputs": [
    {
     "data": {
      "text/plain": [
       "np.int64(0)"
      ]
     },
     "execution_count": 12,
     "metadata": {},
     "output_type": "execute_result"
    }
   ],
   "source": [
    "pfad = r\"D:\\Python\\Projektarbeit\\Hauptordner\\champion_info_2.json\"\n",
    "data = pd.read_json(pfad)\n",
    "champ_dict = data.loc[data.index[0], 'data']\n",
    "df_champ2 = pd.json_normalize(champ_dict.values())\n",
    "\n",
    "df_champ2.duplicated().sum()"
   ]
  },
  {
   "cell_type": "markdown",
   "id": "d0d44fbb",
   "metadata": {},
   "source": [
    "### Eindeutigkeit von Schlüssel"
   ]
  },
  {
   "cell_type": "code",
   "execution_count": 13,
   "id": "50cf8076",
   "metadata": {},
   "outputs": [
    {
     "data": {
      "text/plain": [
       "True"
      ]
     },
     "execution_count": 13,
     "metadata": {},
     "output_type": "execute_result"
    }
   ],
   "source": [
    "pfad = r\"D:\\Python\\Projektarbeit\\Hauptordner\\champion_info_2.json\"\n",
    "data = pd.read_json(pfad)\n",
    "champ_dict = data['data'].to_dict()\n",
    "df_champ2 = pd.json_normalize(champ_dict.values())\n",
    "\n",
    "df_champ2['key'].is_unique"
   ]
  },
  {
   "cell_type": "markdown",
   "id": "1305a3c6",
   "metadata": {},
   "source": [
    "### MIN-/MAX-Werte je Spalte"
   ]
  },
  {
   "cell_type": "code",
   "execution_count": 14,
   "id": "59455dd7",
   "metadata": {},
   "outputs": [
    {
     "data": {
      "text/html": [
       "<div>\n",
       "<style scoped>\n",
       "    .dataframe tbody tr th:only-of-type {\n",
       "        vertical-align: middle;\n",
       "    }\n",
       "\n",
       "    .dataframe tbody tr th {\n",
       "        vertical-align: top;\n",
       "    }\n",
       "\n",
       "    .dataframe thead th {\n",
       "        text-align: right;\n",
       "    }\n",
       "</style>\n",
       "<table border=\"1\" class=\"dataframe\">\n",
       "  <thead>\n",
       "    <tr style=\"text-align: right;\">\n",
       "      <th></th>\n",
       "      <th>id</th>\n",
       "    </tr>\n",
       "  </thead>\n",
       "  <tbody>\n",
       "    <tr>\n",
       "      <th>min</th>\n",
       "      <td>-1.0</td>\n",
       "    </tr>\n",
       "    <tr>\n",
       "      <th>max</th>\n",
       "      <td>516.0</td>\n",
       "    </tr>\n",
       "  </tbody>\n",
       "</table>\n",
       "</div>"
      ],
      "text/plain": [
       "        id\n",
       "min   -1.0\n",
       "max  516.0"
      ]
     },
     "execution_count": 14,
     "metadata": {},
     "output_type": "execute_result"
    }
   ],
   "source": [
    "df_champ2.describe().loc[['min', 'max']]"
   ]
  },
  {
   "cell_type": "markdown",
   "id": "9f397f6b",
   "metadata": {},
   "source": [
    "### Wertebereiche"
   ]
  },
  {
   "cell_type": "code",
   "execution_count": 15,
   "id": "b4fa2aa8",
   "metadata": {},
   "outputs": [
    {
     "data": {
      "text/html": [
       "<div>\n",
       "<style scoped>\n",
       "    .dataframe tbody tr th:only-of-type {\n",
       "        vertical-align: middle;\n",
       "    }\n",
       "\n",
       "    .dataframe tbody tr th {\n",
       "        vertical-align: top;\n",
       "    }\n",
       "\n",
       "    .dataframe thead th {\n",
       "        text-align: right;\n",
       "    }\n",
       "</style>\n",
       "<table border=\"1\" class=\"dataframe\">\n",
       "  <thead>\n",
       "    <tr style=\"text-align: right;\">\n",
       "      <th></th>\n",
       "      <th>id</th>\n",
       "    </tr>\n",
       "  </thead>\n",
       "  <tbody>\n",
       "    <tr>\n",
       "      <th>count</th>\n",
       "      <td>139.000000</td>\n",
       "    </tr>\n",
       "    <tr>\n",
       "      <th>mean</th>\n",
       "      <td>107.877698</td>\n",
       "    </tr>\n",
       "    <tr>\n",
       "      <th>std</th>\n",
       "      <td>111.348614</td>\n",
       "    </tr>\n",
       "    <tr>\n",
       "      <th>min</th>\n",
       "      <td>-1.000000</td>\n",
       "    </tr>\n",
       "    <tr>\n",
       "      <th>25%</th>\n",
       "      <td>34.500000</td>\n",
       "    </tr>\n",
       "    <tr>\n",
       "      <th>50%</th>\n",
       "      <td>78.000000</td>\n",
       "    </tr>\n",
       "    <tr>\n",
       "      <th>75%</th>\n",
       "      <td>126.500000</td>\n",
       "    </tr>\n",
       "    <tr>\n",
       "      <th>max</th>\n",
       "      <td>516.000000</td>\n",
       "    </tr>\n",
       "  </tbody>\n",
       "</table>\n",
       "</div>"
      ],
      "text/plain": [
       "               id\n",
       "count  139.000000\n",
       "mean   107.877698\n",
       "std    111.348614\n",
       "min     -1.000000\n",
       "25%     34.500000\n",
       "50%     78.000000\n",
       "75%    126.500000\n",
       "max    516.000000"
      ]
     },
     "execution_count": 15,
     "metadata": {},
     "output_type": "execute_result"
    }
   ],
   "source": [
    "df_champ2.describe()"
   ]
  },
  {
   "cell_type": "markdown",
   "id": "a0ffd945",
   "metadata": {},
   "source": [
    "### Kardinalität der Spalten"
   ]
  },
  {
   "cell_type": "code",
   "execution_count": 16,
   "id": "7cbe768c",
   "metadata": {},
   "outputs": [
    {
     "name": "stderr",
     "output_type": "stream",
     "text": [
      "C:\\Users\\aljos\\AppData\\Local\\Temp\\ipykernel_8080\\3322033045.py:3: FutureWarning: Series.__getitem__ treating keys as positions is deprecated. In a future version, integer keys will always be treated as labels (consistent with DataFrame behavior). To access a value by position, use `ser.iloc[pos]`\n",
      "  champ_dict = data['data'][0]\n"
     ]
    },
    {
     "data": {
      "text/plain": [
       "Series([], dtype: float64)"
      ]
     },
     "execution_count": 16,
     "metadata": {},
     "output_type": "execute_result"
    }
   ],
   "source": [
    "pfad = r\"D:\\Python\\Projektarbeit\\Hauptordner\\champion_info_2.json\"\n",
    "data = pd.read_json(pfad)\n",
    "champ_dict = data['data'][0]\n",
    "df_champ2 = pd.json_normalize(champ_dict.values())\n",
    "\n",
    "df_champ2.nunique()"
   ]
  },
  {
   "cell_type": "markdown",
   "id": "001ea0ed",
   "metadata": {},
   "source": [
    "### Kategorische Verteilungen"
   ]
  },
  {
   "cell_type": "code",
   "execution_count": 17,
   "id": "d309691d",
   "metadata": {},
   "outputs": [
    {
     "data": {
      "text/plain": [
       "tags\n",
       "Fighter     68\n",
       "Mage        52\n",
       "Tank        41\n",
       "Assassin    34\n",
       "Support     28\n",
       "Marksman    25\n",
       "Name: count, dtype: int64"
      ]
     },
     "execution_count": 17,
     "metadata": {},
     "output_type": "execute_result"
    }
   ],
   "source": [
    "pfad = r\"D:\\Python\\Projektarbeit\\Hauptordner\\champion_info_2.json\"\n",
    "with open(pfad, encoding='utf-8') as f:\n",
    "    raw = json.load(f)\n",
    "champ_dict = raw['data']\n",
    "champ_liste = list(champ_dict.values())\n",
    "df_champ2 = pd.json_normalize(champ_liste)\n",
    "df_champ2['tags'].explode().value_counts()"
   ]
  },
  {
   "cell_type": "markdown",
   "id": "dcce483a",
   "metadata": {},
   "source": [
    "### Auffälligkeiten markieren"
   ]
  },
  {
   "cell_type": "code",
   "execution_count": 18,
   "id": "b6ce630b",
   "metadata": {},
   "outputs": [
    {
     "data": {
      "text/html": [
       "<div>\n",
       "<style scoped>\n",
       "    .dataframe tbody tr th:only-of-type {\n",
       "        vertical-align: middle;\n",
       "    }\n",
       "\n",
       "    .dataframe tbody tr th {\n",
       "        vertical-align: top;\n",
       "    }\n",
       "\n",
       "    .dataframe thead th {\n",
       "        text-align: right;\n",
       "    }\n",
       "</style>\n",
       "<table border=\"1\" class=\"dataframe\">\n",
       "  <thead>\n",
       "    <tr style=\"text-align: right;\">\n",
       "      <th></th>\n",
       "      <th>tags</th>\n",
       "      <th>title</th>\n",
       "      <th>id</th>\n",
       "      <th>key</th>\n",
       "      <th>name</th>\n",
       "      <th>auffällig_leer</th>\n",
       "      <th>auffällig_doppelt</th>\n",
       "      <th>auffällig_titel</th>\n",
       "    </tr>\n",
       "  </thead>\n",
       "  <tbody>\n",
       "  </tbody>\n",
       "</table>\n",
       "</div>"
      ],
      "text/plain": [
       "Empty DataFrame\n",
       "Columns: [tags, title, id, key, name, auffällig_leer, auffällig_doppelt, auffällig_titel]\n",
       "Index: []"
      ]
     },
     "execution_count": 18,
     "metadata": {},
     "output_type": "execute_result"
    }
   ],
   "source": [
    "df_champ2['auffällig_leer'] = df_champ2.isnull().any(axis=1)\n",
    "df_champ2['auffällig_doppelt'] = df_champ2.duplicated(subset='id', keep=False)\n",
    "df_champ2['auffällig_titel'] = df_champ2['title'].str.len() > 50\n",
    "df_champ2[df_champ2[['auffällig_leer', 'auffällig_doppelt', 'auffällig_titel']].any(axis=1)]"
   ]
  },
  {
   "cell_type": "markdown",
   "id": "c76ca40b",
   "metadata": {},
   "source": [
    "### Konsistenz zwischen Spalten"
   ]
  },
  {
   "cell_type": "code",
   "execution_count": 19,
   "id": "89180ee0",
   "metadata": {},
   "outputs": [
    {
     "data": {
      "text/html": [
       "<div>\n",
       "<style scoped>\n",
       "    .dataframe tbody tr th:only-of-type {\n",
       "        vertical-align: middle;\n",
       "    }\n",
       "\n",
       "    .dataframe tbody tr th {\n",
       "        vertical-align: top;\n",
       "    }\n",
       "\n",
       "    .dataframe thead th {\n",
       "        text-align: right;\n",
       "    }\n",
       "</style>\n",
       "<table border=\"1\" class=\"dataframe\">\n",
       "  <thead>\n",
       "    <tr style=\"text-align: right;\">\n",
       "      <th></th>\n",
       "      <th>tags</th>\n",
       "      <th>title</th>\n",
       "      <th>id</th>\n",
       "      <th>key</th>\n",
       "      <th>name</th>\n",
       "      <th>auffällig_leer</th>\n",
       "      <th>auffällig_doppelt</th>\n",
       "      <th>auffällig_titel</th>\n",
       "      <th>konsistenz_id_key</th>\n",
       "    </tr>\n",
       "  </thead>\n",
       "  <tbody>\n",
       "    <tr>\n",
       "      <th>0</th>\n",
       "      <td>[]</td>\n",
       "      <td>None</td>\n",
       "      <td>-1</td>\n",
       "      <td>None</td>\n",
       "      <td>None</td>\n",
       "      <td>False</td>\n",
       "      <td>False</td>\n",
       "      <td>False</td>\n",
       "      <td>False</td>\n",
       "    </tr>\n",
       "    <tr>\n",
       "      <th>1</th>\n",
       "      <td>[Fighter, Tank]</td>\n",
       "      <td>the Monkey King</td>\n",
       "      <td>62</td>\n",
       "      <td>MonkeyKing</td>\n",
       "      <td>Wukong</td>\n",
       "      <td>False</td>\n",
       "      <td>False</td>\n",
       "      <td>False</td>\n",
       "      <td>False</td>\n",
       "    </tr>\n",
       "    <tr>\n",
       "      <th>2</th>\n",
       "      <td>[Fighter, Assassin]</td>\n",
       "      <td>Grandmaster at Arms</td>\n",
       "      <td>24</td>\n",
       "      <td>Jax</td>\n",
       "      <td>Jax</td>\n",
       "      <td>False</td>\n",
       "      <td>False</td>\n",
       "      <td>False</td>\n",
       "      <td>False</td>\n",
       "    </tr>\n",
       "    <tr>\n",
       "      <th>3</th>\n",
       "      <td>[Mage, Support]</td>\n",
       "      <td>the Harbinger of Doom</td>\n",
       "      <td>9</td>\n",
       "      <td>Fiddlesticks</td>\n",
       "      <td>Fiddlesticks</td>\n",
       "      <td>False</td>\n",
       "      <td>False</td>\n",
       "      <td>False</td>\n",
       "      <td>False</td>\n",
       "    </tr>\n",
       "    <tr>\n",
       "      <th>4</th>\n",
       "      <td>[Assassin]</td>\n",
       "      <td>the Demon Jester</td>\n",
       "      <td>35</td>\n",
       "      <td>Shaco</td>\n",
       "      <td>Shaco</td>\n",
       "      <td>False</td>\n",
       "      <td>False</td>\n",
       "      <td>False</td>\n",
       "      <td>False</td>\n",
       "    </tr>\n",
       "    <tr>\n",
       "      <th>...</th>\n",
       "      <td>...</td>\n",
       "      <td>...</td>\n",
       "      <td>...</td>\n",
       "      <td>...</td>\n",
       "      <td>...</td>\n",
       "      <td>...</td>\n",
       "      <td>...</td>\n",
       "      <td>...</td>\n",
       "      <td>...</td>\n",
       "    </tr>\n",
       "    <tr>\n",
       "      <th>134</th>\n",
       "      <td>[Marksman, Mage]</td>\n",
       "      <td>the Mouth of the Abyss</td>\n",
       "      <td>96</td>\n",
       "      <td>KogMaw</td>\n",
       "      <td>Kog'Maw</td>\n",
       "      <td>False</td>\n",
       "      <td>False</td>\n",
       "      <td>False</td>\n",
       "      <td>False</td>\n",
       "    </tr>\n",
       "    <tr>\n",
       "      <th>135</th>\n",
       "      <td>[Mage, Assassin]</td>\n",
       "      <td>the Nine-Tailed Fox</td>\n",
       "      <td>103</td>\n",
       "      <td>Ahri</td>\n",
       "      <td>Ahri</td>\n",
       "      <td>False</td>\n",
       "      <td>False</td>\n",
       "      <td>False</td>\n",
       "      <td>False</td>\n",
       "    </tr>\n",
       "    <tr>\n",
       "      <th>136</th>\n",
       "      <td>[Marksman, Fighter]</td>\n",
       "      <td>Demacia's Wings</td>\n",
       "      <td>133</td>\n",
       "      <td>Quinn</td>\n",
       "      <td>Quinn</td>\n",
       "      <td>False</td>\n",
       "      <td>False</td>\n",
       "      <td>False</td>\n",
       "      <td>False</td>\n",
       "    </tr>\n",
       "    <tr>\n",
       "      <th>137</th>\n",
       "      <td>[Assassin, Mage]</td>\n",
       "      <td>the Deceiver</td>\n",
       "      <td>7</td>\n",
       "      <td>Leblanc</td>\n",
       "      <td>LeBlanc</td>\n",
       "      <td>False</td>\n",
       "      <td>False</td>\n",
       "      <td>False</td>\n",
       "      <td>False</td>\n",
       "    </tr>\n",
       "    <tr>\n",
       "      <th>138</th>\n",
       "      <td>[Marksman, Mage]</td>\n",
       "      <td>the Prodigal Explorer</td>\n",
       "      <td>81</td>\n",
       "      <td>Ezreal</td>\n",
       "      <td>Ezreal</td>\n",
       "      <td>False</td>\n",
       "      <td>False</td>\n",
       "      <td>False</td>\n",
       "      <td>False</td>\n",
       "    </tr>\n",
       "  </tbody>\n",
       "</table>\n",
       "<p>139 rows × 9 columns</p>\n",
       "</div>"
      ],
      "text/plain": [
       "                    tags                   title   id           key  \\\n",
       "0                     []                    None   -1          None   \n",
       "1        [Fighter, Tank]         the Monkey King   62    MonkeyKing   \n",
       "2    [Fighter, Assassin]     Grandmaster at Arms   24           Jax   \n",
       "3        [Mage, Support]   the Harbinger of Doom    9  Fiddlesticks   \n",
       "4             [Assassin]        the Demon Jester   35         Shaco   \n",
       "..                   ...                     ...  ...           ...   \n",
       "134     [Marksman, Mage]  the Mouth of the Abyss   96        KogMaw   \n",
       "135     [Mage, Assassin]     the Nine-Tailed Fox  103          Ahri   \n",
       "136  [Marksman, Fighter]         Demacia's Wings  133         Quinn   \n",
       "137     [Assassin, Mage]            the Deceiver    7       Leblanc   \n",
       "138     [Marksman, Mage]   the Prodigal Explorer   81        Ezreal   \n",
       "\n",
       "             name  auffällig_leer  auffällig_doppelt  auffällig_titel  \\\n",
       "0            None           False              False            False   \n",
       "1          Wukong           False              False            False   \n",
       "2             Jax           False              False            False   \n",
       "3    Fiddlesticks           False              False            False   \n",
       "4           Shaco           False              False            False   \n",
       "..            ...             ...                ...              ...   \n",
       "134       Kog'Maw           False              False            False   \n",
       "135          Ahri           False              False            False   \n",
       "136         Quinn           False              False            False   \n",
       "137       LeBlanc           False              False            False   \n",
       "138        Ezreal           False              False            False   \n",
       "\n",
       "     konsistenz_id_key  \n",
       "0                False  \n",
       "1                False  \n",
       "2                False  \n",
       "3                False  \n",
       "4                False  \n",
       "..                 ...  \n",
       "134              False  \n",
       "135              False  \n",
       "136              False  \n",
       "137              False  \n",
       "138              False  \n",
       "\n",
       "[139 rows x 9 columns]"
      ]
     },
     "execution_count": 19,
     "metadata": {},
     "output_type": "execute_result"
    }
   ],
   "source": [
    "df_champ2['konsistenz_id_key'] = df_champ2['id'].astype(str) == df_champ2['key'].astype(str)\n",
    "df_champ2[~df_champ2['konsistenz_id_key']]"
   ]
  },
  {
   "cell_type": "markdown",
   "id": "604bdb31",
   "metadata": {},
   "source": [
    "### Komplett leere oder fast leere Spalten"
   ]
  },
  {
   "cell_type": "code",
   "execution_count": 20,
   "id": "ebb64637",
   "metadata": {},
   "outputs": [
    {
     "name": "stdout",
     "output_type": "stream",
     "text": [
      "Komplett leere Spalten: []\n",
      "Fast leere Spalten (>90% NaN): []\n"
     ]
    }
   ],
   "source": [
    "leere_spalten = df_champ2.columns[df_champ2.isnull().all()]\n",
    "fast_leere_spalten = df_champ2.columns[df_champ2.isnull().mean() > 0.9]\n",
    "\n",
    "print(\"Komplett leere Spalten:\", list(leere_spalten))\n",
    "print(\"Fast leere Spalten (>90% NaN):\", list(fast_leere_spalten))"
   ]
  },
  {
   "cell_type": "markdown",
   "id": "17882040",
   "metadata": {},
   "source": [
    "### Datums-/Zeitspalten prüfen"
   ]
  },
  {
   "cell_type": "code",
   "execution_count": 21,
   "id": "01f472bf",
   "metadata": {},
   "outputs": [
    {
     "name": "stdout",
     "output_type": "stream",
     "text": [
      "Gefundene Textspalten: ['tags', 'title', 'key', 'name']\n"
     ]
    }
   ],
   "source": [
    "kategorie_spalten = df_champ2.select_dtypes(include=['object']).columns\n",
    "print(\"Gefundene Textspalten:\", list(kategorie_spalten))"
   ]
  },
  {
   "cell_type": "code",
   "execution_count": 22,
   "id": "53cbb845",
   "metadata": {},
   "outputs": [
    {
     "name": "stdout",
     "output_type": "stream",
     "text": [
      "Spalte: tags\n",
      "count    139.000000\n",
      "mean       1.784173\n",
      "std        0.430076\n",
      "min        0.000000\n",
      "25%        2.000000\n",
      "50%        2.000000\n",
      "75%        2.000000\n",
      "max        2.000000\n",
      "Name: tags, dtype: float64\n",
      "----------------------------------------\n",
      "Spalte: title\n",
      "count    139.000000\n",
      "mean      17.812950\n",
      "std        3.982877\n",
      "min        4.000000\n",
      "25%       15.000000\n",
      "50%       18.000000\n",
      "75%       21.000000\n",
      "max       27.000000\n",
      "Name: title, dtype: float64\n",
      "----------------------------------------\n",
      "Spalte: key\n",
      "count    139.000000\n",
      "mean       6.057554\n",
      "std        1.929067\n",
      "min        2.000000\n",
      "25%        5.000000\n",
      "50%        6.000000\n",
      "75%        7.000000\n",
      "max       12.000000\n",
      "Name: key, dtype: float64\n",
      "----------------------------------------\n",
      "Spalte: name\n",
      "count    139.000000\n",
      "mean       6.136691\n",
      "std        2.022344\n",
      "min        2.000000\n",
      "25%        5.000000\n",
      "50%        6.000000\n",
      "75%        7.000000\n",
      "max       12.000000\n",
      "Name: name, dtype: float64\n",
      "----------------------------------------\n"
     ]
    }
   ],
   "source": [
    "kategorie_spalten = df_champ2.select_dtypes(include=['object']).columns\n",
    "\n",
    "if len(kategorie_spalten) == 0:\n",
    "    print(\"Keine kategorischen (Text-)Spalten gefunden.\")\n",
    "else:\n",
    "    for spalte in kategorie_spalten:\n",
    "        print(f\"Spalte: {spalte}\")\n",
    "        print(df_champ2[spalte].str.len().describe())\n",
    "        print(\"-\" * 40)"
   ]
  },
  {
   "cell_type": "markdown",
   "id": "5fb218b6",
   "metadata": {},
   "source": [
    "### Zeichenketten in kategorischen Spalten"
   ]
  },
  {
   "cell_type": "code",
   "execution_count": 23,
   "id": "a4adacba",
   "metadata": {},
   "outputs": [
    {
     "name": "stdout",
     "output_type": "stream",
     "text": [
      "Gefundene Textspalten: ['tags', 'title', 'key', 'name']\n"
     ]
    }
   ],
   "source": [
    "kategorie_spalten = df_champ2.select_dtypes(include=['object']).columns\n",
    "print(\"Gefundene Textspalten:\", list(kategorie_spalten))"
   ]
  },
  {
   "cell_type": "code",
   "execution_count": 24,
   "id": "6ad9c448",
   "metadata": {},
   "outputs": [
    {
     "name": "stdout",
     "output_type": "stream",
     "text": [
      "Spalte: tags\n",
      "count    139.000000\n",
      "mean       1.784173\n",
      "std        0.430076\n",
      "min        0.000000\n",
      "25%        2.000000\n",
      "50%        2.000000\n",
      "75%        2.000000\n",
      "max        2.000000\n",
      "Name: tags, dtype: float64\n",
      "----------------------------------------\n",
      "Spalte: title\n",
      "count    139.000000\n",
      "mean      17.812950\n",
      "std        3.982877\n",
      "min        4.000000\n",
      "25%       15.000000\n",
      "50%       18.000000\n",
      "75%       21.000000\n",
      "max       27.000000\n",
      "Name: title, dtype: float64\n",
      "----------------------------------------\n",
      "Spalte: key\n",
      "count    139.000000\n",
      "mean       6.057554\n",
      "std        1.929067\n",
      "min        2.000000\n",
      "25%        5.000000\n",
      "50%        6.000000\n",
      "75%        7.000000\n",
      "max       12.000000\n",
      "Name: key, dtype: float64\n",
      "----------------------------------------\n",
      "Spalte: name\n",
      "count    139.000000\n",
      "mean       6.136691\n",
      "std        2.022344\n",
      "min        2.000000\n",
      "25%        5.000000\n",
      "50%        6.000000\n",
      "75%        7.000000\n",
      "max       12.000000\n",
      "Name: name, dtype: float64\n",
      "----------------------------------------\n"
     ]
    }
   ],
   "source": [
    "kategorie_spalten = df_champ2.select_dtypes(include=['object']).columns\n",
    "if len(kategorie_spalten) == 0:\n",
    "    print(\"Keine kategorischen (Text-)Spalten gefunden.\")\n",
    "else:\n",
    "    for spalte in kategorie_spalten:\n",
    "        print(f\"Spalte: {spalte}\")\n",
    "        print(df_champ2[spalte].str.len().describe())\n",
    "        print(\"-\" * 40)"
   ]
  },
  {
   "cell_type": "markdown",
   "id": "b7bad85f",
   "metadata": {},
   "source": [
    "### Patch-Version"
   ]
  },
  {
   "cell_type": "code",
   "execution_count": 25,
   "id": "f1e4c357",
   "metadata": {},
   "outputs": [
    {
     "name": "stdout",
     "output_type": "stream",
     "text": [
      "Verschiedene Patch-Versionen:\n",
      "version\n",
      "7.18.1    139\n",
      "Name: count, dtype: int64\n"
     ]
    }
   ],
   "source": [
    "pfad = r\"D:\\Python\\Projektarbeit\\Hauptordner\\champion_info_2.json\"\n",
    "with open(pfad, encoding='utf-8') as f:\n",
    "    roh = json.load(f)\n",
    "champ_dict = roh['data']\n",
    "champ_liste = list(champ_dict.values())\n",
    "df_champ2 = pd.json_normalize(champ_liste)\n",
    "df_champ2['version'] = roh['version']\n",
    "\n",
    "print(\"Verschiedene Patch-Versionen:\")\n",
    "print(df_champ2['version'].value_counts())"
   ]
  },
  {
   "cell_type": "markdown",
   "id": "14eb5449",
   "metadata": {},
   "source": [
    "### Sonderzeichen in Namen"
   ]
  },
  {
   "cell_type": "code",
   "execution_count": 26,
   "id": "13a08b83",
   "metadata": {},
   "outputs": [
    {
     "data": {
      "text/html": [
       "<div>\n",
       "<style scoped>\n",
       "    .dataframe tbody tr th:only-of-type {\n",
       "        vertical-align: middle;\n",
       "    }\n",
       "\n",
       "    .dataframe tbody tr th {\n",
       "        vertical-align: top;\n",
       "    }\n",
       "\n",
       "    .dataframe thead th {\n",
       "        text-align: right;\n",
       "    }\n",
       "</style>\n",
       "<table border=\"1\" class=\"dataframe\">\n",
       "  <thead>\n",
       "    <tr style=\"text-align: right;\">\n",
       "      <th></th>\n",
       "      <th>tags</th>\n",
       "      <th>title</th>\n",
       "      <th>id</th>\n",
       "      <th>key</th>\n",
       "      <th>name</th>\n",
       "      <th>version</th>\n",
       "    </tr>\n",
       "  </thead>\n",
       "  <tbody>\n",
       "    <tr>\n",
       "      <th>52</th>\n",
       "      <td>[Assassin, Fighter]</td>\n",
       "      <td>the Voidreaver</td>\n",
       "      <td>121</td>\n",
       "      <td>Khazix</td>\n",
       "      <td>Kha'Zix</td>\n",
       "      <td>7.18.1</td>\n",
       "    </tr>\n",
       "    <tr>\n",
       "      <th>56</th>\n",
       "      <td>[Fighter, Tank]</td>\n",
       "      <td>the Madman of Zaun</td>\n",
       "      <td>36</td>\n",
       "      <td>DrMundo</td>\n",
       "      <td>Dr. Mundo</td>\n",
       "      <td>7.18.1</td>\n",
       "    </tr>\n",
       "    <tr>\n",
       "      <th>75</th>\n",
       "      <td>[Tank, Mage]</td>\n",
       "      <td>the Terror of the Void</td>\n",
       "      <td>31</td>\n",
       "      <td>Chogath</td>\n",
       "      <td>Cho'Gath</td>\n",
       "      <td>7.18.1</td>\n",
       "    </tr>\n",
       "    <tr>\n",
       "      <th>94</th>\n",
       "      <td>[Mage]</td>\n",
       "      <td>the Eye of the Void</td>\n",
       "      <td>161</td>\n",
       "      <td>Velkoz</td>\n",
       "      <td>Vel'Koz</td>\n",
       "      <td>7.18.1</td>\n",
       "    </tr>\n",
       "    <tr>\n",
       "      <th>121</th>\n",
       "      <td>[Fighter]</td>\n",
       "      <td>the Void Burrower</td>\n",
       "      <td>421</td>\n",
       "      <td>RekSai</td>\n",
       "      <td>Rek'Sai</td>\n",
       "      <td>7.18.1</td>\n",
       "    </tr>\n",
       "    <tr>\n",
       "      <th>134</th>\n",
       "      <td>[Marksman, Mage]</td>\n",
       "      <td>the Mouth of the Abyss</td>\n",
       "      <td>96</td>\n",
       "      <td>KogMaw</td>\n",
       "      <td>Kog'Maw</td>\n",
       "      <td>7.18.1</td>\n",
       "    </tr>\n",
       "  </tbody>\n",
       "</table>\n",
       "</div>"
      ],
      "text/plain": [
       "                    tags                   title   id      key       name  \\\n",
       "52   [Assassin, Fighter]          the Voidreaver  121   Khazix    Kha'Zix   \n",
       "56       [Fighter, Tank]      the Madman of Zaun   36  DrMundo  Dr. Mundo   \n",
       "75          [Tank, Mage]  the Terror of the Void   31  Chogath   Cho'Gath   \n",
       "94                [Mage]     the Eye of the Void  161   Velkoz    Vel'Koz   \n",
       "121            [Fighter]       the Void Burrower  421   RekSai    Rek'Sai   \n",
       "134     [Marksman, Mage]  the Mouth of the Abyss   96   KogMaw    Kog'Maw   \n",
       "\n",
       "    version  \n",
       "52   7.18.1  \n",
       "56   7.18.1  \n",
       "75   7.18.1  \n",
       "94   7.18.1  \n",
       "121  7.18.1  \n",
       "134  7.18.1  "
      ]
     },
     "execution_count": 26,
     "metadata": {},
     "output_type": "execute_result"
    }
   ],
   "source": [
    "sonderzeichen = df_champ2['name'].apply(lambda x: re.findall(r'[^a-zA-Z0-9\\s]', x))\n",
    "df_champ2[sonderzeichen.apply(lambda x: len(x) > 0)]"
   ]
  },
  {
   "cell_type": "markdown",
   "id": "a39cd22b",
   "metadata": {},
   "source": [
    "### Key vs. Name Schreibweise"
   ]
  },
  {
   "cell_type": "code",
   "execution_count": 27,
   "id": "501b2195",
   "metadata": {},
   "outputs": [
    {
     "data": {
      "text/html": [
       "<div>\n",
       "<style scoped>\n",
       "    .dataframe tbody tr th:only-of-type {\n",
       "        vertical-align: middle;\n",
       "    }\n",
       "\n",
       "    .dataframe tbody tr th {\n",
       "        vertical-align: top;\n",
       "    }\n",
       "\n",
       "    .dataframe thead th {\n",
       "        text-align: right;\n",
       "    }\n",
       "</style>\n",
       "<table border=\"1\" class=\"dataframe\">\n",
       "  <thead>\n",
       "    <tr style=\"text-align: right;\">\n",
       "      <th></th>\n",
       "      <th>tags</th>\n",
       "      <th>title</th>\n",
       "      <th>id</th>\n",
       "      <th>key</th>\n",
       "      <th>name</th>\n",
       "      <th>version</th>\n",
       "      <th>name_lower</th>\n",
       "      <th>key_lower</th>\n",
       "    </tr>\n",
       "  </thead>\n",
       "  <tbody>\n",
       "    <tr>\n",
       "      <th>1</th>\n",
       "      <td>[Fighter, Tank]</td>\n",
       "      <td>the Monkey King</td>\n",
       "      <td>62</td>\n",
       "      <td>MonkeyKing</td>\n",
       "      <td>Wukong</td>\n",
       "      <td>7.18.1</td>\n",
       "      <td>wukong</td>\n",
       "      <td>monkeyking</td>\n",
       "    </tr>\n",
       "    <tr>\n",
       "      <th>17</th>\n",
       "      <td>[Marksman]</td>\n",
       "      <td>the Bounty Hunter</td>\n",
       "      <td>21</td>\n",
       "      <td>MissFortune</td>\n",
       "      <td>Miss Fortune</td>\n",
       "      <td>7.18.1</td>\n",
       "      <td>miss fortune</td>\n",
       "      <td>missfortune</td>\n",
       "    </tr>\n",
       "    <tr>\n",
       "      <th>52</th>\n",
       "      <td>[Assassin, Fighter]</td>\n",
       "      <td>the Voidreaver</td>\n",
       "      <td>121</td>\n",
       "      <td>Khazix</td>\n",
       "      <td>Kha'Zix</td>\n",
       "      <td>7.18.1</td>\n",
       "      <td>kha'zix</td>\n",
       "      <td>khazix</td>\n",
       "    </tr>\n",
       "    <tr>\n",
       "      <th>56</th>\n",
       "      <td>[Fighter, Tank]</td>\n",
       "      <td>the Madman of Zaun</td>\n",
       "      <td>36</td>\n",
       "      <td>DrMundo</td>\n",
       "      <td>Dr. Mundo</td>\n",
       "      <td>7.18.1</td>\n",
       "      <td>dr. mundo</td>\n",
       "      <td>drmundo</td>\n",
       "    </tr>\n",
       "    <tr>\n",
       "      <th>74</th>\n",
       "      <td>[Mage]</td>\n",
       "      <td>the Card Master</td>\n",
       "      <td>4</td>\n",
       "      <td>TwistedFate</td>\n",
       "      <td>Twisted Fate</td>\n",
       "      <td>7.18.1</td>\n",
       "      <td>twisted fate</td>\n",
       "      <td>twistedfate</td>\n",
       "    </tr>\n",
       "    <tr>\n",
       "      <th>75</th>\n",
       "      <td>[Tank, Mage]</td>\n",
       "      <td>the Terror of the Void</td>\n",
       "      <td>31</td>\n",
       "      <td>Chogath</td>\n",
       "      <td>Cho'Gath</td>\n",
       "      <td>7.18.1</td>\n",
       "      <td>cho'gath</td>\n",
       "      <td>chogath</td>\n",
       "    </tr>\n",
       "    <tr>\n",
       "      <th>94</th>\n",
       "      <td>[Mage]</td>\n",
       "      <td>the Eye of the Void</td>\n",
       "      <td>161</td>\n",
       "      <td>Velkoz</td>\n",
       "      <td>Vel'Koz</td>\n",
       "      <td>7.18.1</td>\n",
       "      <td>vel'koz</td>\n",
       "      <td>velkoz</td>\n",
       "    </tr>\n",
       "    <tr>\n",
       "      <th>101</th>\n",
       "      <td>[Assassin, Fighter]</td>\n",
       "      <td>the Wuju Bladesman</td>\n",
       "      <td>11</td>\n",
       "      <td>MasterYi</td>\n",
       "      <td>Master Yi</td>\n",
       "      <td>7.18.1</td>\n",
       "      <td>master yi</td>\n",
       "      <td>masteryi</td>\n",
       "    </tr>\n",
       "    <tr>\n",
       "      <th>111</th>\n",
       "      <td>[Support, Tank]</td>\n",
       "      <td>the River King</td>\n",
       "      <td>223</td>\n",
       "      <td>TahmKench</td>\n",
       "      <td>Tahm Kench</td>\n",
       "      <td>7.18.1</td>\n",
       "      <td>tahm kench</td>\n",
       "      <td>tahmkench</td>\n",
       "    </tr>\n",
       "    <tr>\n",
       "      <th>113</th>\n",
       "      <td>[Fighter, Assassin]</td>\n",
       "      <td>the Seneschal of Demacia</td>\n",
       "      <td>5</td>\n",
       "      <td>XinZhao</td>\n",
       "      <td>Xin Zhao</td>\n",
       "      <td>7.18.1</td>\n",
       "      <td>xin zhao</td>\n",
       "      <td>xinzhao</td>\n",
       "    </tr>\n",
       "    <tr>\n",
       "      <th>114</th>\n",
       "      <td>[Mage, Fighter]</td>\n",
       "      <td>The Star Forger</td>\n",
       "      <td>136</td>\n",
       "      <td>AurelionSol</td>\n",
       "      <td>Aurelion Sol</td>\n",
       "      <td>7.18.1</td>\n",
       "      <td>aurelion sol</td>\n",
       "      <td>aurelionsol</td>\n",
       "    </tr>\n",
       "    <tr>\n",
       "      <th>115</th>\n",
       "      <td>[Fighter, Assassin]</td>\n",
       "      <td>the Blind Monk</td>\n",
       "      <td>64</td>\n",
       "      <td>LeeSin</td>\n",
       "      <td>Lee Sin</td>\n",
       "      <td>7.18.1</td>\n",
       "      <td>lee sin</td>\n",
       "      <td>leesin</td>\n",
       "    </tr>\n",
       "    <tr>\n",
       "      <th>121</th>\n",
       "      <td>[Fighter]</td>\n",
       "      <td>the Void Burrower</td>\n",
       "      <td>421</td>\n",
       "      <td>RekSai</td>\n",
       "      <td>Rek'Sai</td>\n",
       "      <td>7.18.1</td>\n",
       "      <td>rek'sai</td>\n",
       "      <td>reksai</td>\n",
       "    </tr>\n",
       "    <tr>\n",
       "      <th>123</th>\n",
       "      <td>[Tank, Fighter]</td>\n",
       "      <td>the Exemplar of Demacia</td>\n",
       "      <td>59</td>\n",
       "      <td>JarvanIV</td>\n",
       "      <td>Jarvan IV</td>\n",
       "      <td>7.18.1</td>\n",
       "      <td>jarvan iv</td>\n",
       "      <td>jarvaniv</td>\n",
       "    </tr>\n",
       "    <tr>\n",
       "      <th>134</th>\n",
       "      <td>[Marksman, Mage]</td>\n",
       "      <td>the Mouth of the Abyss</td>\n",
       "      <td>96</td>\n",
       "      <td>KogMaw</td>\n",
       "      <td>Kog'Maw</td>\n",
       "      <td>7.18.1</td>\n",
       "      <td>kog'maw</td>\n",
       "      <td>kogmaw</td>\n",
       "    </tr>\n",
       "  </tbody>\n",
       "</table>\n",
       "</div>"
      ],
      "text/plain": [
       "                    tags                     title   id          key  \\\n",
       "1        [Fighter, Tank]           the Monkey King   62   MonkeyKing   \n",
       "17            [Marksman]         the Bounty Hunter   21  MissFortune   \n",
       "52   [Assassin, Fighter]            the Voidreaver  121       Khazix   \n",
       "56       [Fighter, Tank]        the Madman of Zaun   36      DrMundo   \n",
       "74                [Mage]           the Card Master    4  TwistedFate   \n",
       "75          [Tank, Mage]    the Terror of the Void   31      Chogath   \n",
       "94                [Mage]       the Eye of the Void  161       Velkoz   \n",
       "101  [Assassin, Fighter]        the Wuju Bladesman   11     MasterYi   \n",
       "111      [Support, Tank]            the River King  223    TahmKench   \n",
       "113  [Fighter, Assassin]  the Seneschal of Demacia    5      XinZhao   \n",
       "114      [Mage, Fighter]           The Star Forger  136  AurelionSol   \n",
       "115  [Fighter, Assassin]            the Blind Monk   64       LeeSin   \n",
       "121            [Fighter]         the Void Burrower  421       RekSai   \n",
       "123      [Tank, Fighter]   the Exemplar of Demacia   59     JarvanIV   \n",
       "134     [Marksman, Mage]    the Mouth of the Abyss   96       KogMaw   \n",
       "\n",
       "             name version    name_lower    key_lower  \n",
       "1          Wukong  7.18.1        wukong   monkeyking  \n",
       "17   Miss Fortune  7.18.1  miss fortune  missfortune  \n",
       "52        Kha'Zix  7.18.1       kha'zix       khazix  \n",
       "56      Dr. Mundo  7.18.1     dr. mundo      drmundo  \n",
       "74   Twisted Fate  7.18.1  twisted fate  twistedfate  \n",
       "75       Cho'Gath  7.18.1      cho'gath      chogath  \n",
       "94        Vel'Koz  7.18.1       vel'koz       velkoz  \n",
       "101     Master Yi  7.18.1     master yi     masteryi  \n",
       "111    Tahm Kench  7.18.1    tahm kench    tahmkench  \n",
       "113      Xin Zhao  7.18.1      xin zhao      xinzhao  \n",
       "114  Aurelion Sol  7.18.1  aurelion sol  aurelionsol  \n",
       "115       Lee Sin  7.18.1       lee sin       leesin  \n",
       "121       Rek'Sai  7.18.1       rek'sai       reksai  \n",
       "123     Jarvan IV  7.18.1     jarvan iv     jarvaniv  \n",
       "134       Kog'Maw  7.18.1       kog'maw       kogmaw  "
      ]
     },
     "execution_count": 27,
     "metadata": {},
     "output_type": "execute_result"
    }
   ],
   "source": [
    "df_champ2['name_lower'] = df_champ2['name'].str.lower()\n",
    "df_champ2['key_lower'] = df_champ2['key'].str.lower()\n",
    "df_champ2[df_champ2['name_lower'] != df_champ2['key_lower']]"
   ]
  },
  {
   "cell_type": "markdown",
   "id": "16f4acb1",
   "metadata": {},
   "source": [
    "### Titel auf Plausibilität"
   ]
  },
  {
   "cell_type": "code",
   "execution_count": 28,
   "id": "a6705383",
   "metadata": {},
   "outputs": [
    {
     "name": "stdout",
     "output_type": "stream",
     "text": [
      "Übersicht der Titel:\n",
      "title\n",
      "None                      1\n",
      "the Monkey King           1\n",
      "Grandmaster at Arms       1\n",
      "the Harbinger of Doom     1\n",
      "the Demon Jester          1\n",
      "                         ..\n",
      "the Mouth of the Abyss    1\n",
      "the Nine-Tailed Fox       1\n",
      "Demacia's Wings           1\n",
      "the Deceiver              1\n",
      "the Prodigal Explorer     1\n",
      "Name: count, Length: 139, dtype: int64\n"
     ]
    }
   ],
   "source": [
    "if 'title' in df_champ2.columns:\n",
    "    print(\"Übersicht der Titel:\")\n",
    "    print(df_champ2['title'].value_counts())\n",
    "else:\n",
    "    print(\"Spalte 'title' nicht vorhanden.\")"
   ]
  },
  {
   "cell_type": "markdown",
   "id": "40fcf852",
   "metadata": {},
   "source": [
    "### Namens-Eindeutigkeit"
   ]
  },
  {
   "cell_type": "code",
   "execution_count": 29,
   "id": "124a148a",
   "metadata": {},
   "outputs": [
    {
     "name": "stdout",
     "output_type": "stream",
     "text": [
      "Anzahl doppelter Namen: 0\n"
     ]
    }
   ],
   "source": [
    "doppelte_namen = df_champ2['name'].duplicated().sum()\n",
    "print(f\"Anzahl doppelter Namen: {doppelte_namen}\")"
   ]
  },
  {
   "cell_type": "markdown",
   "id": "ddfcef61",
   "metadata": {},
   "source": [
    "### Platzhalter-Champions"
   ]
  },
  {
   "cell_type": "code",
   "execution_count": 30,
   "id": "0d8f57d0",
   "metadata": {},
   "outputs": [
    {
     "data": {
      "text/html": [
       "<div>\n",
       "<style scoped>\n",
       "    .dataframe tbody tr th:only-of-type {\n",
       "        vertical-align: middle;\n",
       "    }\n",
       "\n",
       "    .dataframe tbody tr th {\n",
       "        vertical-align: top;\n",
       "    }\n",
       "\n",
       "    .dataframe thead th {\n",
       "        text-align: right;\n",
       "    }\n",
       "</style>\n",
       "<table border=\"1\" class=\"dataframe\">\n",
       "  <thead>\n",
       "    <tr style=\"text-align: right;\">\n",
       "      <th></th>\n",
       "      <th>tags</th>\n",
       "      <th>title</th>\n",
       "      <th>id</th>\n",
       "      <th>key</th>\n",
       "      <th>name</th>\n",
       "      <th>version</th>\n",
       "      <th>name_lower</th>\n",
       "      <th>key_lower</th>\n",
       "    </tr>\n",
       "  </thead>\n",
       "  <tbody>\n",
       "    <tr>\n",
       "      <th>0</th>\n",
       "      <td>[]</td>\n",
       "      <td>None</td>\n",
       "      <td>-1</td>\n",
       "      <td>None</td>\n",
       "      <td>None</td>\n",
       "      <td>7.18.1</td>\n",
       "      <td>none</td>\n",
       "      <td>none</td>\n",
       "    </tr>\n",
       "  </tbody>\n",
       "</table>\n",
       "</div>"
      ],
      "text/plain": [
       "  tags title  id   key  name version name_lower key_lower\n",
       "0   []  None  -1  None  None  7.18.1       none      none"
      ]
     },
     "execution_count": 30,
     "metadata": {},
     "output_type": "execute_result"
    }
   ],
   "source": [
    "df_champ2[df_champ2['id'] == -1]"
   ]
  },
  {
   "cell_type": "markdown",
   "id": "44827c37",
   "metadata": {},
   "source": [
    "### Tags-Spalte"
   ]
  },
  {
   "cell_type": "code",
   "execution_count": 31,
   "id": "30f239ec",
   "metadata": {},
   "outputs": [
    {
     "data": {
      "text/plain": [
       "tags\n",
       "Fighter     68\n",
       "Mage        52\n",
       "Tank        41\n",
       "Assassin    34\n",
       "Support     28\n",
       "Marksman    25\n",
       "Name: count, dtype: int64"
      ]
     },
     "execution_count": 31,
     "metadata": {},
     "output_type": "execute_result"
    }
   ],
   "source": [
    "df_champ2.explode('tags')['tags'].value_counts()"
   ]
  },
  {
   "cell_type": "markdown",
   "id": "3078d75e",
   "metadata": {},
   "source": [
    "### Anzahl Tags pro Champion"
   ]
  },
  {
   "cell_type": "code",
   "execution_count": 32,
   "id": "155c5148",
   "metadata": {},
   "outputs": [
    {
     "name": "stdout",
     "output_type": "stream",
     "text": [
      "Anzahl Tags je Champion:\n",
      "anzahl_tags\n",
      "0      1\n",
      "1     28\n",
      "2    110\n",
      "Name: count, dtype: int64\n"
     ]
    }
   ],
   "source": [
    "df_champ2['anzahl_tags'] = df_champ2['tags'].apply(len)\n",
    "print(\"Anzahl Tags je Champion:\")\n",
    "print(df_champ2['anzahl_tags'].value_counts().sort_index())"
   ]
  },
  {
   "cell_type": "markdown",
   "id": "aca529c8",
   "metadata": {},
   "source": [
    "### Ausreißer Checks"
   ]
  },
  {
   "cell_type": "code",
   "execution_count": 33,
   "id": "31a6f303",
   "metadata": {},
   "outputs": [],
   "source": [
    "# Auch hier sind die numerischen Spalten (id, key, anzahl_tags) nur IDs oder Kategorien. \n",
    "# Die Werte sind fest definiert und plausibel, somit keine echten Ausreißer"
   ]
  },
  {
   "cell_type": "markdown",
   "id": "be1dc728",
   "metadata": {},
   "source": [
    "### Dataset 3: champion_info2 – Spezifische Checks\n",
    "- **Sonderzeichen im Namen prüfen**\n",
    "- **Key-Format-Prüfung (id, key, name)**\n",
    "- **Leere Strings prüfen**\n",
    "- **Doppelte id oder key prüfen**\n",
    "- **Gleicher name für mehrere ids prüfen**\n",
    "- **Negativwerte in id prüfen (z. B. -1)**\n",
    "- **Spalten name_lower und key_lower logisch korrekt**\n",
    "- **Titel auf Plausibilität prüfen**"
   ]
  },
  {
   "cell_type": "markdown",
   "id": "b36026d2",
   "metadata": {},
   "source": [
    "### Sonderzeichen im Namen"
   ]
  },
  {
   "cell_type": "code",
   "execution_count": 34,
   "id": "340c61c8",
   "metadata": {},
   "outputs": [
    {
     "name": "stdout",
     "output_type": "stream",
     "text": [
      "Champions mit Sonderzeichen im Namen:\n",
      "Empty DataFrame\n",
      "Columns: [id, name]\n",
      "Index: []\n"
     ]
    }
   ],
   "source": [
    "pattern = re.compile(r\"^[A-Za-zÀ-ÿ .'-]+$\")\n",
    "\n",
    "sonderzeichen = df_champ2[~df_champ2[\"name\"].apply(lambda x: bool(pattern.match(x)))]\n",
    "print(\"Champions mit Sonderzeichen im Namen:\")\n",
    "print(sonderzeichen[[\"id\", \"name\"]])"
   ]
  },
  {
   "cell_type": "markdown",
   "id": "ac9e2a89",
   "metadata": {},
   "source": [
    "### Key-Format-Prüfung"
   ]
  },
  {
   "cell_type": "code",
   "execution_count": 35,
   "id": "cba19cd2",
   "metadata": {},
   "outputs": [
    {
     "name": "stdout",
     "output_type": "stream",
     "text": [
      "Datentypen prüfen:\n",
      "id       int64\n",
      "key     object\n",
      "name    object\n",
      "dtype: object\n",
      "\n",
      "Ungültige IDs (nicht ganzzahlig):\n",
      "Empty DataFrame\n",
      "Columns: [tags, title, id, key, name, version, name_lower, key_lower, anzahl_tags]\n",
      "Index: []\n"
     ]
    }
   ],
   "source": [
    "print(\"Datentypen prüfen:\")\n",
    "print(df_champ2[[\"id\", \"key\", \"name\"]].dtypes)\n",
    "\n",
    "print(\"\\nUngültige IDs (nicht ganzzahlig):\")\n",
    "print(df_champ2[~df_champ2[\"id\"].apply(lambda x: isinstance(x, int))])"
   ]
  },
  {
   "cell_type": "markdown",
   "id": "1700a397",
   "metadata": {},
   "source": [
    "### Leere Strings"
   ]
  },
  {
   "cell_type": "code",
   "execution_count": 36,
   "id": "3e499e02",
   "metadata": {},
   "outputs": [
    {
     "name": "stdout",
     "output_type": "stream",
     "text": [
      "Leere Einträge in 'id': 0\n",
      "Leere Einträge in 'key': 0\n",
      "Leere Einträge in 'name': 0\n"
     ]
    }
   ],
   "source": [
    "spalten = [\"id\", \"key\", \"name\"]\n",
    "for spalte in spalten:\n",
    "    leere = df_champ2[df_champ2[spalte].astype(str).str.strip() == \"\"]\n",
    "    print(f\"Leere Einträge in '{spalte}': {len(leere)}\")\n",
    "    if not leere.empty:\n",
    "        print(leere[spalte])"
   ]
  },
  {
   "cell_type": "markdown",
   "id": "5d155ab6",
   "metadata": {},
   "source": [
    "### Doppelte id oder key"
   ]
  },
  {
   "cell_type": "code",
   "execution_count": 37,
   "id": "9ceef211",
   "metadata": {},
   "outputs": [
    {
     "name": "stdout",
     "output_type": "stream",
     "text": [
      "Doppelte IDs:\n",
      "Empty DataFrame\n",
      "Columns: [id, name]\n",
      "Index: []\n",
      "\n",
      "Doppelte Keys:\n",
      "Empty DataFrame\n",
      "Columns: [key, name]\n",
      "Index: []\n"
     ]
    }
   ],
   "source": [
    "doppelte_ids = df_champ2[df_champ2[\"id\"].duplicated()]\n",
    "print(\"Doppelte IDs:\")\n",
    "print(doppelte_ids[[\"id\", \"name\"]])\n",
    "\n",
    "doppelte_keys = df_champ2[df_champ2[\"key\"].duplicated()]\n",
    "print(\"\\nDoppelte Keys:\")\n",
    "print(doppelte_keys[[\"key\", \"name\"]])"
   ]
  },
  {
   "cell_type": "markdown",
   "id": "8c93b042",
   "metadata": {},
   "source": [
    "### Gleicher name für mehrere ids"
   ]
  },
  {
   "cell_type": "code",
   "execution_count": 38,
   "id": "cd3540d3",
   "metadata": {},
   "outputs": [
    {
     "name": "stdout",
     "output_type": "stream",
     "text": [
      "Gleicher Name mit mehreren IDs:\n",
      "Series([], Name: id, dtype: int64)\n"
     ]
    }
   ],
   "source": [
    "mehrfach_namen = df_champ2.groupby(\"name\")[\"id\"].nunique()\n",
    "doppelte_namen = mehrfach_namen[mehrfach_namen > 1]\n",
    "\n",
    "print(\"Gleicher Name mit mehreren IDs:\")\n",
    "print(doppelte_namen)"
   ]
  },
  {
   "cell_type": "markdown",
   "id": "9ca078cd",
   "metadata": {},
   "source": [
    "### Negativwerte in id"
   ]
  },
  {
   "cell_type": "code",
   "execution_count": 39,
   "id": "182e257c",
   "metadata": {},
   "outputs": [
    {
     "name": "stdout",
     "output_type": "stream",
     "text": [
      "Negative IDs:\n",
      "   id  name\n",
      "0  -1  None\n"
     ]
    }
   ],
   "source": [
    "negative_ids = df_champ2[df_champ2[\"id\"] < 0]\n",
    "print(\"Negative IDs:\")\n",
    "print(negative_ids[[\"id\", \"name\"]])\n",
    "\n",
    "# -1 steht für kein Ban ist im platzhalter gespeichert."
   ]
  },
  {
   "cell_type": "code",
   "execution_count": 40,
   "id": "600d69f5",
   "metadata": {},
   "outputs": [
    {
     "data": {
      "text/html": [
       "<div>\n",
       "<style scoped>\n",
       "    .dataframe tbody tr th:only-of-type {\n",
       "        vertical-align: middle;\n",
       "    }\n",
       "\n",
       "    .dataframe tbody tr th {\n",
       "        vertical-align: top;\n",
       "    }\n",
       "\n",
       "    .dataframe thead th {\n",
       "        text-align: right;\n",
       "    }\n",
       "</style>\n",
       "<table border=\"1\" class=\"dataframe\">\n",
       "  <thead>\n",
       "    <tr style=\"text-align: right;\">\n",
       "      <th></th>\n",
       "      <th>tags</th>\n",
       "      <th>title</th>\n",
       "      <th>id</th>\n",
       "      <th>key</th>\n",
       "      <th>name</th>\n",
       "      <th>version</th>\n",
       "      <th>name_lower</th>\n",
       "      <th>key_lower</th>\n",
       "      <th>anzahl_tags</th>\n",
       "    </tr>\n",
       "  </thead>\n",
       "  <tbody>\n",
       "    <tr>\n",
       "      <th>0</th>\n",
       "      <td>[]</td>\n",
       "      <td>None</td>\n",
       "      <td>-1</td>\n",
       "      <td>None</td>\n",
       "      <td>None</td>\n",
       "      <td>7.18.1</td>\n",
       "      <td>none</td>\n",
       "      <td>none</td>\n",
       "      <td>0</td>\n",
       "    </tr>\n",
       "  </tbody>\n",
       "</table>\n",
       "</div>"
      ],
      "text/plain": [
       "  tags title  id   key  name version name_lower key_lower  anzahl_tags\n",
       "0   []  None  -1  None  None  7.18.1       none      none            0"
      ]
     },
     "execution_count": 40,
     "metadata": {},
     "output_type": "execute_result"
    }
   ],
   "source": [
    "df_champ2[df_champ2[\"id\"] == -1]"
   ]
  },
  {
   "cell_type": "code",
   "execution_count": 41,
   "id": "250c04ea",
   "metadata": {},
   "outputs": [
    {
     "data": {
      "text/html": [
       "<div>\n",
       "<style scoped>\n",
       "    .dataframe tbody tr th:only-of-type {\n",
       "        vertical-align: middle;\n",
       "    }\n",
       "\n",
       "    .dataframe tbody tr th {\n",
       "        vertical-align: top;\n",
       "    }\n",
       "\n",
       "    .dataframe thead th {\n",
       "        text-align: right;\n",
       "    }\n",
       "</style>\n",
       "<table border=\"1\" class=\"dataframe\">\n",
       "  <thead>\n",
       "    <tr style=\"text-align: right;\">\n",
       "      <th></th>\n",
       "      <th>id</th>\n",
       "      <th>name</th>\n",
       "      <th>title</th>\n",
       "      <th>key</th>\n",
       "    </tr>\n",
       "  </thead>\n",
       "  <tbody>\n",
       "    <tr>\n",
       "      <th>0</th>\n",
       "      <td>-1</td>\n",
       "      <td>None</td>\n",
       "      <td>None</td>\n",
       "      <td>None</td>\n",
       "    </tr>\n",
       "  </tbody>\n",
       "</table>\n",
       "</div>"
      ],
      "text/plain": [
       "   id  name title   key\n",
       "0  -1  None  None  None"
      ]
     },
     "execution_count": 41,
     "metadata": {},
     "output_type": "execute_result"
    }
   ],
   "source": [
    "df_champ2[df_champ2[\"id\"] == -1][[\"id\", \"name\", \"title\", \"key\"]]"
   ]
  },
  {
   "cell_type": "code",
   "execution_count": 42,
   "id": "16a98cc7",
   "metadata": {},
   "outputs": [],
   "source": [
    "df_champ2.loc[df_champ2[\"id\"] == -1, \"id\"] = 0\n",
    "df_champ2.loc[df_champ2[\"id\"] == 0, [\"name\", \"title\", \"key\", \"name_lower\", \"key_lower\"]] = \"Placeholder\"\n",
    "\n",
    "# -1 in 0 Umgewandelt."
   ]
  },
  {
   "cell_type": "code",
   "execution_count": 43,
   "id": "fba8137c",
   "metadata": {},
   "outputs": [
    {
     "name": "stdout",
     "output_type": "stream",
     "text": [
      "Platzhalter-Datensatz (id = 0):\n",
      "   id         name        title          key\n",
      "0   0  Placeholder  Placeholder  Placeholder\n"
     ]
    }
   ],
   "source": [
    "placeholder_check = df_champ2[df_champ2[\"id\"] == 0]\n",
    "print(\"Platzhalter-Datensatz (id = 0):\")\n",
    "print(placeholder_check[[\"id\", \"name\", \"title\", \"key\"]])\n",
    "\n",
    "# Gegencheck"
   ]
  },
  {
   "cell_type": "markdown",
   "id": "38d3b835",
   "metadata": {},
   "source": [
    "### Spalten name_lower und key_lower logisch korrekt"
   ]
  },
  {
   "cell_type": "code",
   "execution_count": 44,
   "id": "ae4c2338",
   "metadata": {},
   "outputs": [
    {
     "name": "stdout",
     "output_type": "stream",
     "text": [
      "Abweichungen bei name_lower:\n",
      "          name   name_lower\n",
      "0  Placeholder  Placeholder\n",
      "\n",
      "Abweichungen bei key_lower:\n",
      "           key    key_lower\n",
      "0  Placeholder  Placeholder\n"
     ]
    }
   ],
   "source": [
    "name_check = df_champ2[\"name_lower\"] != df_champ2[\"name\"].str.lower()\n",
    "key_check = df_champ2[\"key_lower\"] != df_champ2[\"key\"].str.lower()\n",
    "\n",
    "fehlerhafte_namen = df_champ2[name_check][[\"name\", \"name_lower\"]]\n",
    "fehlerhafte_keys = df_champ2[key_check][[\"key\", \"key_lower\"]]\n",
    "\n",
    "print(\"Abweichungen bei name_lower:\")\n",
    "print(fehlerhafte_namen)\n",
    "\n",
    "print(\"\\nAbweichungen bei key_lower:\")\n",
    "print(fehlerhafte_keys)"
   ]
  },
  {
   "cell_type": "markdown",
   "id": "51e3c25c",
   "metadata": {},
   "source": [
    "### Titel auf Plausibilität"
   ]
  },
  {
   "cell_type": "code",
   "execution_count": 45,
   "id": "fd00a00b",
   "metadata": {},
   "outputs": [
    {
     "data": {
      "text/html": [
       "<div>\n",
       "<style scoped>\n",
       "    .dataframe tbody tr th:only-of-type {\n",
       "        vertical-align: middle;\n",
       "    }\n",
       "\n",
       "    .dataframe tbody tr th {\n",
       "        vertical-align: top;\n",
       "    }\n",
       "\n",
       "    .dataframe thead th {\n",
       "        text-align: right;\n",
       "    }\n",
       "</style>\n",
       "<table border=\"1\" class=\"dataframe\">\n",
       "  <thead>\n",
       "    <tr style=\"text-align: right;\">\n",
       "      <th></th>\n",
       "      <th>id</th>\n",
       "      <th>name</th>\n",
       "      <th>title</th>\n",
       "    </tr>\n",
       "  </thead>\n",
       "  <tbody>\n",
       "    <tr>\n",
       "      <th>0</th>\n",
       "      <td>0</td>\n",
       "      <td>Placeholder</td>\n",
       "      <td>Placeholder</td>\n",
       "    </tr>\n",
       "  </tbody>\n",
       "</table>\n",
       "</div>"
      ],
      "text/plain": [
       "   id         name        title\n",
       "0   0  Placeholder  Placeholder"
      ]
     },
     "execution_count": 45,
     "metadata": {},
     "output_type": "execute_result"
    }
   ],
   "source": [
    "ungueltige_title = df_champ2[\"title\"].isna() | (df_champ2[\"title\"] == \"\") | (df_champ2[\"title\"].str.lower() == \"placeholder\")\n",
    "df_champ2[ungueltige_title][[\"id\", \"name\", \"title\"]]"
   ]
  },
  {
   "cell_type": "markdown",
   "id": "94c5e9b4",
   "metadata": {},
   "source": [
    "### Cross-Dataset-Checks\n",
    "- **Champion-IDs aus games in champ2 vorhanden?**\n",
    "- **Gibt es IDs in champ2, die nie in games vorkommen?**\n",
    "- **Wurde -1 in games durch 0 ersetzt?**\n",
    "- **Name-Schreibweise konsistent zwischen champ1 und champ2**\n",
    "- **id-Vergleich mit champ1: Gibt es Unterschiede?**\n",
    "- **Doppelte name oder key in Kombination mit champ1**\n",
    "- **Verlinkung id  name oder key für spätere Merges korrekt?**"
   ]
  },
  {
   "cell_type": "markdown",
   "id": "2348abeb",
   "metadata": {},
   "source": [
    "### Champion-IDs aus games in champ2 vorhanden?"
   ]
  },
  {
   "cell_type": "code",
   "execution_count": 46,
   "id": "66dd204b",
   "metadata": {},
   "outputs": [
    {
     "name": "stdout",
     "output_type": "stream",
     "text": [
      "Champion-IDs in Games, aber nicht in Champion 2:\n",
      "set()\n"
     ]
    }
   ],
   "source": [
    "df = pd.read_csv(\"games.csv\")\n",
    "champ2_ids = set(df_champ2[\"id\"])\n",
    "champ_columns = [\n",
    "    \"t1_champ1id\", \"t1_champ2id\", \"t1_champ3id\", \"t1_champ4id\", \"t1_champ5id\",\n",
    "    \"t2_champ1id\", \"t2_champ2id\", \"t2_champ3id\", \"t2_champ4id\", \"t2_champ5id\"\n",
    "]\n",
    "game_ids = set(df[champ_columns].values.ravel())\n",
    "fehlende_ids = game_ids - champ2_ids\n",
    "\n",
    "print(\"Champion-IDs in Games, aber nicht in Champion 2:\")\n",
    "print(fehlende_ids)"
   ]
  },
  {
   "cell_type": "markdown",
   "id": "9dd51275",
   "metadata": {},
   "source": [
    "### Gibt es IDs in champ2, die nie in games vorkommen?"
   ]
  },
  {
   "cell_type": "code",
   "execution_count": 47,
   "id": "c111e464",
   "metadata": {},
   "outputs": [
    {
     "name": "stdout",
     "output_type": "stream",
     "text": [
      "Champion-IDs in Champion 2, aber nicht in Games:\n",
      "{0}\n"
     ]
    }
   ],
   "source": [
    "champ2_ids = set(df_champ2[\"id\"])\n",
    "champ_columns = [\n",
    "    \"t1_champ1id\", \"t1_champ2id\", \"t1_champ3id\", \"t1_champ4id\", \"t1_champ5id\",\n",
    "    \"t2_champ1id\", \"t2_champ2id\", \"t2_champ3id\", \"t2_champ4id\", \"t2_champ5id\"\n",
    "]\n",
    "game_ids = set(df[champ_columns].values.ravel())\n",
    "unbenutzte_ids = champ2_ids - game_ids\n",
    "\n",
    "print(\"Champion-IDs in Champion 2, aber nicht in Games:\")\n",
    "print(unbenutzte_ids)"
   ]
  },
  {
   "cell_type": "markdown",
   "id": "9df4c32d",
   "metadata": {},
   "source": [
    "### Wurde -1 in games durch 0 ersetzt?"
   ]
  },
  {
   "cell_type": "code",
   "execution_count": 48,
   "id": "153ec103",
   "metadata": {},
   "outputs": [],
   "source": [
    "games2 = pd.read_csv(\"games2.csv\")\n",
    "for spalte in games2.columns:\n",
    "    anzahl = (games2[spalte] == -1).sum()\n",
    "    if anzahl > 0:\n",
    "        print(f\"{spalte}: {anzahl}x -1\")"
   ]
  },
  {
   "cell_type": "markdown",
   "id": "b9bf47b8",
   "metadata": {},
   "source": [
    "### Name-Schreibweise konsistent zwischen champ1 und champ2"
   ]
  },
  {
   "cell_type": "code",
   "execution_count": 49,
   "id": "051b9dfc",
   "metadata": {},
   "outputs": [
    {
     "name": "stdout",
     "output_type": "stream",
     "text": [
      "Anzahl unterschiedlicher Namen bei gleicher ID: 0\n"
     ]
    },
    {
     "data": {
      "text/html": [
       "<div>\n",
       "<style scoped>\n",
       "    .dataframe tbody tr th:only-of-type {\n",
       "        vertical-align: middle;\n",
       "    }\n",
       "\n",
       "    .dataframe tbody tr th {\n",
       "        vertical-align: top;\n",
       "    }\n",
       "\n",
       "    .dataframe thead th {\n",
       "        text-align: right;\n",
       "    }\n",
       "</style>\n",
       "<table border=\"1\" class=\"dataframe\">\n",
       "  <thead>\n",
       "    <tr style=\"text-align: right;\">\n",
       "      <th></th>\n",
       "      <th>id</th>\n",
       "      <th>name_champ1</th>\n",
       "      <th>name_champ2</th>\n",
       "    </tr>\n",
       "  </thead>\n",
       "  <tbody>\n",
       "  </tbody>\n",
       "</table>\n",
       "</div>"
      ],
      "text/plain": [
       "Empty DataFrame\n",
       "Columns: [id, name_champ1, name_champ2]\n",
       "Index: []"
      ]
     },
     "metadata": {},
     "output_type": "display_data"
    }
   ],
   "source": [
    "df_champ1 = pd.read_csv(\"champion1.0.csv\")\n",
    "\n",
    "namen_champ1 = df_champ1[[\"id\", \"name\"]].copy()\n",
    "namen_champ2 = df_champ2[[\"id\", \"name\"]].copy()\n",
    "\n",
    "namen_merge = pd.merge(namen_champ1, namen_champ2, on=\"id\", suffixes=(\"_champ1\", \"_champ2\"))\n",
    "unterschiede = namen_merge[namen_merge[\"name_champ1\"] != namen_merge[\"name_champ2\"]]\n",
    "print(\"Anzahl unterschiedlicher Namen bei gleicher ID:\", len(unterschiede))\n",
    "display(unterschiede)"
   ]
  },
  {
   "cell_type": "markdown",
   "id": "d6e3cb63",
   "metadata": {},
   "source": [
    "### id-Vergleich mit champ1"
   ]
  },
  {
   "cell_type": "code",
   "execution_count": 50,
   "id": "36e16ff5",
   "metadata": {},
   "outputs": [
    {
     "name": "stdout",
     "output_type": "stream",
     "text": [
      "IDs nur in Champion 1: set()\n",
      "IDs nur in Champion 2: {0}\n"
     ]
    }
   ],
   "source": [
    "ids_champ1 = set(df_champ1[\"id\"])\n",
    "ids_champ2 = set(df_champ2[\"id\"])\n",
    "\n",
    "nur_in_champ1 = ids_champ1 - ids_champ2\n",
    "nur_in_champ2 = ids_champ2 - ids_champ1\n",
    "\n",
    "print(\"IDs nur in Champion 1:\", nur_in_champ1)\n",
    "print(\"IDs nur in Champion 2:\", nur_in_champ2)"
   ]
  },
  {
   "cell_type": "markdown",
   "id": "63294157",
   "metadata": {},
   "source": [
    "### Doppelte name oder key in Kombination mit champ1"
   ]
  },
  {
   "cell_type": "code",
   "execution_count": 51,
   "id": "57e388b8",
   "metadata": {},
   "outputs": [
    {
     "name": "stdout",
     "output_type": "stream",
     "text": [
      "Kombis nur in Champion 1: set()\n",
      "Kombis nur in Champion 2: {('Placeholder', 'Placeholder')}\n"
     ]
    }
   ],
   "source": [
    "kombis_champ1 = set(zip(df_champ1[\"name\"], df_champ1[\"key\"]))\n",
    "kombis_champ2 = set(zip(df_champ2[\"name\"], df_champ2[\"key\"]))\n",
    "\n",
    "gemeinsame_kombis = kombis_champ1 & kombis_champ2\n",
    "nur_in_champ1 = kombis_champ1 - kombis_champ2\n",
    "nur_in_champ2 = kombis_champ2 - kombis_champ1\n",
    "\n",
    "print(\"Kombis nur in Champion 1:\", nur_in_champ1)\n",
    "print(\"Kombis nur in Champion 2:\", nur_in_champ2)"
   ]
  },
  {
   "cell_type": "markdown",
   "id": "ad0df0df",
   "metadata": {},
   "source": [
    "### Verlinkung id  name oder key"
   ]
  },
  {
   "cell_type": "code",
   "execution_count": 52,
   "id": "e0235208",
   "metadata": {},
   "outputs": [
    {
     "name": "stdout",
     "output_type": "stream",
     "text": [
      "Champion 1:\n",
      "IDs: 138\n",
      "Namen: 138\n",
      "Keys: 138\n",
      "\n",
      "Champion 2:\n",
      "IDs: 139\n",
      "Namen: 139\n",
      "Keys: 139\n"
     ]
    }
   ],
   "source": [
    "print(\"Champion 1:\")\n",
    "print(\"IDs:\", df_champ1[\"id\"].nunique())\n",
    "print(\"Namen:\", df_champ1[\"name\"].nunique())\n",
    "print(\"Keys:\", df_champ1[\"key\"].nunique())\n",
    "\n",
    "print(\"\\nChampion 2:\")\n",
    "print(\"IDs:\", df_champ2[\"id\"].nunique())\n",
    "print(\"Namen:\", df_champ2[\"name\"].nunique())\n",
    "print(\"Keys:\", df_champ2[\"key\"].nunique())\n",
    "\n",
    "# Bei Champion 2 einer mehr wegen dem Platzhalter (-1 zu 0 umgewandelt)"
   ]
  },
  {
   "cell_type": "code",
   "execution_count": 53,
   "id": "96aa967d",
   "metadata": {},
   "outputs": [
    {
     "name": "stdout",
     "output_type": "stream",
     "text": [
      "Gemeinsame IDs: 138\n",
      "Gemeinsame Namen: 138\n",
      "Gemeinsame Keys: 138\n"
     ]
    }
   ],
   "source": [
    "ids_match = set(df_champ1[\"id\"]) & set(df_champ2[\"id\"])\n",
    "print(\"Gemeinsame IDs:\", len(ids_match))\n",
    "\n",
    "namen_match = set(df_champ1[\"name\"]) & set(df_champ2[\"name\"])\n",
    "print(\"Gemeinsame Namen:\", len(namen_match))\n",
    "\n",
    "keys_match = set(df_champ1[\"key\"]) & set(df_champ2[\"key\"])\n",
    "print(\"Gemeinsame Keys:\", len(keys_match))"
   ]
  },
  {
   "cell_type": "markdown",
   "id": "760a38bd",
   "metadata": {},
   "source": [
    "### Abspeichern und eine Copi erstellen"
   ]
  },
  {
   "cell_type": "code",
   "execution_count": 54,
   "id": "3d1125ae",
   "metadata": {},
   "outputs": [
    {
     "name": "stdout",
     "output_type": "stream",
     "text": [
      "Sicherheitskopie erfolgreich gespeichert: 'champion2.0.csv'\n"
     ]
    }
   ],
   "source": [
    "df_champ2.to_csv(\"champion2.0.csv\", index=False)\n",
    "print(\"Sicherheitskopie erfolgreich gespeichert: 'champion2.0.csv'\")"
   ]
  }
 ],
 "metadata": {
  "kernelspec": {
   "display_name": "Python 3",
   "language": "python",
   "name": "python3"
  },
  "language_info": {
   "codemirror_mode": {
    "name": "ipython",
    "version": 3
   },
   "file_extension": ".py",
   "mimetype": "text/x-python",
   "name": "python",
   "nbconvert_exporter": "python",
   "pygments_lexer": "ipython3",
   "version": "3.13.2"
  }
 },
 "nbformat": 4,
 "nbformat_minor": 5
}
