{
 "cells": [
  {
   "cell_type": "markdown",
   "id": "64406eca",
   "metadata": {},
   "source": [
    "### Imports"
   ]
  },
  {
   "cell_type": "code",
   "execution_count": 1,
   "id": "2db7e433",
   "metadata": {},
   "outputs": [],
   "source": [
    "import sys\n",
    "import pandas as pd\n",
    "import numpy as np\n",
    "import json\n",
    "import re"
   ]
  },
  {
   "cell_type": "markdown",
   "id": "569dd845",
   "metadata": {},
   "source": [
    "### Pfade & Encoding"
   ]
  },
  {
   "cell_type": "code",
   "execution_count": 2,
   "id": "2e3ea712",
   "metadata": {},
   "outputs": [],
   "source": [
    "data_path = \"./Hauptordner\"\n",
    "encoding = \"utf-8\""
   ]
  },
  {
   "cell_type": "markdown",
   "id": "faa2c4fd",
   "metadata": {},
   "source": [
    "### Zufallsseed für Reproduzierbarkeit"
   ]
  },
  {
   "cell_type": "code",
   "execution_count": 3,
   "id": "edbbbf85",
   "metadata": {},
   "outputs": [],
   "source": [
    "RANDOM_SEED = 42"
   ]
  },
  {
   "cell_type": "markdown",
   "id": "76869f69",
   "metadata": {},
   "source": [
    "\n",
    "### Dataset 4: summoner_spell_info – Grundchecks\n",
    "- **Form & Größe**\n",
    "- **Spaltennamen** und **Datentypen**\n",
    "- **Erste Zeilen**\n",
    "- **Zufällige Stichprobe**\n",
    "- **Statistische Übersicht**\n",
    "- **Fehlende Werte**\n",
    "- **Duplikate**\n",
    "- **Eindeutigkeit von Schlüsseln**\n",
    "- **Min-/Max-Werte**\n",
    "- **Wertebereiche**\n",
    "- **Kardinalität**\n",
    "- **Kategorische Verteilungen**\n",
    "- **Auffälligkeiten markieren**\n",
    "- **Konsistenz zwischen Spalten**\n",
    "- **Komplett leere oder fast leere Spalten**\n",
    "- **Datums-/Zeitspalten prüfen**\n",
    "- **Zeichenketten in kategorischen Spalten prüfen**\n",
    "- **Version prüfen**\n",
    "- **Summoner-Level-Bereich prüfen**\n",
    "- **Beschreibung auf Vollständigkeit prüfen**\n",
    "- **Sonderzeichen in Namen prüfen**\n",
    "- **Key-Format prüfen**\n",
    "- **Doppelte Beschreibungen prüfen**\n",
    "- **Ausreißer Checks**"
   ]
  },
  {
   "cell_type": "markdown",
   "id": "4b847d0d",
   "metadata": {},
   "source": [
    "### Form & Größe"
   ]
  },
  {
   "cell_type": "code",
   "execution_count": 4,
   "id": "1d3dfeb3",
   "metadata": {},
   "outputs": [
    {
     "data": {
      "text/plain": [
       "(17, 3)"
      ]
     },
     "execution_count": 4,
     "metadata": {},
     "output_type": "execute_result"
    }
   ],
   "source": [
    "pfad = r\"D:\\Python\\Projektarbeit\\Hauptordner\\summoner_spell_info.json\"\n",
    "df_spells = pd.read_json(pfad)\n",
    "df_spells.shape"
   ]
  },
  {
   "cell_type": "markdown",
   "id": "a1e877f1",
   "metadata": {},
   "source": [
    "### Spaltennamen und Datentypen"
   ]
  },
  {
   "cell_type": "code",
   "execution_count": 5,
   "id": "54cc470f",
   "metadata": {},
   "outputs": [
    {
     "data": {
      "text/plain": [
       "type       object\n",
       "version    object\n",
       "data       object\n",
       "dtype: object"
      ]
     },
     "execution_count": 5,
     "metadata": {},
     "output_type": "execute_result"
    }
   ],
   "source": [
    "df_spells.dtypes"
   ]
  },
  {
   "cell_type": "markdown",
   "id": "393aa9dd",
   "metadata": {},
   "source": [
    "### Erste Zeilen"
   ]
  },
  {
   "cell_type": "code",
   "execution_count": 6,
   "id": "70b43055",
   "metadata": {},
   "outputs": [
    {
     "data": {
      "text/html": [
       "<div>\n",
       "<style scoped>\n",
       "    .dataframe tbody tr th:only-of-type {\n",
       "        vertical-align: middle;\n",
       "    }\n",
       "\n",
       "    .dataframe tbody tr th {\n",
       "        vertical-align: top;\n",
       "    }\n",
       "\n",
       "    .dataframe thead th {\n",
       "        text-align: right;\n",
       "    }\n",
       "</style>\n",
       "<table border=\"1\" class=\"dataframe\">\n",
       "  <thead>\n",
       "    <tr style=\"text-align: right;\">\n",
       "      <th></th>\n",
       "      <th>type</th>\n",
       "      <th>version</th>\n",
       "      <th>data</th>\n",
       "    </tr>\n",
       "  </thead>\n",
       "  <tbody>\n",
       "    <tr>\n",
       "      <th>1</th>\n",
       "      <td>summoner</td>\n",
       "      <td>7.17.2</td>\n",
       "      <td>{'id': 1, 'summonerLevel': 6, 'name': 'Cleanse...</td>\n",
       "    </tr>\n",
       "    <tr>\n",
       "      <th>3</th>\n",
       "      <td>summoner</td>\n",
       "      <td>7.17.2</td>\n",
       "      <td>{'id': 3, 'summonerLevel': 4, 'name': 'Exhaust...</td>\n",
       "    </tr>\n",
       "    <tr>\n",
       "      <th>4</th>\n",
       "      <td>summoner</td>\n",
       "      <td>7.17.2</td>\n",
       "      <td>{'id': 4, 'summonerLevel': 8, 'name': 'Flash',...</td>\n",
       "    </tr>\n",
       "    <tr>\n",
       "      <th>6</th>\n",
       "      <td>summoner</td>\n",
       "      <td>7.17.2</td>\n",
       "      <td>{'id': 6, 'summonerLevel': 1, 'name': 'Ghost',...</td>\n",
       "    </tr>\n",
       "    <tr>\n",
       "      <th>7</th>\n",
       "      <td>summoner</td>\n",
       "      <td>7.17.2</td>\n",
       "      <td>{'id': 7, 'summonerLevel': 1, 'name': 'Heal', ...</td>\n",
       "    </tr>\n",
       "  </tbody>\n",
       "</table>\n",
       "</div>"
      ],
      "text/plain": [
       "       type version                                               data\n",
       "1  summoner  7.17.2  {'id': 1, 'summonerLevel': 6, 'name': 'Cleanse...\n",
       "3  summoner  7.17.2  {'id': 3, 'summonerLevel': 4, 'name': 'Exhaust...\n",
       "4  summoner  7.17.2  {'id': 4, 'summonerLevel': 8, 'name': 'Flash',...\n",
       "6  summoner  7.17.2  {'id': 6, 'summonerLevel': 1, 'name': 'Ghost',...\n",
       "7  summoner  7.17.2  {'id': 7, 'summonerLevel': 1, 'name': 'Heal', ..."
      ]
     },
     "execution_count": 6,
     "metadata": {},
     "output_type": "execute_result"
    }
   ],
   "source": [
    "df_spells.head()"
   ]
  },
  {
   "cell_type": "markdown",
   "id": "36815cc4",
   "metadata": {},
   "source": [
    "### Zufällige Stichprobe"
   ]
  },
  {
   "cell_type": "code",
   "execution_count": 7,
   "id": "89100884",
   "metadata": {},
   "outputs": [
    {
     "data": {
      "text/html": [
       "<div>\n",
       "<style scoped>\n",
       "    .dataframe tbody tr th:only-of-type {\n",
       "        vertical-align: middle;\n",
       "    }\n",
       "\n",
       "    .dataframe tbody tr th {\n",
       "        vertical-align: top;\n",
       "    }\n",
       "\n",
       "    .dataframe thead th {\n",
       "        text-align: right;\n",
       "    }\n",
       "</style>\n",
       "<table border=\"1\" class=\"dataframe\">\n",
       "  <thead>\n",
       "    <tr style=\"text-align: right;\">\n",
       "      <th></th>\n",
       "      <th>type</th>\n",
       "      <th>version</th>\n",
       "      <th>data</th>\n",
       "    </tr>\n",
       "  </thead>\n",
       "  <tbody>\n",
       "    <tr>\n",
       "      <th>6</th>\n",
       "      <td>summoner</td>\n",
       "      <td>7.17.2</td>\n",
       "      <td>{'id': 6, 'summonerLevel': 1, 'name': 'Ghost',...</td>\n",
       "    </tr>\n",
       "    <tr>\n",
       "      <th>33</th>\n",
       "      <td>summoner</td>\n",
       "      <td>7.17.2</td>\n",
       "      <td>{'id': 33, 'summonerLevel': 1, 'name': 'Nexus ...</td>\n",
       "    </tr>\n",
       "    <tr>\n",
       "      <th>13</th>\n",
       "      <td>summoner</td>\n",
       "      <td>7.17.2</td>\n",
       "      <td>{'id': 13, 'summonerLevel': 1, 'name': 'Clarit...</td>\n",
       "    </tr>\n",
       "    <tr>\n",
       "      <th>4</th>\n",
       "      <td>summoner</td>\n",
       "      <td>7.17.2</td>\n",
       "      <td>{'id': 4, 'summonerLevel': 8, 'name': 'Flash',...</td>\n",
       "    </tr>\n",
       "    <tr>\n",
       "      <th>12</th>\n",
       "      <td>summoner</td>\n",
       "      <td>7.17.2</td>\n",
       "      <td>{'id': 12, 'summonerLevel': 6, 'name': 'Telepo...</td>\n",
       "    </tr>\n",
       "  </tbody>\n",
       "</table>\n",
       "</div>"
      ],
      "text/plain": [
       "        type version                                               data\n",
       "6   summoner  7.17.2  {'id': 6, 'summonerLevel': 1, 'name': 'Ghost',...\n",
       "33  summoner  7.17.2  {'id': 33, 'summonerLevel': 1, 'name': 'Nexus ...\n",
       "13  summoner  7.17.2  {'id': 13, 'summonerLevel': 1, 'name': 'Clarit...\n",
       "4   summoner  7.17.2  {'id': 4, 'summonerLevel': 8, 'name': 'Flash',...\n",
       "12  summoner  7.17.2  {'id': 12, 'summonerLevel': 6, 'name': 'Telepo..."
      ]
     },
     "execution_count": 7,
     "metadata": {},
     "output_type": "execute_result"
    }
   ],
   "source": [
    "df_spells.sample(5, random_state=1)"
   ]
  },
  {
   "cell_type": "markdown",
   "id": "62a83a91",
   "metadata": {},
   "source": [
    "### Statistische Übersicht"
   ]
  },
  {
   "cell_type": "code",
   "execution_count": 8,
   "id": "e6ea76fa",
   "metadata": {},
   "outputs": [
    {
     "data": {
      "text/plain": [
       "<bound method NDFrame.describe of         type version                                               data\n",
       "1   summoner  7.17.2  {'id': 1, 'summonerLevel': 6, 'name': 'Cleanse...\n",
       "3   summoner  7.17.2  {'id': 3, 'summonerLevel': 4, 'name': 'Exhaust...\n",
       "4   summoner  7.17.2  {'id': 4, 'summonerLevel': 8, 'name': 'Flash',...\n",
       "6   summoner  7.17.2  {'id': 6, 'summonerLevel': 1, 'name': 'Ghost',...\n",
       "7   summoner  7.17.2  {'id': 7, 'summonerLevel': 1, 'name': 'Heal', ...\n",
       "11  summoner  7.17.2  {'id': 11, 'summonerLevel': 10, 'name': 'Smite...\n",
       "12  summoner  7.17.2  {'id': 12, 'summonerLevel': 6, 'name': 'Telepo...\n",
       "13  summoner  7.17.2  {'id': 13, 'summonerLevel': 1, 'name': 'Clarit...\n",
       "14  summoner  7.17.2  {'id': 14, 'summonerLevel': 10, 'name': 'Ignit...\n",
       "21  summoner  7.17.2  {'id': 21, 'summonerLevel': 4, 'name': 'Barrie...\n",
       "30  summoner  7.17.2  {'id': 30, 'summonerLevel': 1, 'name': 'To the...\n",
       "31  summoner  7.17.2  {'id': 31, 'summonerLevel': 1, 'name': 'Poro T...\n",
       "32  summoner  7.17.2  {'id': 32, 'summonerLevel': 1, 'name': 'Mark',...\n",
       "33  summoner  7.17.2  {'id': 33, 'summonerLevel': 1, 'name': 'Nexus ...\n",
       "34  summoner  7.17.2  {'id': 34, 'summonerLevel': 1, 'name': 'Nexus ...\n",
       "35  summoner  7.17.2  {'id': 35, 'summonerLevel': 1, 'name': 'Disabl...\n",
       "36  summoner  7.17.2  {'id': 36, 'summonerLevel': 1, 'name': 'Disabl...>"
      ]
     },
     "execution_count": 8,
     "metadata": {},
     "output_type": "execute_result"
    }
   ],
   "source": [
    "df_spells.describe"
   ]
  },
  {
   "cell_type": "markdown",
   "id": "961f2bd0",
   "metadata": {},
   "source": [
    "### Fehlende Werte"
   ]
  },
  {
   "cell_type": "code",
   "execution_count": 9,
   "id": "ba11e988",
   "metadata": {},
   "outputs": [
    {
     "data": {
      "text/plain": [
       "type       0\n",
       "version    0\n",
       "data       0\n",
       "dtype: int64"
      ]
     },
     "execution_count": 9,
     "metadata": {},
     "output_type": "execute_result"
    }
   ],
   "source": [
    "df_spells.isnull().sum()"
   ]
  },
  {
   "cell_type": "markdown",
   "id": "1fdc8a30",
   "metadata": {},
   "source": [
    "### Duplikate"
   ]
  },
  {
   "cell_type": "code",
   "execution_count": 10,
   "id": "832119bb",
   "metadata": {},
   "outputs": [
    {
     "data": {
      "text/plain": [
       "np.int64(0)"
      ]
     },
     "execution_count": 10,
     "metadata": {},
     "output_type": "execute_result"
    }
   ],
   "source": [
    "pfad = r\"D:\\Python\\Projektarbeit\\Hauptordner\\summoner_spell_info.json\"\n",
    "data = pd.read_json(pfad)\n",
    "spell_dict = data.loc[data.index[0], 'data']\n",
    "df_spells = pd.json_normalize(spell_dict.values())\n",
    "\n",
    "df_spells.duplicated().sum()"
   ]
  },
  {
   "cell_type": "markdown",
   "id": "9d89bce6",
   "metadata": {},
   "source": [
    "### Eindeutigkeit von Schlüsseln"
   ]
  },
  {
   "cell_type": "code",
   "execution_count": 11,
   "id": "3abaa60f",
   "metadata": {},
   "outputs": [
    {
     "data": {
      "text/plain": [
       "True"
      ]
     },
     "execution_count": 11,
     "metadata": {},
     "output_type": "execute_result"
    }
   ],
   "source": [
    "pfad = r\"D:\\Python\\Projektarbeit\\Hauptordner\\summoner_spell_info.json\"\n",
    "data = pd.read_json(pfad)\n",
    "spell_dict = data['data']\n",
    "df_spells = pd.json_normalize(spell_dict.values)\n",
    "\n",
    "df_spells['key'].is_unique"
   ]
  },
  {
   "cell_type": "markdown",
   "id": "42fb4f96",
   "metadata": {},
   "source": [
    "### Min-/Max-Werte"
   ]
  },
  {
   "cell_type": "code",
   "execution_count": 12,
   "id": "f9f9e547",
   "metadata": {},
   "outputs": [
    {
     "data": {
      "text/html": [
       "<div>\n",
       "<style scoped>\n",
       "    .dataframe tbody tr th:only-of-type {\n",
       "        vertical-align: middle;\n",
       "    }\n",
       "\n",
       "    .dataframe tbody tr th {\n",
       "        vertical-align: top;\n",
       "    }\n",
       "\n",
       "    .dataframe thead th {\n",
       "        text-align: right;\n",
       "    }\n",
       "</style>\n",
       "<table border=\"1\" class=\"dataframe\">\n",
       "  <thead>\n",
       "    <tr style=\"text-align: right;\">\n",
       "      <th></th>\n",
       "      <th>id</th>\n",
       "      <th>summonerLevel</th>\n",
       "    </tr>\n",
       "  </thead>\n",
       "  <tbody>\n",
       "    <tr>\n",
       "      <th>min</th>\n",
       "      <td>1.0</td>\n",
       "      <td>1.0</td>\n",
       "    </tr>\n",
       "    <tr>\n",
       "      <th>max</th>\n",
       "      <td>36.0</td>\n",
       "      <td>10.0</td>\n",
       "    </tr>\n",
       "  </tbody>\n",
       "</table>\n",
       "</div>"
      ],
      "text/plain": [
       "       id  summonerLevel\n",
       "min   1.0            1.0\n",
       "max  36.0           10.0"
      ]
     },
     "execution_count": 12,
     "metadata": {},
     "output_type": "execute_result"
    }
   ],
   "source": [
    "df_spells.describe().loc[['min', 'max']]"
   ]
  },
  {
   "cell_type": "markdown",
   "id": "4d592e95",
   "metadata": {},
   "source": [
    "### Wertebereiche"
   ]
  },
  {
   "cell_type": "code",
   "execution_count": 13,
   "id": "783b2c91",
   "metadata": {},
   "outputs": [
    {
     "data": {
      "text/html": [
       "<div>\n",
       "<style scoped>\n",
       "    .dataframe tbody tr th:only-of-type {\n",
       "        vertical-align: middle;\n",
       "    }\n",
       "\n",
       "    .dataframe tbody tr th {\n",
       "        vertical-align: top;\n",
       "    }\n",
       "\n",
       "    .dataframe thead th {\n",
       "        text-align: right;\n",
       "    }\n",
       "</style>\n",
       "<table border=\"1\" class=\"dataframe\">\n",
       "  <thead>\n",
       "    <tr style=\"text-align: right;\">\n",
       "      <th></th>\n",
       "      <th>id</th>\n",
       "      <th>summonerLevel</th>\n",
       "    </tr>\n",
       "  </thead>\n",
       "  <tbody>\n",
       "    <tr>\n",
       "      <th>count</th>\n",
       "      <td>17.000000</td>\n",
       "      <td>17.000000</td>\n",
       "    </tr>\n",
       "    <tr>\n",
       "      <th>mean</th>\n",
       "      <td>19.000000</td>\n",
       "      <td>3.411765</td>\n",
       "    </tr>\n",
       "    <tr>\n",
       "      <th>std</th>\n",
       "      <td>12.980755</td>\n",
       "      <td>3.355198</td>\n",
       "    </tr>\n",
       "    <tr>\n",
       "      <th>min</th>\n",
       "      <td>1.000000</td>\n",
       "      <td>1.000000</td>\n",
       "    </tr>\n",
       "    <tr>\n",
       "      <th>25%</th>\n",
       "      <td>7.000000</td>\n",
       "      <td>1.000000</td>\n",
       "    </tr>\n",
       "    <tr>\n",
       "      <th>50%</th>\n",
       "      <td>14.000000</td>\n",
       "      <td>1.000000</td>\n",
       "    </tr>\n",
       "    <tr>\n",
       "      <th>75%</th>\n",
       "      <td>32.000000</td>\n",
       "      <td>6.000000</td>\n",
       "    </tr>\n",
       "    <tr>\n",
       "      <th>max</th>\n",
       "      <td>36.000000</td>\n",
       "      <td>10.000000</td>\n",
       "    </tr>\n",
       "  </tbody>\n",
       "</table>\n",
       "</div>"
      ],
      "text/plain": [
       "              id  summonerLevel\n",
       "count  17.000000      17.000000\n",
       "mean   19.000000       3.411765\n",
       "std    12.980755       3.355198\n",
       "min     1.000000       1.000000\n",
       "25%     7.000000       1.000000\n",
       "50%    14.000000       1.000000\n",
       "75%    32.000000       6.000000\n",
       "max    36.000000      10.000000"
      ]
     },
     "execution_count": 13,
     "metadata": {},
     "output_type": "execute_result"
    }
   ],
   "source": [
    "df_spells.describe()"
   ]
  },
  {
   "cell_type": "markdown",
   "id": "dc273939",
   "metadata": {},
   "source": [
    "### Kardinalität"
   ]
  },
  {
   "cell_type": "code",
   "execution_count": 14,
   "id": "419f559d",
   "metadata": {},
   "outputs": [
    {
     "data": {
      "text/plain": [
       "id               17\n",
       "summonerLevel     5\n",
       "name             15\n",
       "key              17\n",
       "description      15\n",
       "dtype: int64"
      ]
     },
     "execution_count": 14,
     "metadata": {},
     "output_type": "execute_result"
    }
   ],
   "source": [
    "df_spells.nunique()"
   ]
  },
  {
   "cell_type": "markdown",
   "id": "bd589a69",
   "metadata": {},
   "source": [
    "### Kategorische Verteilungen"
   ]
  },
  {
   "cell_type": "code",
   "execution_count": 15,
   "id": "525d1fa7",
   "metadata": {},
   "outputs": [
    {
     "name": "stdout",
     "output_type": "stream",
     "text": [
      "Index(['id', 'summonerLevel', 'name', 'key', 'description'], dtype='object')\n"
     ]
    },
    {
     "data": {
      "text/plain": [
       "key\n",
       "SummonerBoost                   1\n",
       "SummonerExhaust                 1\n",
       "SummonerFlash                   1\n",
       "SummonerHaste                   1\n",
       "SummonerHeal                    1\n",
       "SummonerSmite                   1\n",
       "SummonerTeleport                1\n",
       "SummonerMana                    1\n",
       "SummonerDot                     1\n",
       "SummonerBarrier                 1\n",
       "SummonerPoroRecall              1\n",
       "SummonerPoroThrow               1\n",
       "SummonerSnowball                1\n",
       "SummonerSiegeChampSelect1       1\n",
       "SummonerSiegeChampSelect2       1\n",
       "SummonerDarkStarChampSelect1    1\n",
       "SummonerDarkStarChampSelect2    1\n",
       "Name: count, dtype: int64"
      ]
     },
     "execution_count": 15,
     "metadata": {},
     "output_type": "execute_result"
    }
   ],
   "source": [
    "pfad = r\"D:\\Python\\Projektarbeit\\Hauptordner\\summoner_spell_info.json\"\n",
    "with open(pfad, encoding='utf-8') as f:\n",
    "    raw = json.load(f)\n",
    "spell_dict = raw['data']\n",
    "spell_liste = list(spell_dict.values())\n",
    "df_spells = pd.json_normalize(spell_liste)\n",
    "\n",
    "print(df_spells.columns)\n",
    "df_spells['key'].value_counts()"
   ]
  },
  {
   "cell_type": "markdown",
   "id": "09c74eb8",
   "metadata": {},
   "source": [
    "### Auffälligkeiten markieren"
   ]
  },
  {
   "cell_type": "code",
   "execution_count": 16,
   "id": "554858a1",
   "metadata": {},
   "outputs": [
    {
     "data": {
      "text/html": [
       "<div>\n",
       "<style scoped>\n",
       "    .dataframe tbody tr th:only-of-type {\n",
       "        vertical-align: middle;\n",
       "    }\n",
       "\n",
       "    .dataframe tbody tr th {\n",
       "        vertical-align: top;\n",
       "    }\n",
       "\n",
       "    .dataframe thead th {\n",
       "        text-align: right;\n",
       "    }\n",
       "</style>\n",
       "<table border=\"1\" class=\"dataframe\">\n",
       "  <thead>\n",
       "    <tr style=\"text-align: right;\">\n",
       "      <th></th>\n",
       "      <th>id</th>\n",
       "      <th>summonerLevel</th>\n",
       "      <th>name</th>\n",
       "      <th>key</th>\n",
       "      <th>description</th>\n",
       "      <th>auffällig_leer</th>\n",
       "      <th>auffällig_doppelt</th>\n",
       "      <th>auffällig_name</th>\n",
       "    </tr>\n",
       "  </thead>\n",
       "  <tbody>\n",
       "    <tr>\n",
       "      <th>13</th>\n",
       "      <td>33</td>\n",
       "      <td>1</td>\n",
       "      <td>Nexus Siege: Siege Weapon Slot</td>\n",
       "      <td>SummonerSiegeChampSelect1</td>\n",
       "      <td>In Nexus Siege, Summoner Spells are replaced w...</td>\n",
       "      <td>False</td>\n",
       "      <td>False</td>\n",
       "      <td>True</td>\n",
       "    </tr>\n",
       "    <tr>\n",
       "      <th>14</th>\n",
       "      <td>34</td>\n",
       "      <td>1</td>\n",
       "      <td>Nexus Siege: Siege Weapon Slot</td>\n",
       "      <td>SummonerSiegeChampSelect2</td>\n",
       "      <td>In Nexus Siege, Summoner Spells are replaced w...</td>\n",
       "      <td>False</td>\n",
       "      <td>False</td>\n",
       "      <td>True</td>\n",
       "    </tr>\n",
       "    <tr>\n",
       "      <th>15</th>\n",
       "      <td>35</td>\n",
       "      <td>1</td>\n",
       "      <td>Disabled Summoner Spells</td>\n",
       "      <td>SummonerDarkStarChampSelect1</td>\n",
       "      <td>Summoner spells are disabled in this mode.</td>\n",
       "      <td>False</td>\n",
       "      <td>False</td>\n",
       "      <td>True</td>\n",
       "    </tr>\n",
       "    <tr>\n",
       "      <th>16</th>\n",
       "      <td>36</td>\n",
       "      <td>1</td>\n",
       "      <td>Disabled Summoner Spells</td>\n",
       "      <td>SummonerDarkStarChampSelect2</td>\n",
       "      <td>Summoner spells are disabled in this mode.</td>\n",
       "      <td>False</td>\n",
       "      <td>False</td>\n",
       "      <td>True</td>\n",
       "    </tr>\n",
       "  </tbody>\n",
       "</table>\n",
       "</div>"
      ],
      "text/plain": [
       "    id  summonerLevel                            name  \\\n",
       "13  33              1  Nexus Siege: Siege Weapon Slot   \n",
       "14  34              1  Nexus Siege: Siege Weapon Slot   \n",
       "15  35              1        Disabled Summoner Spells   \n",
       "16  36              1        Disabled Summoner Spells   \n",
       "\n",
       "                             key  \\\n",
       "13     SummonerSiegeChampSelect1   \n",
       "14     SummonerSiegeChampSelect2   \n",
       "15  SummonerDarkStarChampSelect1   \n",
       "16  SummonerDarkStarChampSelect2   \n",
       "\n",
       "                                          description  auffällig_leer  \\\n",
       "13  In Nexus Siege, Summoner Spells are replaced w...           False   \n",
       "14  In Nexus Siege, Summoner Spells are replaced w...           False   \n",
       "15         Summoner spells are disabled in this mode.           False   \n",
       "16         Summoner spells are disabled in this mode.           False   \n",
       "\n",
       "    auffällig_doppelt  auffällig_name  \n",
       "13              False            True  \n",
       "14              False            True  \n",
       "15              False            True  \n",
       "16              False            True  "
      ]
     },
     "execution_count": 16,
     "metadata": {},
     "output_type": "execute_result"
    }
   ],
   "source": [
    "df_spells['auffällig_leer'] = df_spells.isnull().any(axis=1)\n",
    "df_spells['auffällig_doppelt'] = df_spells.duplicated(subset='key', keep=False)\n",
    "df_spells['auffällig_name'] = df_spells['name'].str.len() > 20\n",
    "df_spells[df_spells[['auffällig_leer', 'auffällig_doppelt', 'auffällig_name']].any(axis=1)]"
   ]
  },
  {
   "cell_type": "markdown",
   "id": "bd586b72",
   "metadata": {},
   "source": [
    "### Konsistenz zwischen Spalten"
   ]
  },
  {
   "cell_type": "code",
   "execution_count": 17,
   "id": "113ab247",
   "metadata": {},
   "outputs": [
    {
     "data": {
      "text/html": [
       "<div>\n",
       "<style scoped>\n",
       "    .dataframe tbody tr th:only-of-type {\n",
       "        vertical-align: middle;\n",
       "    }\n",
       "\n",
       "    .dataframe tbody tr th {\n",
       "        vertical-align: top;\n",
       "    }\n",
       "\n",
       "    .dataframe thead th {\n",
       "        text-align: right;\n",
       "    }\n",
       "</style>\n",
       "<table border=\"1\" class=\"dataframe\">\n",
       "  <thead>\n",
       "    <tr style=\"text-align: right;\">\n",
       "      <th></th>\n",
       "      <th>id</th>\n",
       "      <th>summonerLevel</th>\n",
       "      <th>name</th>\n",
       "      <th>key</th>\n",
       "      <th>description</th>\n",
       "      <th>auffällig_leer</th>\n",
       "      <th>auffällig_doppelt</th>\n",
       "      <th>auffällig_name</th>\n",
       "      <th>konsistenz_id_key</th>\n",
       "    </tr>\n",
       "  </thead>\n",
       "  <tbody>\n",
       "    <tr>\n",
       "      <th>0</th>\n",
       "      <td>1</td>\n",
       "      <td>6</td>\n",
       "      <td>Cleanse</td>\n",
       "      <td>SummonerBoost</td>\n",
       "      <td>Removes all disables (excluding suppression an...</td>\n",
       "      <td>False</td>\n",
       "      <td>False</td>\n",
       "      <td>False</td>\n",
       "      <td>False</td>\n",
       "    </tr>\n",
       "    <tr>\n",
       "      <th>1</th>\n",
       "      <td>3</td>\n",
       "      <td>4</td>\n",
       "      <td>Exhaust</td>\n",
       "      <td>SummonerExhaust</td>\n",
       "      <td>Exhausts target enemy champion, reducing their...</td>\n",
       "      <td>False</td>\n",
       "      <td>False</td>\n",
       "      <td>False</td>\n",
       "      <td>False</td>\n",
       "    </tr>\n",
       "    <tr>\n",
       "      <th>2</th>\n",
       "      <td>4</td>\n",
       "      <td>8</td>\n",
       "      <td>Flash</td>\n",
       "      <td>SummonerFlash</td>\n",
       "      <td>Teleports your champion a short distance towar...</td>\n",
       "      <td>False</td>\n",
       "      <td>False</td>\n",
       "      <td>False</td>\n",
       "      <td>False</td>\n",
       "    </tr>\n",
       "    <tr>\n",
       "      <th>3</th>\n",
       "      <td>6</td>\n",
       "      <td>1</td>\n",
       "      <td>Ghost</td>\n",
       "      <td>SummonerHaste</td>\n",
       "      <td>Your champion gains increased Movement Speed a...</td>\n",
       "      <td>False</td>\n",
       "      <td>False</td>\n",
       "      <td>False</td>\n",
       "      <td>False</td>\n",
       "    </tr>\n",
       "    <tr>\n",
       "      <th>4</th>\n",
       "      <td>7</td>\n",
       "      <td>1</td>\n",
       "      <td>Heal</td>\n",
       "      <td>SummonerHeal</td>\n",
       "      <td>Restores 90-345 Health (depending on champion ...</td>\n",
       "      <td>False</td>\n",
       "      <td>False</td>\n",
       "      <td>False</td>\n",
       "      <td>False</td>\n",
       "    </tr>\n",
       "    <tr>\n",
       "      <th>5</th>\n",
       "      <td>11</td>\n",
       "      <td>10</td>\n",
       "      <td>Smite</td>\n",
       "      <td>SummonerSmite</td>\n",
       "      <td>Deals 390-1000 true damage (depending on champ...</td>\n",
       "      <td>False</td>\n",
       "      <td>False</td>\n",
       "      <td>False</td>\n",
       "      <td>False</td>\n",
       "    </tr>\n",
       "    <tr>\n",
       "      <th>6</th>\n",
       "      <td>12</td>\n",
       "      <td>6</td>\n",
       "      <td>Teleport</td>\n",
       "      <td>SummonerTeleport</td>\n",
       "      <td>After channeling for 4.5 seconds, teleports yo...</td>\n",
       "      <td>False</td>\n",
       "      <td>False</td>\n",
       "      <td>False</td>\n",
       "      <td>False</td>\n",
       "    </tr>\n",
       "    <tr>\n",
       "      <th>7</th>\n",
       "      <td>13</td>\n",
       "      <td>1</td>\n",
       "      <td>Clarity</td>\n",
       "      <td>SummonerMana</td>\n",
       "      <td>Restores 50% of your champion's maximum Mana. ...</td>\n",
       "      <td>False</td>\n",
       "      <td>False</td>\n",
       "      <td>False</td>\n",
       "      <td>False</td>\n",
       "    </tr>\n",
       "    <tr>\n",
       "      <th>8</th>\n",
       "      <td>14</td>\n",
       "      <td>10</td>\n",
       "      <td>Ignite</td>\n",
       "      <td>SummonerDot</td>\n",
       "      <td>Ignites target enemy champion, dealing 70-410 ...</td>\n",
       "      <td>False</td>\n",
       "      <td>False</td>\n",
       "      <td>False</td>\n",
       "      <td>False</td>\n",
       "    </tr>\n",
       "    <tr>\n",
       "      <th>9</th>\n",
       "      <td>21</td>\n",
       "      <td>4</td>\n",
       "      <td>Barrier</td>\n",
       "      <td>SummonerBarrier</td>\n",
       "      <td>Shields your champion from 115-455 damage (dep...</td>\n",
       "      <td>False</td>\n",
       "      <td>False</td>\n",
       "      <td>False</td>\n",
       "      <td>False</td>\n",
       "    </tr>\n",
       "    <tr>\n",
       "      <th>10</th>\n",
       "      <td>30</td>\n",
       "      <td>1</td>\n",
       "      <td>To the King!</td>\n",
       "      <td>SummonerPoroRecall</td>\n",
       "      <td>Quickly travel to the Poro King's side.</td>\n",
       "      <td>False</td>\n",
       "      <td>False</td>\n",
       "      <td>False</td>\n",
       "      <td>False</td>\n",
       "    </tr>\n",
       "    <tr>\n",
       "      <th>11</th>\n",
       "      <td>31</td>\n",
       "      <td>1</td>\n",
       "      <td>Poro Toss</td>\n",
       "      <td>SummonerPoroThrow</td>\n",
       "      <td>Toss a Poro at your enemies. If it hits, you c...</td>\n",
       "      <td>False</td>\n",
       "      <td>False</td>\n",
       "      <td>False</td>\n",
       "      <td>False</td>\n",
       "    </tr>\n",
       "    <tr>\n",
       "      <th>12</th>\n",
       "      <td>32</td>\n",
       "      <td>1</td>\n",
       "      <td>Mark</td>\n",
       "      <td>SummonerSnowball</td>\n",
       "      <td>Throw a snowball in a straight line at your en...</td>\n",
       "      <td>False</td>\n",
       "      <td>False</td>\n",
       "      <td>False</td>\n",
       "      <td>False</td>\n",
       "    </tr>\n",
       "    <tr>\n",
       "      <th>13</th>\n",
       "      <td>33</td>\n",
       "      <td>1</td>\n",
       "      <td>Nexus Siege: Siege Weapon Slot</td>\n",
       "      <td>SummonerSiegeChampSelect1</td>\n",
       "      <td>In Nexus Siege, Summoner Spells are replaced w...</td>\n",
       "      <td>False</td>\n",
       "      <td>False</td>\n",
       "      <td>True</td>\n",
       "      <td>False</td>\n",
       "    </tr>\n",
       "    <tr>\n",
       "      <th>14</th>\n",
       "      <td>34</td>\n",
       "      <td>1</td>\n",
       "      <td>Nexus Siege: Siege Weapon Slot</td>\n",
       "      <td>SummonerSiegeChampSelect2</td>\n",
       "      <td>In Nexus Siege, Summoner Spells are replaced w...</td>\n",
       "      <td>False</td>\n",
       "      <td>False</td>\n",
       "      <td>True</td>\n",
       "      <td>False</td>\n",
       "    </tr>\n",
       "    <tr>\n",
       "      <th>15</th>\n",
       "      <td>35</td>\n",
       "      <td>1</td>\n",
       "      <td>Disabled Summoner Spells</td>\n",
       "      <td>SummonerDarkStarChampSelect1</td>\n",
       "      <td>Summoner spells are disabled in this mode.</td>\n",
       "      <td>False</td>\n",
       "      <td>False</td>\n",
       "      <td>True</td>\n",
       "      <td>False</td>\n",
       "    </tr>\n",
       "    <tr>\n",
       "      <th>16</th>\n",
       "      <td>36</td>\n",
       "      <td>1</td>\n",
       "      <td>Disabled Summoner Spells</td>\n",
       "      <td>SummonerDarkStarChampSelect2</td>\n",
       "      <td>Summoner spells are disabled in this mode.</td>\n",
       "      <td>False</td>\n",
       "      <td>False</td>\n",
       "      <td>True</td>\n",
       "      <td>False</td>\n",
       "    </tr>\n",
       "  </tbody>\n",
       "</table>\n",
       "</div>"
      ],
      "text/plain": [
       "    id  summonerLevel                            name  \\\n",
       "0    1              6                         Cleanse   \n",
       "1    3              4                         Exhaust   \n",
       "2    4              8                           Flash   \n",
       "3    6              1                           Ghost   \n",
       "4    7              1                            Heal   \n",
       "5   11             10                           Smite   \n",
       "6   12              6                        Teleport   \n",
       "7   13              1                         Clarity   \n",
       "8   14             10                          Ignite   \n",
       "9   21              4                         Barrier   \n",
       "10  30              1                    To the King!   \n",
       "11  31              1                       Poro Toss   \n",
       "12  32              1                            Mark   \n",
       "13  33              1  Nexus Siege: Siege Weapon Slot   \n",
       "14  34              1  Nexus Siege: Siege Weapon Slot   \n",
       "15  35              1        Disabled Summoner Spells   \n",
       "16  36              1        Disabled Summoner Spells   \n",
       "\n",
       "                             key  \\\n",
       "0                  SummonerBoost   \n",
       "1                SummonerExhaust   \n",
       "2                  SummonerFlash   \n",
       "3                  SummonerHaste   \n",
       "4                   SummonerHeal   \n",
       "5                  SummonerSmite   \n",
       "6               SummonerTeleport   \n",
       "7                   SummonerMana   \n",
       "8                    SummonerDot   \n",
       "9                SummonerBarrier   \n",
       "10            SummonerPoroRecall   \n",
       "11             SummonerPoroThrow   \n",
       "12              SummonerSnowball   \n",
       "13     SummonerSiegeChampSelect1   \n",
       "14     SummonerSiegeChampSelect2   \n",
       "15  SummonerDarkStarChampSelect1   \n",
       "16  SummonerDarkStarChampSelect2   \n",
       "\n",
       "                                          description  auffällig_leer  \\\n",
       "0   Removes all disables (excluding suppression an...           False   \n",
       "1   Exhausts target enemy champion, reducing their...           False   \n",
       "2   Teleports your champion a short distance towar...           False   \n",
       "3   Your champion gains increased Movement Speed a...           False   \n",
       "4   Restores 90-345 Health (depending on champion ...           False   \n",
       "5   Deals 390-1000 true damage (depending on champ...           False   \n",
       "6   After channeling for 4.5 seconds, teleports yo...           False   \n",
       "7   Restores 50% of your champion's maximum Mana. ...           False   \n",
       "8   Ignites target enemy champion, dealing 70-410 ...           False   \n",
       "9   Shields your champion from 115-455 damage (dep...           False   \n",
       "10            Quickly travel to the Poro King's side.           False   \n",
       "11  Toss a Poro at your enemies. If it hits, you c...           False   \n",
       "12  Throw a snowball in a straight line at your en...           False   \n",
       "13  In Nexus Siege, Summoner Spells are replaced w...           False   \n",
       "14  In Nexus Siege, Summoner Spells are replaced w...           False   \n",
       "15         Summoner spells are disabled in this mode.           False   \n",
       "16         Summoner spells are disabled in this mode.           False   \n",
       "\n",
       "    auffällig_doppelt  auffällig_name  konsistenz_id_key  \n",
       "0               False           False              False  \n",
       "1               False           False              False  \n",
       "2               False           False              False  \n",
       "3               False           False              False  \n",
       "4               False           False              False  \n",
       "5               False           False              False  \n",
       "6               False           False              False  \n",
       "7               False           False              False  \n",
       "8               False           False              False  \n",
       "9               False           False              False  \n",
       "10              False           False              False  \n",
       "11              False           False              False  \n",
       "12              False           False              False  \n",
       "13              False            True              False  \n",
       "14              False            True              False  \n",
       "15              False            True              False  \n",
       "16              False            True              False  "
      ]
     },
     "execution_count": 17,
     "metadata": {},
     "output_type": "execute_result"
    }
   ],
   "source": [
    "df_spells['konsistenz_id_key'] = df_spells['id'].astype(str) == df_spells['key'].astype(str)\n",
    "df_spells[~df_spells['konsistenz_id_key']]"
   ]
  },
  {
   "cell_type": "markdown",
   "id": "9240c1f7",
   "metadata": {},
   "source": [
    "### Komplett leere oder fast leere Spalten"
   ]
  },
  {
   "cell_type": "code",
   "execution_count": 18,
   "id": "a567bf77",
   "metadata": {},
   "outputs": [
    {
     "name": "stdout",
     "output_type": "stream",
     "text": [
      "Komplett leere Spalten: []\n",
      "Fast leere Spalten (>90% NaN): []\n"
     ]
    }
   ],
   "source": [
    "leere_spalten = df_spells.columns[df_spells.isnull().all()]\n",
    "fast_leere_spalten = df_spells.columns[df_spells.isnull().mean() > 0.9]\n",
    "\n",
    "print(\"Komplett leere Spalten:\", list(leere_spalten))\n",
    "print(\"Fast leere Spalten (>90% NaN):\", list(fast_leere_spalten))"
   ]
  },
  {
   "cell_type": "markdown",
   "id": "21fa6405",
   "metadata": {},
   "source": [
    "### Datums-/Zeitspalten prüfen"
   ]
  },
  {
   "cell_type": "code",
   "execution_count": 19,
   "id": "bfbf0211",
   "metadata": {},
   "outputs": [
    {
     "name": "stdout",
     "output_type": "stream",
     "text": [
      "Keine Datums-/Zeitspalten vorhanden.\n"
     ]
    }
   ],
   "source": [
    "datum_spalten = df_spells.select_dtypes(include=['datetime64', 'datetime64[ns]']).columns\n",
    "\n",
    "if len(datum_spalten) == 0:\n",
    "    print(\"Keine Datums-/Zeitspalten vorhanden.\")\n",
    "else:\n",
    "    print(\"Datums-/Zeitspalten:\", list(datum_spalten))\n",
    "    for sp in datum_spalten:\n",
    "        print(sp, \"→ Min:\", df_spells[sp].min(), \"| Max:\", df_spells[sp].max())"
   ]
  },
  {
   "cell_type": "markdown",
   "id": "ac47861e",
   "metadata": {},
   "source": [
    "### Zeichenketten in kategorischen Spalten"
   ]
  },
  {
   "cell_type": "code",
   "execution_count": 20,
   "id": "6dc7170c",
   "metadata": {},
   "outputs": [
    {
     "name": "stdout",
     "output_type": "stream",
     "text": [
      "Gefundene Textspalten: ['name', 'key', 'description']\n"
     ]
    }
   ],
   "source": [
    "kategorie_spalten = df_spells.select_dtypes(include=['object']).columns\n",
    "print(\"Gefundene Textspalten:\", list(kategorie_spalten))"
   ]
  },
  {
   "cell_type": "code",
   "execution_count": 21,
   "id": "59826275",
   "metadata": {},
   "outputs": [
    {
     "name": "stdout",
     "output_type": "stream",
     "text": [
      "Spalte: name\n",
      "count    17.000000\n",
      "mean     11.411765\n",
      "std       9.240257\n",
      "min       4.000000\n",
      "25%       5.000000\n",
      "50%       7.000000\n",
      "75%      12.000000\n",
      "max      30.000000\n",
      "Name: name, dtype: float64\n",
      "----------------------------------------\n",
      "Spalte: key\n",
      "count    17.000000\n",
      "mean     17.058824\n",
      "std       5.760540\n",
      "min      11.000000\n",
      "25%      13.000000\n",
      "50%      15.000000\n",
      "75%      18.000000\n",
      "max      28.000000\n",
      "Name: key, dtype: float64\n",
      "----------------------------------------\n",
      "Spalte: description\n",
      "count     17.000000\n",
      "mean     129.823529\n",
      "std       61.991164\n",
      "min       39.000000\n",
      "25%       86.000000\n",
      "50%      116.000000\n",
      "75%      190.000000\n",
      "max      199.000000\n",
      "Name: description, dtype: float64\n",
      "----------------------------------------\n"
     ]
    }
   ],
   "source": [
    "kategorie_spalten = df_spells.select_dtypes(include=['object']).columns\n",
    "\n",
    "if len(kategorie_spalten) == 0:\n",
    "    print(\"Keine kategorischen (Text-)Spalten gefunden.\")\n",
    "else:\n",
    "    for spalte in kategorie_spalten:\n",
    "        print(f\"Spalte: {spalte}\")\n",
    "        print(df_spells[spalte].str.len().describe())\n",
    "        print(\"-\" * 40)"
   ]
  },
  {
   "cell_type": "markdown",
   "id": "84f7fbec",
   "metadata": {},
   "source": [
    "### Version"
   ]
  },
  {
   "cell_type": "code",
   "execution_count": 22,
   "id": "e33cc70b",
   "metadata": {},
   "outputs": [
    {
     "name": "stdout",
     "output_type": "stream",
     "text": [
      "Verschiedene Patch-Versionen:\n",
      "version\n",
      "7.17.2    17\n",
      "Name: count, dtype: int64\n"
     ]
    }
   ],
   "source": [
    "pfad = r\"D:\\Python\\Projektarbeit\\Hauptordner\\summoner_spell_info.json\"\n",
    "with open(pfad, encoding='utf-8') as f:\n",
    "    roh = json.load(f)\n",
    "spell_dict = roh['data']\n",
    "spell_liste = list(spell_dict.values())\n",
    "df_spells = pd.json_normalize(spell_liste)\n",
    "df_spells['version'] = roh['version']\n",
    "\n",
    "print(\"Verschiedene Patch-Versionen:\")\n",
    "print(df_spells['version'].value_counts())"
   ]
  },
  {
   "cell_type": "markdown",
   "id": "40d9a826",
   "metadata": {},
   "source": [
    "### Summoner-Level-Bereich"
   ]
  },
  {
   "cell_type": "code",
   "execution_count": 23,
   "id": "c9657ef8",
   "metadata": {},
   "outputs": [
    {
     "data": {
      "text/plain": [
       "summonerLevel\n",
       "1     10\n",
       "4      2\n",
       "6      2\n",
       "8      1\n",
       "10     2\n",
       "Name: count, dtype: int64"
      ]
     },
     "execution_count": 23,
     "metadata": {},
     "output_type": "execute_result"
    }
   ],
   "source": [
    "df_spells['summonerLevel'].value_counts().sort_index()"
   ]
  },
  {
   "cell_type": "markdown",
   "id": "00794a67",
   "metadata": {},
   "source": [
    "### Beschreibung auf Vollständigkeit"
   ]
  },
  {
   "cell_type": "code",
   "execution_count": 24,
   "id": "426ea7dd",
   "metadata": {},
   "outputs": [
    {
     "data": {
      "text/html": [
       "<div>\n",
       "<style scoped>\n",
       "    .dataframe tbody tr th:only-of-type {\n",
       "        vertical-align: middle;\n",
       "    }\n",
       "\n",
       "    .dataframe tbody tr th {\n",
       "        vertical-align: top;\n",
       "    }\n",
       "\n",
       "    .dataframe thead th {\n",
       "        text-align: right;\n",
       "    }\n",
       "</style>\n",
       "<table border=\"1\" class=\"dataframe\">\n",
       "  <thead>\n",
       "    <tr style=\"text-align: right;\">\n",
       "      <th></th>\n",
       "      <th>id</th>\n",
       "      <th>summonerLevel</th>\n",
       "      <th>name</th>\n",
       "      <th>key</th>\n",
       "      <th>description</th>\n",
       "      <th>version</th>\n",
       "    </tr>\n",
       "  </thead>\n",
       "  <tbody>\n",
       "  </tbody>\n",
       "</table>\n",
       "</div>"
      ],
      "text/plain": [
       "Empty DataFrame\n",
       "Columns: [id, summonerLevel, name, key, description, version]\n",
       "Index: []"
      ]
     },
     "execution_count": 24,
     "metadata": {},
     "output_type": "execute_result"
    }
   ],
   "source": [
    "df_spells[df_spells['description'].isna() | (df_spells['description'].str.strip() == '')]"
   ]
  },
  {
   "cell_type": "markdown",
   "id": "72a8cd19",
   "metadata": {},
   "source": [
    "### Sonderzeichen in Namen"
   ]
  },
  {
   "cell_type": "code",
   "execution_count": 25,
   "id": "1da3d98e",
   "metadata": {},
   "outputs": [
    {
     "data": {
      "text/html": [
       "<div>\n",
       "<style scoped>\n",
       "    .dataframe tbody tr th:only-of-type {\n",
       "        vertical-align: middle;\n",
       "    }\n",
       "\n",
       "    .dataframe tbody tr th {\n",
       "        vertical-align: top;\n",
       "    }\n",
       "\n",
       "    .dataframe thead th {\n",
       "        text-align: right;\n",
       "    }\n",
       "</style>\n",
       "<table border=\"1\" class=\"dataframe\">\n",
       "  <thead>\n",
       "    <tr style=\"text-align: right;\">\n",
       "      <th></th>\n",
       "      <th>id</th>\n",
       "      <th>summonerLevel</th>\n",
       "      <th>name</th>\n",
       "      <th>key</th>\n",
       "      <th>description</th>\n",
       "      <th>version</th>\n",
       "    </tr>\n",
       "  </thead>\n",
       "  <tbody>\n",
       "    <tr>\n",
       "      <th>10</th>\n",
       "      <td>30</td>\n",
       "      <td>1</td>\n",
       "      <td>To the King!</td>\n",
       "      <td>SummonerPoroRecall</td>\n",
       "      <td>Quickly travel to the Poro King's side.</td>\n",
       "      <td>7.17.2</td>\n",
       "    </tr>\n",
       "    <tr>\n",
       "      <th>13</th>\n",
       "      <td>33</td>\n",
       "      <td>1</td>\n",
       "      <td>Nexus Siege: Siege Weapon Slot</td>\n",
       "      <td>SummonerSiegeChampSelect1</td>\n",
       "      <td>In Nexus Siege, Summoner Spells are replaced w...</td>\n",
       "      <td>7.17.2</td>\n",
       "    </tr>\n",
       "    <tr>\n",
       "      <th>14</th>\n",
       "      <td>34</td>\n",
       "      <td>1</td>\n",
       "      <td>Nexus Siege: Siege Weapon Slot</td>\n",
       "      <td>SummonerSiegeChampSelect2</td>\n",
       "      <td>In Nexus Siege, Summoner Spells are replaced w...</td>\n",
       "      <td>7.17.2</td>\n",
       "    </tr>\n",
       "  </tbody>\n",
       "</table>\n",
       "</div>"
      ],
      "text/plain": [
       "    id  summonerLevel                            name  \\\n",
       "10  30              1                    To the King!   \n",
       "13  33              1  Nexus Siege: Siege Weapon Slot   \n",
       "14  34              1  Nexus Siege: Siege Weapon Slot   \n",
       "\n",
       "                          key  \\\n",
       "10         SummonerPoroRecall   \n",
       "13  SummonerSiegeChampSelect1   \n",
       "14  SummonerSiegeChampSelect2   \n",
       "\n",
       "                                          description version  \n",
       "10            Quickly travel to the Poro King's side.  7.17.2  \n",
       "13  In Nexus Siege, Summoner Spells are replaced w...  7.17.2  \n",
       "14  In Nexus Siege, Summoner Spells are replaced w...  7.17.2  "
      ]
     },
     "execution_count": 25,
     "metadata": {},
     "output_type": "execute_result"
    }
   ],
   "source": [
    "sonderzeichen = df_spells['name'].apply(lambda x: re.findall(r'[^a-zA-Z0-9\\s]', x))\n",
    "df_spells[sonderzeichen.apply(lambda x: len(x) > 0)]"
   ]
  },
  {
   "cell_type": "markdown",
   "id": "2e640c35",
   "metadata": {},
   "source": [
    "### Key-Format"
   ]
  },
  {
   "cell_type": "code",
   "execution_count": 26,
   "id": "71296988",
   "metadata": {},
   "outputs": [
    {
     "data": {
      "text/plain": [
       "key\n",
       "SummonerBarrier                 1\n",
       "SummonerBoost                   1\n",
       "SummonerDarkStarChampSelect1    1\n",
       "SummonerDarkStarChampSelect2    1\n",
       "SummonerDot                     1\n",
       "SummonerExhaust                 1\n",
       "SummonerFlash                   1\n",
       "SummonerHaste                   1\n",
       "SummonerHeal                    1\n",
       "SummonerMana                    1\n",
       "SummonerPoroRecall              1\n",
       "SummonerPoroThrow               1\n",
       "SummonerSiegeChampSelect1       1\n",
       "SummonerSiegeChampSelect2       1\n",
       "SummonerSmite                   1\n",
       "SummonerSnowball                1\n",
       "SummonerTeleport                1\n",
       "Name: count, dtype: int64"
      ]
     },
     "execution_count": 26,
     "metadata": {},
     "output_type": "execute_result"
    }
   ],
   "source": [
    "df_spells['key'].value_counts().sort_index()"
   ]
  },
  {
   "cell_type": "markdown",
   "id": "303123ef",
   "metadata": {},
   "source": [
    "### Doppelte Beschreibungen"
   ]
  },
  {
   "cell_type": "code",
   "execution_count": 27,
   "id": "c4c40662",
   "metadata": {},
   "outputs": [
    {
     "data": {
      "text/plain": [
       "description\n",
       "In Nexus Siege, Summoner Spells are replaced with Siege Weapon Slots. Spend Crystal Shards to buy single-use Siege Weapons from the item shop, then use your Summoner Spell keys to activate them!    2\n",
       "Summoner spells are disabled in this mode.                                                                                                                                                            2\n",
       "Name: count, dtype: int64"
      ]
     },
     "execution_count": 27,
     "metadata": {},
     "output_type": "execute_result"
    }
   ],
   "source": [
    "df_spells['description'].value_counts()[df_spells['description'].value_counts() > 1]"
   ]
  },
  {
   "cell_type": "markdown",
   "id": "2fa73c16",
   "metadata": {},
   "source": [
    "### Ausreißer Checks"
   ]
  },
  {
   "cell_type": "code",
   "execution_count": 28,
   "id": "4639c2cb",
   "metadata": {},
   "outputs": [],
   "source": [
    "# Die numerischen Spalten (id, key, summonerLevel) sind feste Werte pro Zauber. \n",
    "# Statistische Ausreißerprüfungen ergeben nur Fehlalarme, daher keine Ausreißer vorhanden"
   ]
  },
  {
   "cell_type": "markdown",
   "id": "318b1ca7",
   "metadata": {},
   "source": [
    "### Dataset 4: summoner_spell_info – Spezifische Checks\n",
    "- **Sonderzeichen im Namen prüfen**\n",
    "- **Key-Format-Prüfung (id, key, name)**\n",
    "- **Leere Strings prüfen**\n",
    "- **Doppelte id oder key prüfen**\n",
    "- **Gleicher name für mehrere ids prüfen**\n",
    "- **Negativwerte in id prüfen (z. B. -1)**\n",
    "- **Test auf ungewöhnliche Inhalte prüfen**\n",
    "- **Summoner Spells nach Modus oder Event-Typen kategorisieren (z. B. ARAM, Nexus Siege, Poro King)**"
   ]
  },
  {
   "cell_type": "markdown",
   "id": "a7671036",
   "metadata": {},
   "source": [
    "### Sonderzeichen im Namen"
   ]
  },
  {
   "cell_type": "code",
   "execution_count": 29,
   "id": "45b42083",
   "metadata": {},
   "outputs": [
    {
     "name": "stdout",
     "output_type": "stream",
     "text": [
      "Summoner Spells mit Sonderzeichen im Namen:\n",
      "Empty DataFrame\n",
      "Columns: [id, name]\n",
      "Index: []\n"
     ]
    }
   ],
   "source": [
    "pattern = r\"[^a-zA-Z0-9äöüÄÖÜß\\s:!]\"\n",
    "sonderzeichen_df = df_spells[df_spells['name'].str.contains(pattern, regex=True)]\n",
    "\n",
    "print(\"Summoner Spells mit Sonderzeichen im Namen:\")\n",
    "print(sonderzeichen_df[['id', 'name']])"
   ]
  },
  {
   "cell_type": "markdown",
   "id": "be723777",
   "metadata": {},
   "source": [
    "### Key-Format"
   ]
  },
  {
   "cell_type": "code",
   "execution_count": 30,
   "id": "bf6124b3",
   "metadata": {},
   "outputs": [
    {
     "name": "stdout",
     "output_type": "stream",
     "text": [
      "Ungültige IDs (nicht vom Typ int):\n",
      "Empty DataFrame\n",
      "Columns: [id, key, name]\n",
      "Index: []\n",
      "\n",
      "Keys, die nicht mit 'Summoner' beginnen:\n",
      "Empty DataFrame\n",
      "Columns: [id, key, name]\n",
      "Index: []\n",
      "\n",
      "Leere oder fehlende Namen:\n",
      "Empty DataFrame\n",
      "Columns: [id, key, name]\n",
      "Index: []\n"
     ]
    }
   ],
   "source": [
    "id_check = df_spells['id'].apply(lambda x: isinstance(x, int))\n",
    "print(\"Ungültige IDs (nicht vom Typ int):\")\n",
    "print(df_spells[~id_check][['id', 'key', 'name']])\n",
    "\n",
    "key_check = df_spells['key'].str.startswith('Summoner')\n",
    "print(\"\\nKeys, die nicht mit 'Summoner' beginnen:\")\n",
    "print(df_spells[~key_check][['id', 'key', 'name']])\n",
    "\n",
    "name_check = df_spells['name'].notna() & (df_spells['name'].str.strip() != \"\")\n",
    "print(\"\\nLeere oder fehlende Namen:\")\n",
    "print(df_spells[~name_check][['id', 'key', 'name']])"
   ]
  },
  {
   "cell_type": "markdown",
   "id": "a64475f5",
   "metadata": {},
   "source": [
    "### Leere Strings"
   ]
  },
  {
   "cell_type": "code",
   "execution_count": 31,
   "id": "832cf5a0",
   "metadata": {},
   "outputs": [
    {
     "name": "stdout",
     "output_type": "stream",
     "text": [
      "Leere 'name'-Einträge:\n",
      "Empty DataFrame\n",
      "Columns: [id, name]\n",
      "Index: []\n",
      "\n",
      "Leere 'key'-Einträge:\n",
      "Empty DataFrame\n",
      "Columns: [id, key]\n",
      "Index: []\n",
      "\n",
      "Leere 'description'-Einträge:\n",
      "Empty DataFrame\n",
      "Columns: [id, description]\n",
      "Index: []\n"
     ]
    }
   ],
   "source": [
    "leere_name = df_spells['name'].str.strip() == \"\"\n",
    "leere_key = df_spells['key'].str.strip() == \"\"\n",
    "leere_description = df_spells['description'].str.strip() == \"\"\n",
    "\n",
    "print(\"Leere 'name'-Einträge:\")\n",
    "print(df_spells[leere_name][['id', 'name']])\n",
    "\n",
    "print(\"\\nLeere 'key'-Einträge:\")\n",
    "print(df_spells[leere_key][['id', 'key']])\n",
    "\n",
    "print(\"\\nLeere 'description'-Einträge:\")\n",
    "print(df_spells[leere_description][['id', 'description']])"
   ]
  },
  {
   "cell_type": "markdown",
   "id": "792de189",
   "metadata": {},
   "source": [
    "### Doppelte id oder key"
   ]
  },
  {
   "cell_type": "code",
   "execution_count": 32,
   "id": "e8cf7962",
   "metadata": {},
   "outputs": [
    {
     "name": "stdout",
     "output_type": "stream",
     "text": [
      "Doppelte 'id'-Werte:\n",
      "Empty DataFrame\n",
      "Columns: [id, key, name]\n",
      "Index: []\n",
      "\n",
      "Doppelte 'key'-Werte:\n",
      "Empty DataFrame\n",
      "Columns: [id, key, name]\n",
      "Index: []\n"
     ]
    }
   ],
   "source": [
    "print(\"Doppelte 'id'-Werte:\")\n",
    "print(df_spells[df_spells.duplicated(subset='id', keep=False)][['id', 'key', 'name']])\n",
    "\n",
    "print(\"\\nDoppelte 'key'-Werte:\")\n",
    "print(df_spells[df_spells.duplicated(subset='key', keep=False)][['id', 'key', 'name']])"
   ]
  },
  {
   "cell_type": "markdown",
   "id": "243deb61",
   "metadata": {},
   "source": [
    "### Gleicher name für mehrere ids"
   ]
  },
  {
   "cell_type": "code",
   "execution_count": 33,
   "id": "ce4eef04",
   "metadata": {},
   "outputs": [
    {
     "name": "stdout",
     "output_type": "stream",
     "text": [
      "Namen mit mehreren unterschiedlichen IDs:\n",
      "name\n",
      "Disabled Summoner Spells          2\n",
      "Nexus Siege: Siege Weapon Slot    2\n",
      "Name: id, dtype: int64\n"
     ]
    }
   ],
   "source": [
    "mehrfach_ids = df_spells.groupby('name')['id'].nunique()\n",
    "doppelte_namen = mehrfach_ids[mehrfach_ids > 1]\n",
    "\n",
    "print(\"Namen mit mehreren unterschiedlichen IDs:\")\n",
    "print(doppelte_namen)\n",
    "\n",
    "# Die doppelten Namen sind gewollt – sie stammen aus Sondermodi und verwenden unterschiedliche Slots"
   ]
  },
  {
   "cell_type": "markdown",
   "id": "3421c17b",
   "metadata": {},
   "source": [
    "### Negativwerte in id"
   ]
  },
  {
   "cell_type": "code",
   "execution_count": 34,
   "id": "4a872eb2",
   "metadata": {},
   "outputs": [
    {
     "name": "stdout",
     "output_type": "stream",
     "text": [
      "Summoner Spells mit negativer ID:\n",
      "Empty DataFrame\n",
      "Columns: [id, key, name]\n",
      "Index: []\n"
     ]
    }
   ],
   "source": [
    "negative_ids = df_spells[df_spells['id'] < 0]\n",
    "print(\"Summoner Spells mit negativer ID:\")\n",
    "print(negative_ids[['id', 'key', 'name']])"
   ]
  },
  {
   "cell_type": "markdown",
   "id": "20203e27",
   "metadata": {},
   "source": [
    "### Text auf ungewöhnliche Inhalte"
   ]
  },
  {
   "cell_type": "code",
   "execution_count": 35,
   "id": "8bfd9eb1",
   "metadata": {},
   "outputs": [
    {
     "name": "stdout",
     "output_type": "stream",
     "text": [
      "Spells mit ungewöhnlichen Begriffen in der Beschreibung:\n",
      "    id                            name  \\\n",
      "10  30                    To the King!   \n",
      "11  31                       Poro Toss   \n",
      "13  33  Nexus Siege: Siege Weapon Slot   \n",
      "14  34  Nexus Siege: Siege Weapon Slot   \n",
      "15  35        Disabled Summoner Spells   \n",
      "16  36        Disabled Summoner Spells   \n",
      "\n",
      "                                          description  \n",
      "10            Quickly travel to the Poro King's side.  \n",
      "11  Toss a Poro at your enemies. If it hits, you c...  \n",
      "13  In Nexus Siege, Summoner Spells are replaced w...  \n",
      "14  In Nexus Siege, Summoner Spells are replaced w...  \n",
      "15         Summoner spells are disabled in this mode.  \n",
      "16         Summoner spells are disabled in this mode.  \n"
     ]
    }
   ],
   "source": [
    "suchwörter = ['disabled', 'siege', 'poro', 'crystal shards', 'nexus', 'dark star']\n",
    "unusual_df = df_spells[df_spells['description'].str.lower().str.contains('|'.join(suchwörter))]\n",
    "\n",
    "print(\"Spells mit ungewöhnlichen Begriffen in der Beschreibung:\")\n",
    "print(unusual_df[['id', 'name', 'description']])\n",
    "\n",
    "# So wie oben schon beschrieben gehören zu einem anderen Spielmodus somit ok."
   ]
  },
  {
   "cell_type": "markdown",
   "id": "b5f63681",
   "metadata": {},
   "source": [
    "### Summoner Spells nach Modus oder Event-Typen kategorisieren"
   ]
  },
  {
   "cell_type": "code",
   "execution_count": 36,
   "id": "625e31fe",
   "metadata": {},
   "outputs": [
    {
     "name": "stdout",
     "output_type": "stream",
     "text": [
      "Spells, die nur in Spezialmodi vorkommen:\n",
      "    id                            name  \\\n",
      "10  30                    To the King!   \n",
      "11  31                       Poro Toss   \n",
      "13  33  Nexus Siege: Siege Weapon Slot   \n",
      "14  34  Nexus Siege: Siege Weapon Slot   \n",
      "\n",
      "                                          description  \n",
      "10            Quickly travel to the Poro King's side.  \n",
      "11  Toss a Poro at your enemies. If it hits, you c...  \n",
      "13  In Nexus Siege, Summoner Spells are replaced w...  \n",
      "14  In Nexus Siege, Summoner Spells are replaced w...  \n"
     ]
    }
   ],
   "source": [
    "spezialwörter = ['siege', 'poro', 'nexus', 'dark star', 'king', 'crystal shards']\n",
    "df_spells['event_modus'] = df_spells['description'].str.lower().apply(\n",
    "    lambda x: 'Spezialmodus' if any(wort in x for wort in spezialwörter) else 'Standard'\n",
    ")\n",
    "\n",
    "print(\"Spells, die nur in Spezialmodi vorkommen:\")\n",
    "print(df_spells[df_spells['event_modus'] == 'Spezialmodus'][['id', 'name', 'description']])\n",
    "\n",
    "# So wie oben schon beschrieben gehören zu einem anderen Spielmodus somit ok."
   ]
  },
  {
   "cell_type": "code",
   "execution_count": 37,
   "id": "fd4d25d0",
   "metadata": {},
   "outputs": [
    {
     "data": {
      "text/html": [
       "<div>\n",
       "<style scoped>\n",
       "    .dataframe tbody tr th:only-of-type {\n",
       "        vertical-align: middle;\n",
       "    }\n",
       "\n",
       "    .dataframe tbody tr th {\n",
       "        vertical-align: top;\n",
       "    }\n",
       "\n",
       "    .dataframe thead th {\n",
       "        text-align: right;\n",
       "    }\n",
       "</style>\n",
       "<table border=\"1\" class=\"dataframe\">\n",
       "  <thead>\n",
       "    <tr style=\"text-align: right;\">\n",
       "      <th></th>\n",
       "      <th>id</th>\n",
       "      <th>summonerLevel</th>\n",
       "      <th>name</th>\n",
       "      <th>key</th>\n",
       "      <th>description</th>\n",
       "      <th>version</th>\n",
       "      <th>event_modus</th>\n",
       "    </tr>\n",
       "  </thead>\n",
       "  <tbody>\n",
       "    <tr>\n",
       "      <th>0</th>\n",
       "      <td>1</td>\n",
       "      <td>6</td>\n",
       "      <td>Cleanse</td>\n",
       "      <td>SummonerBoost</td>\n",
       "      <td>Removes all disables (excluding suppression an...</td>\n",
       "      <td>7.17.2</td>\n",
       "      <td>Standard</td>\n",
       "    </tr>\n",
       "    <tr>\n",
       "      <th>1</th>\n",
       "      <td>3</td>\n",
       "      <td>4</td>\n",
       "      <td>Exhaust</td>\n",
       "      <td>SummonerExhaust</td>\n",
       "      <td>Exhausts target enemy champion, reducing their...</td>\n",
       "      <td>7.17.2</td>\n",
       "      <td>Standard</td>\n",
       "    </tr>\n",
       "    <tr>\n",
       "      <th>2</th>\n",
       "      <td>4</td>\n",
       "      <td>8</td>\n",
       "      <td>Flash</td>\n",
       "      <td>SummonerFlash</td>\n",
       "      <td>Teleports your champion a short distance towar...</td>\n",
       "      <td>7.17.2</td>\n",
       "      <td>Standard</td>\n",
       "    </tr>\n",
       "    <tr>\n",
       "      <th>3</th>\n",
       "      <td>6</td>\n",
       "      <td>1</td>\n",
       "      <td>Ghost</td>\n",
       "      <td>SummonerHaste</td>\n",
       "      <td>Your champion gains increased Movement Speed a...</td>\n",
       "      <td>7.17.2</td>\n",
       "      <td>Standard</td>\n",
       "    </tr>\n",
       "    <tr>\n",
       "      <th>4</th>\n",
       "      <td>7</td>\n",
       "      <td>1</td>\n",
       "      <td>Heal</td>\n",
       "      <td>SummonerHeal</td>\n",
       "      <td>Restores 90-345 Health (depending on champion ...</td>\n",
       "      <td>7.17.2</td>\n",
       "      <td>Standard</td>\n",
       "    </tr>\n",
       "    <tr>\n",
       "      <th>5</th>\n",
       "      <td>11</td>\n",
       "      <td>10</td>\n",
       "      <td>Smite</td>\n",
       "      <td>SummonerSmite</td>\n",
       "      <td>Deals 390-1000 true damage (depending on champ...</td>\n",
       "      <td>7.17.2</td>\n",
       "      <td>Standard</td>\n",
       "    </tr>\n",
       "    <tr>\n",
       "      <th>6</th>\n",
       "      <td>12</td>\n",
       "      <td>6</td>\n",
       "      <td>Teleport</td>\n",
       "      <td>SummonerTeleport</td>\n",
       "      <td>After channeling for 4.5 seconds, teleports yo...</td>\n",
       "      <td>7.17.2</td>\n",
       "      <td>Standard</td>\n",
       "    </tr>\n",
       "    <tr>\n",
       "      <th>7</th>\n",
       "      <td>13</td>\n",
       "      <td>1</td>\n",
       "      <td>Clarity</td>\n",
       "      <td>SummonerMana</td>\n",
       "      <td>Restores 50% of your champion's maximum Mana. ...</td>\n",
       "      <td>7.17.2</td>\n",
       "      <td>Standard</td>\n",
       "    </tr>\n",
       "    <tr>\n",
       "      <th>8</th>\n",
       "      <td>14</td>\n",
       "      <td>10</td>\n",
       "      <td>Ignite</td>\n",
       "      <td>SummonerDot</td>\n",
       "      <td>Ignites target enemy champion, dealing 70-410 ...</td>\n",
       "      <td>7.17.2</td>\n",
       "      <td>Standard</td>\n",
       "    </tr>\n",
       "    <tr>\n",
       "      <th>9</th>\n",
       "      <td>21</td>\n",
       "      <td>4</td>\n",
       "      <td>Barrier</td>\n",
       "      <td>SummonerBarrier</td>\n",
       "      <td>Shields your champion from 115-455 damage (dep...</td>\n",
       "      <td>7.17.2</td>\n",
       "      <td>Standard</td>\n",
       "    </tr>\n",
       "    <tr>\n",
       "      <th>12</th>\n",
       "      <td>32</td>\n",
       "      <td>1</td>\n",
       "      <td>Mark</td>\n",
       "      <td>SummonerSnowball</td>\n",
       "      <td>Throw a snowball in a straight line at your en...</td>\n",
       "      <td>7.17.2</td>\n",
       "      <td>Standard</td>\n",
       "    </tr>\n",
       "    <tr>\n",
       "      <th>15</th>\n",
       "      <td>35</td>\n",
       "      <td>1</td>\n",
       "      <td>Disabled Summoner Spells</td>\n",
       "      <td>SummonerDarkStarChampSelect1</td>\n",
       "      <td>Summoner spells are disabled in this mode.</td>\n",
       "      <td>7.17.2</td>\n",
       "      <td>Standard</td>\n",
       "    </tr>\n",
       "    <tr>\n",
       "      <th>16</th>\n",
       "      <td>36</td>\n",
       "      <td>1</td>\n",
       "      <td>Disabled Summoner Spells</td>\n",
       "      <td>SummonerDarkStarChampSelect2</td>\n",
       "      <td>Summoner spells are disabled in this mode.</td>\n",
       "      <td>7.17.2</td>\n",
       "      <td>Standard</td>\n",
       "    </tr>\n",
       "  </tbody>\n",
       "</table>\n",
       "</div>"
      ],
      "text/plain": [
       "    id  summonerLevel                      name                           key  \\\n",
       "0    1              6                   Cleanse                 SummonerBoost   \n",
       "1    3              4                   Exhaust               SummonerExhaust   \n",
       "2    4              8                     Flash                 SummonerFlash   \n",
       "3    6              1                     Ghost                 SummonerHaste   \n",
       "4    7              1                      Heal                  SummonerHeal   \n",
       "5   11             10                     Smite                 SummonerSmite   \n",
       "6   12              6                  Teleport              SummonerTeleport   \n",
       "7   13              1                   Clarity                  SummonerMana   \n",
       "8   14             10                    Ignite                   SummonerDot   \n",
       "9   21              4                   Barrier               SummonerBarrier   \n",
       "12  32              1                      Mark              SummonerSnowball   \n",
       "15  35              1  Disabled Summoner Spells  SummonerDarkStarChampSelect1   \n",
       "16  36              1  Disabled Summoner Spells  SummonerDarkStarChampSelect2   \n",
       "\n",
       "                                          description version event_modus  \n",
       "0   Removes all disables (excluding suppression an...  7.17.2    Standard  \n",
       "1   Exhausts target enemy champion, reducing their...  7.17.2    Standard  \n",
       "2   Teleports your champion a short distance towar...  7.17.2    Standard  \n",
       "3   Your champion gains increased Movement Speed a...  7.17.2    Standard  \n",
       "4   Restores 90-345 Health (depending on champion ...  7.17.2    Standard  \n",
       "5   Deals 390-1000 true damage (depending on champ...  7.17.2    Standard  \n",
       "6   After channeling for 4.5 seconds, teleports yo...  7.17.2    Standard  \n",
       "7   Restores 50% of your champion's maximum Mana. ...  7.17.2    Standard  \n",
       "8   Ignites target enemy champion, dealing 70-410 ...  7.17.2    Standard  \n",
       "9   Shields your champion from 115-455 damage (dep...  7.17.2    Standard  \n",
       "12  Throw a snowball in a straight line at your en...  7.17.2    Standard  \n",
       "15         Summoner spells are disabled in this mode.  7.17.2    Standard  \n",
       "16         Summoner spells are disabled in this mode.  7.17.2    Standard  "
      ]
     },
     "execution_count": 37,
     "metadata": {},
     "output_type": "execute_result"
    }
   ],
   "source": [
    "df_spells[df_spells['event_modus'] == 'Standard']"
   ]
  },
  {
   "cell_type": "code",
   "execution_count": 38,
   "id": "a3bf5220",
   "metadata": {},
   "outputs": [
    {
     "name": "stdout",
     "output_type": "stream",
     "text": [
      "Nur Spells aus Spezialmodi:\n",
      "    id                            name  \\\n",
      "10  30                    To the King!   \n",
      "11  31                       Poro Toss   \n",
      "13  33  Nexus Siege: Siege Weapon Slot   \n",
      "14  34  Nexus Siege: Siege Weapon Slot   \n",
      "\n",
      "                                          description  \n",
      "10            Quickly travel to the Poro King's side.  \n",
      "11  Toss a Poro at your enemies. If it hits, you c...  \n",
      "13  In Nexus Siege, Summoner Spells are replaced w...  \n",
      "14  In Nexus Siege, Summoner Spells are replaced w...  \n"
     ]
    }
   ],
   "source": [
    "event_spells = df_spells[df_spells['event_modus'] == 'Spezialmodus']\n",
    "\n",
    "print(\"Nur Spells aus Spezialmodi:\")\n",
    "print(event_spells[['id', 'name', 'description']])"
   ]
  },
  {
   "cell_type": "markdown",
   "id": "2fdb280c",
   "metadata": {},
   "source": [
    "### Cross-Dataset-Checks\n",
    "- **Kommen alle summoner_spell_ids aus dem Games-Datensatz auch in diesem Datensatz vor?**\n",
    "- **Sind die Spells aus summoner_spell_info tatsächlich im Spiel nutzbar?**\n",
    "- **Prüfung auf Platzhalter-Spells oder ungültige IDs (z. B. -1) im Games-Datensatz**\n",
    "- **Summoner Spells nach Häufigkeit im Games-Datensatz zählen und mit Level-Voraussetzung vergleichen**\n",
    "- **Sind die key-Werte (SummonerFlash, SummonerTeleport etc.) im Info-Datensatz 1:1 auflösbar aus dem Games-Datensatz?**"
   ]
  },
  {
   "cell_type": "markdown",
   "id": "0cbb66ce",
   "metadata": {},
   "source": [
    "### Kommen alle summoner_spell_ids aus dem Games-Datensatz auch in diesem Datensatz vor?"
   ]
  },
  {
   "cell_type": "code",
   "execution_count": 39,
   "id": "3185d64e",
   "metadata": {},
   "outputs": [
    {
     "name": "stdout",
     "output_type": "stream",
     "text": [
      "Spell-IDs aus dem Info-Datensatz, die NICHT im Games-Datensatz vorkommen:\n",
      "[np.int64(13), np.int64(30), np.int64(31), np.int64(32), np.int64(33), np.int64(34), np.int64(35), np.int64(36)]\n"
     ]
    }
   ],
   "source": [
    "df_games2 = pd.read_csv(\"games.csv\")\n",
    "\n",
    "spell_spalten = [\n",
    "    't1_champ1_sum1', 't1_champ1_sum2',\n",
    "    't1_champ2_sum1', 't1_champ2_sum2',\n",
    "    't1_champ3_sum1', 't1_champ3_sum2',\n",
    "    't1_champ4_sum1', 't1_champ4_sum2',\n",
    "    't1_champ5_sum1', 't1_champ5_sum2',\n",
    "    't2_champ1_sum1', 't2_champ1_sum2',\n",
    "    't2_champ2_sum1', 't2_champ2_sum2',\n",
    "    't2_champ3_sum1', 't2_champ3_sum2',\n",
    "    't2_champ4_sum1', 't2_champ4_sum2',\n",
    "    't2_champ5_sum1', 't2_champ5_sum2'\n",
    "]\n",
    "verwendete_ids = pd.unique(pd.concat([df_games2[spalte] for spalte in spell_spalten]))\n",
    "spell_ids_info = df_spells['id'].unique()\n",
    "nicht_verwendet = set(spell_ids_info) - set(verwendete_ids)\n",
    "\n",
    "print(\"Spell-IDs aus dem Info-Datensatz, die NICHT im Games-Datensatz vorkommen:\")\n",
    "print(sorted(nicht_verwendet))\n",
    "\n",
    "# Nicht verwendete Spell-IDs gehören zu Events oder alten Modi und sind korrekt im Datensatz enthalten."
   ]
  },
  {
   "cell_type": "markdown",
   "id": "2b2d8214",
   "metadata": {},
   "source": [
    "### Sind die Spells aus summoner_spell_info tatsächlich im Spiel nutzbar?"
   ]
  },
  {
   "cell_type": "code",
   "execution_count": 40,
   "id": "7ad4edef",
   "metadata": {},
   "outputs": [
    {
     "name": "stdout",
     "output_type": "stream",
     "text": [
      "Spells, die im Games-Datensatz nicht vorkommen (also nicht nutzbar):\n",
      "    id                            name  \\\n",
      "7   13                         Clarity   \n",
      "10  30                    To the King!   \n",
      "11  31                       Poro Toss   \n",
      "12  32                            Mark   \n",
      "13  33  Nexus Siege: Siege Weapon Slot   \n",
      "14  34  Nexus Siege: Siege Weapon Slot   \n",
      "15  35        Disabled Summoner Spells   \n",
      "16  36        Disabled Summoner Spells   \n",
      "\n",
      "                                          description  \n",
      "7   Restores 50% of your champion's maximum Mana. ...  \n",
      "10            Quickly travel to the Poro King's side.  \n",
      "11  Toss a Poro at your enemies. If it hits, you c...  \n",
      "12  Throw a snowball in a straight line at your en...  \n",
      "13  In Nexus Siege, Summoner Spells are replaced w...  \n",
      "14  In Nexus Siege, Summoner Spells are replaced w...  \n",
      "15         Summoner spells are disabled in this mode.  \n",
      "16         Summoner spells are disabled in this mode.  \n"
     ]
    }
   ],
   "source": [
    "unbenutzte_spells = df_spells[df_spells['id'].isin(nicht_verwendet)]\n",
    "\n",
    "print(\"Spells, die im Games-Datensatz nicht vorkommen (also nicht nutzbar):\")\n",
    "print(unbenutzte_spells[['id', 'name', 'description']])\n",
    "\n",
    "# Diese Spells gehören zu Sondermodi oder sind veraltet. Sie sind im Datensatz korrekt enthalten, werden aber in Ranked Games nicht verwendet."
   ]
  },
  {
   "cell_type": "markdown",
   "id": "31d0db10",
   "metadata": {},
   "source": [
    "### Prüfung auf Platzhalter-Spells oder ungültige IDs im Games-Datensatz"
   ]
  },
  {
   "cell_type": "code",
   "execution_count": 41,
   "id": "b981ee9a",
   "metadata": {},
   "outputs": [
    {
     "name": "stdout",
     "output_type": "stream",
     "text": [
      "Ungültige oder unbekannte Spell-IDs im Games-Datensatz:\n",
      "[]\n"
     ]
    }
   ],
   "source": [
    "gültige_ids = set(df_spells['id'].unique())\n",
    "\n",
    "spell_spalten = [\n",
    "    't1_champ1_sum1', 't1_champ1_sum2', 't1_champ2_sum1', 't1_champ2_sum2',\n",
    "    't1_champ3_sum1', 't1_champ3_sum2', 't1_champ4_sum1', 't1_champ4_sum2',\n",
    "    't1_champ5_sum1', 't1_champ5_sum2', 't2_champ1_sum1', 't2_champ1_sum2',\n",
    "    't2_champ2_sum1', 't2_champ2_sum2', 't2_champ3_sum1', 't2_champ3_sum2',\n",
    "    't2_champ4_sum1', 't2_champ4_sum2', 't2_champ5_sum1', 't2_champ5_sum2'\n",
    "]\n",
    "alle_games_ids = pd.unique(pd.concat([df_games2[spalte] for spalte in spell_spalten]))\n",
    "ungültige_ids = set(alle_games_ids) - gültige_ids\n",
    "\n",
    "print(\"Ungültige oder unbekannte Spell-IDs im Games-Datensatz:\")\n",
    "print(sorted(ungültige_ids))"
   ]
  },
  {
   "cell_type": "markdown",
   "id": "816c1bed",
   "metadata": {},
   "source": [
    "### Summoner Spells nach Häufigkeit im Games-Datensatz zählen und mit Level-Voraussetzung vergleichen"
   ]
  },
  {
   "cell_type": "code",
   "execution_count": 42,
   "id": "5d69a61b",
   "metadata": {},
   "outputs": [
    {
     "name": "stdout",
     "output_type": "stream",
     "text": [
      "Spell-Häufigkeit und zugehörige Mindestlevel:\n",
      "   id  verwendung      name  summonerLevel\n",
      "0   4      504121     Flash              8\n",
      "1  12      109401  Teleport              6\n",
      "2   7      108043      Heal              1\n",
      "3  11      103062     Smite             10\n",
      "4  14       88258    Ignite             10\n",
      "5   3       84576   Exhaust              4\n",
      "6  21       14880   Barrier              4\n",
      "7   6       14305     Ghost              1\n",
      "8   1        3154   Cleanse              6\n"
     ]
    }
   ],
   "source": [
    "spell_spalten = [\n",
    "    't1_champ1_sum1', 't1_champ1_sum2', 't1_champ2_sum1', 't1_champ2_sum2',\n",
    "    't1_champ3_sum1', 't1_champ3_sum2', 't1_champ4_sum1', 't1_champ4_sum2',\n",
    "    't1_champ5_sum1', 't1_champ5_sum2', 't2_champ1_sum1', 't2_champ1_sum2',\n",
    "    't2_champ2_sum1', 't2_champ2_sum2', 't2_champ3_sum1', 't2_champ3_sum2',\n",
    "    't2_champ4_sum1', 't2_champ4_sum2', 't2_champ5_sum1', 't2_champ5_sum2'\n",
    "]\n",
    "alle_spells = pd.concat([df_games2[spalte] for spalte in spell_spalten])\n",
    "spell_counts = alle_spells.value_counts().reset_index()\n",
    "spell_counts.columns = ['id', 'verwendung']\n",
    "verwendung_mit_level = spell_counts.merge(df_spells[['id', 'name', 'summonerLevel']], on='id', how='left')\n",
    "\n",
    "print(\"Spell-Häufigkeit und zugehörige Mindestlevel:\")\n",
    "print(verwendung_mit_level.sort_values(by='verwendung', ascending=False))\n",
    "\n",
    "# Hier ist das Accountlevel gemeint."
   ]
  },
  {
   "cell_type": "markdown",
   "id": "50b3188e",
   "metadata": {},
   "source": [
    "### Sind die key-Werte (SummonerFlash, SummonerTeleport etc.) im Info-Datensatz 1:1 auflösbar aus dem Games-Datensatz?"
   ]
  },
  {
   "cell_type": "code",
   "execution_count": 43,
   "id": "309a7484",
   "metadata": {},
   "outputs": [
    {
     "name": "stdout",
     "output_type": "stream",
     "text": [
      "Spell-IDs aus dem Games-Datensatz ohne zugeordneten key im Info-Datensatz:\n",
      "[]\n"
     ]
    }
   ],
   "source": [
    "spell_spalten = [\n",
    "    't1_champ1_sum1', 't1_champ1_sum2', 't1_champ2_sum1', 't1_champ2_sum2',\n",
    "    't1_champ3_sum1', 't1_champ3_sum2', 't1_champ4_sum1', 't1_champ4_sum2',\n",
    "    't1_champ5_sum1', 't1_champ5_sum2', 't2_champ1_sum1', 't2_champ1_sum2',\n",
    "    't2_champ2_sum1', 't2_champ2_sum2', 't2_champ3_sum1', 't2_champ3_sum2',\n",
    "    't2_champ4_sum1', 't2_champ4_sum2', 't2_champ5_sum1', 't2_champ5_sum2'\n",
    "]\n",
    "games_ids = pd.unique(pd.concat([df_games2[spalte] for spalte in spell_spalten]))\n",
    "keys_mapping = df_spells[df_spells['id'].isin(games_ids)][['id', 'key']]\n",
    "fehlende_keys = set(games_ids) - set(keys_mapping['id'])\n",
    "\n",
    "print(\"Spell-IDs aus dem Games-Datensatz ohne zugeordneten key im Info-Datensatz:\")\n",
    "print(sorted(fehlende_keys))"
   ]
  },
  {
   "cell_type": "markdown",
   "id": "7b22bf32",
   "metadata": {},
   "source": [
    "### Abspeichern und eine Copi erstellen"
   ]
  },
  {
   "cell_type": "code",
   "execution_count": 44,
   "id": "de539cc8",
   "metadata": {},
   "outputs": [
    {
     "name": "stdout",
     "output_type": "stream",
     "text": [
      "Sicherheitskopie erfolgreich gespeichert: 'Summoner_spell2.csv'\n"
     ]
    }
   ],
   "source": [
    "df_spells.to_csv(\"Summoner_spell2.csv\", index=False)\n",
    "print(\"Sicherheitskopie erfolgreich gespeichert: 'Summoner_spell2.csv'\")"
   ]
  }
 ],
 "metadata": {
  "kernelspec": {
   "display_name": "Python 3",
   "language": "python",
   "name": "python3"
  },
  "language_info": {
   "codemirror_mode": {
    "name": "ipython",
    "version": 3
   },
   "file_extension": ".py",
   "mimetype": "text/x-python",
   "name": "python",
   "nbconvert_exporter": "python",
   "pygments_lexer": "ipython3",
   "version": "3.13.2"
  }
 },
 "nbformat": 4,
 "nbformat_minor": 5
}
